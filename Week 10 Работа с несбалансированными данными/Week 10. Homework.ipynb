{
 "cells": [
  {
   "cell_type": "markdown",
   "metadata": {},
   "source": [
    "# Неделя 10. Работа с несбалансированными данными"
   ]
  },
  {
   "cell_type": "markdown",
   "metadata": {},
   "source": [
    "[Ссылка на гугл-форму для ответов](https://forms.gle/VthRvJUSMQr9TqRj9) \n",
    "\n",
    "Дедлайн: **02.05.20** включительно."
   ]
  },
  {
   "cell_type": "code",
   "execution_count": 127,
   "metadata": {},
   "outputs": [],
   "source": [
    "import matplotlib.pyplot as plt\n",
    "import seaborn as sns\n",
    "\n",
    "import numpy as np\n",
    "import pandas as pd\n",
    "import imblearn\n",
    "from sklearn.model_selection import train_test_split\n",
    "\n",
    "\n",
    "import warnings\n",
    "warnings.filterwarnings('ignore')"
   ]
  },
  {
   "cell_type": "markdown",
   "metadata": {},
   "source": [
    "### <font color='scarlett'> Для получения верных отвтеов необходимы следующие версии бибилотек:"
   ]
  },
  {
   "cell_type": "markdown",
   "metadata": {
    "scrolled": true
   },
   "source": [
    "print(sklearn.__version__)\n",
    "print(imblearn.__version__)"
   ]
  },
  {
   "cell_type": "markdown",
   "metadata": {},
   "source": [
    "0.21.3\n",
    "0.4.3"
   ]
  },
  {
   "cell_type": "markdown",
   "metadata": {},
   "source": [
    "## <font color=\"purple\"> Загрузка данных\n",
    "\n",
    "В используемом наборе данных собрана информация об оттоке клиентов телекоммуникационной компании.\n",
    "\n",
    "__Задача__: определить лояльность клиента\n",
    "\n",
    "    Признак \"churn\": 1 - перестал быть клиентом, 0 - продолжил пользоваться услугами компании\n",
    "    \n",
    "    Верно определяя абонентов, которые могут отказаться от услуг компании, бизнес может предпринять меры и минимизировать отток клиентов. Например, предлагать персональные скидки, предоставлять пакеты минут и т.п."
   ]
  },
  {
   "cell_type": "code",
   "execution_count": 128,
   "metadata": {},
   "outputs": [
    {
     "data": {
      "text/plain": [
       "(3333, 21)"
      ]
     },
     "execution_count": 128,
     "metadata": {},
     "output_type": "execute_result"
    }
   ],
   "source": [
    "data = pd.read_csv(\"churn.csv\")\n",
    "data.shape"
   ]
  },
  {
   "cell_type": "code",
   "execution_count": 129,
   "metadata": {},
   "outputs": [
    {
     "data": {
      "text/plain": [
       "<matplotlib.axes._subplots.AxesSubplot at 0x208e429e508>"
      ]
     },
     "execution_count": 129,
     "metadata": {},
     "output_type": "execute_result"
    },
    {
     "data": {
      "image/png": "[encoded data removed]",
      "text/plain": [
       "<Figure size 432x288 with 1 Axes>"
      ]
     },
     "metadata": {},
     "output_type": "display_data"
    }
   ],
   "source": [
    "# посмотрим на распределение\n",
    "sns.set(style=\"darkgrid\")\n",
    "sns.countplot(x=\"churn\", data=data)"
   ]
  },
  {
   "cell_type": "code",
   "execution_count": 130,
   "metadata": {},
   "outputs": [
    {
     "data": {
      "text/plain": [
       "False    2850\n",
       "True      483\n",
       "Name: churn, dtype: int64"
      ]
     },
     "execution_count": 130,
     "metadata": {},
     "output_type": "execute_result"
    }
   ],
   "source": [
    "data['churn'].value_counts()"
   ]
  },
  {
   "cell_type": "markdown",
   "metadata": {},
   "source": [
    "Очевидно, что большинство абонентов не отказываются от услуг. Компании необходимо разработать классификатор, находящий как можно больше редких недовольных клиентов. "
   ]
  },
  {
   "cell_type": "code",
   "execution_count": 131,
   "metadata": {},
   "outputs": [],
   "source": [
    "# уберем колонки Штат абонента, Тел.номер абонента\n",
    "data.drop(['state','phone number'],axis=1,inplace=True)"
   ]
  },
  {
   "cell_type": "code",
   "execution_count": 132,
   "metadata": {},
   "outputs": [],
   "source": [
    "# закодируем категориальные переменные\n",
    "data[\"international plan\"] = data[\"international plan\"].map({\"no\":0,\"yes\":1})\n",
    "data[\"voice mail plan\"] = data[\"voice mail plan\"].map({\"no\":0,\"yes\":1})"
   ]
  },
  {
   "cell_type": "markdown",
   "metadata": {},
   "source": [
    "## <font color=\"purple\"> Разделение выборки на обучение и контроль\n",
    "\n",
    "Не забудем указать стратификацию по целевой переменной, чтобы сохранить исходное распределение классов."
   ]
  },
  {
   "cell_type": "code",
   "execution_count": 133,
   "metadata": {},
   "outputs": [
    {
     "data": {
      "text/plain": [
       "((2666, 19), (667, 19))"
      ]
     },
     "execution_count": 133,
     "metadata": {},
     "output_type": "execute_result"
    }
   ],
   "source": [
    "train, test = train_test_split(data, test_size=0.2, stratify=data['churn'], random_state=1)\n",
    "train.shape, test.shape"
   ]
  },
  {
   "cell_type": "code",
   "execution_count": 134,
   "metadata": {},
   "outputs": [
    {
     "data": {
      "text/plain": [
       "((2666, 18), (2666,), (667, 18), (667,))"
      ]
     },
     "execution_count": 134,
     "metadata": {},
     "output_type": "execute_result"
    }
   ],
   "source": [
    "X_train = train.drop('churn', axis=1)\n",
    "y_train = train['churn'].astype(int)\n",
    "\n",
    "X_test = test.drop('churn', axis=1)\n",
    "y_test = test['churn'].astype(int)\n",
    "\n",
    "X_train.shape, y_train.shape, X_test.shape, y_test.shape"
   ]
  },
  {
   "cell_type": "code",
   "execution_count": 135,
   "metadata": {},
   "outputs": [
    {
     "data": {
      "text/plain": [
       "<matplotlib.axes._subplots.AxesSubplot at 0x208e4015308>"
      ]
     },
     "execution_count": 135,
     "metadata": {},
     "output_type": "execute_result"
    },
    {
     "data": {
      "image/png": "[encoded data removed]",
      "text/plain": [
       "<Figure size 432x288 with 1 Axes>"
      ]
     },
     "metadata": {},
     "output_type": "display_data"
    }
   ],
   "source": [
    "sns.countplot(x=\"churn\", data=train)"
   ]
  },
  {
   "cell_type": "code",
   "execution_count": 136,
   "metadata": {},
   "outputs": [
    {
     "data": {
      "text/plain": [
       "<matplotlib.axes._subplots.AxesSubplot at 0x208e41b8c08>"
      ]
     },
     "execution_count": 136,
     "metadata": {},
     "output_type": "execute_result"
    },
    {
     "data": {
      "image/png": "[encoded data removed]",
      "text/plain": [
       "<Figure size 432x288 with 1 Axes>"
      ]
     },
     "metadata": {},
     "output_type": "display_data"
    }
   ],
   "source": [
    "sns.countplot(x=\"churn\", data=test)"
   ]
  },
  {
   "cell_type": "markdown",
   "metadata": {},
   "source": [
    "## <font color=\"purple\"> Кросс-валидация"
   ]
  },
  {
   "cell_type": "markdown",
   "metadata": {},
   "source": [
    "### <font color='orange'> __Важно!__\n",
    "\n",
    "Подбор оптимальной стратегии ресемплинга необходимо производить на кросс-валидации. Таким образом мы избежим подстраивания под данные тестовой выборки. Это позволит получить реалистичную оценку качества построенной модели."
   ]
  },
  {
   "cell_type": "markdown",
   "metadata": {},
   "source": [
    "### Задание 1. \n",
    "\n",
    "В качестве бейзлайна построим логистическую регрессию. \n",
    "1. Для оценки качества воспользуйтесь функцией cross_val_score из библиотеки sklearn.\n",
    "    - Подумайте, какую стратегию кросс-валидации применить. Выберите нужную, укажите разбиение на 5 фолдов.\n",
    "    - В качестве оцениваемой метрики выберите полноту.\n",
    "    - Определите среднее значение, вовзращаемое функцией (используйте метод .mean()).\n",
    "3. Ответ округлите до трех знаков после запятой. Внесите в гугл-форму __\"Вопрос 1\"__.\n",
    "\n",
    "__NB__: Для воспроизводимости результатов и получения правильного ответа __во всех алгоритмах и методах__ нужно установить параметр random_seed=1!"
   ]
  },
  {
   "cell_type": "code",
   "execution_count": 137,
   "metadata": {},
   "outputs": [],
   "source": [
    "#### ваш код ####\n",
    "from sklearn.model_selection import cross_val_score, StratifiedKFold\n",
    "from sklearn.linear_model import LogisticRegression\n",
    "from sklearn.metrics import recall_score\n",
    "\n",
    "from imblearn.over_sampling import RandomOverSampler, SMOTE\n",
    "from imblearn.under_sampling import RandomUnderSampler, NearMiss, TomekLinks, EditedNearestNeighbours\n",
    "from imblearn.combine import SMOTETomek, SMOTEENN"
   ]
  },
  {
   "cell_type": "code",
   "execution_count": 138,
   "metadata": {},
   "outputs": [
    {
     "name": "stdout",
     "output_type": "stream",
     "text": [
      "[0.14102564 0.14285714 0.27272727 0.22077922 0.18181818]\n"
     ]
    },
    {
     "data": {
      "text/plain": [
       "0.192"
      ]
     },
     "execution_count": 138,
     "metadata": {},
     "output_type": "execute_result"
    }
   ],
   "source": [
    "model = LogisticRegression(random_state=1)\n",
    "kf = StratifiedKFold(n_splits=5, random_state=1)\n",
    "results = cross_val_score(model, X_train, y_train, cv=kf, scoring='recall')\n",
    "print(results)\n",
    "round(np.mean(results), 3)"
   ]
  },
  {
   "cell_type": "code",
   "execution_count": 139,
   "metadata": {
    "scrolled": false
   },
   "outputs": [],
   "source": [
    "strategies = {\n",
    "    'RandomOverSampler' : RandomOverSampler(sampling_strategy='minority', random_state=1).fit_sample(X_train, y_train),\n",
    "    'SMOTE' : SMOTE(random_state=1).fit_sample(X_train, y_train),\n",
    "    'RandomUnderSampler' : RandomUnderSampler(random_state=1).fit_sample(X_train, y_train),\n",
    "    'NearMiss' : NearMiss(random_state=1).fit_sample(X_train, y_train),\n",
    "    'TomekLinks': TomekLinks(random_state=1).fit_sample(X_train, y_train),\n",
    "    'EditedNearestNeighbours' : EditedNearestNeighbours(random_state=1).fit_sample(X_train, y_train),\n",
    "    'SMOTETomek' : SMOTETomek(random_state=1).fit_sample(X_train, y_train),\n",
    "    'SMOTEENN' : SMOTEENN(random_state=1).fit_sample(X_train, y_train)\n",
    "}"
   ]
  },
  {
   "cell_type": "code",
   "execution_count": 140,
   "metadata": {
    "scrolled": false
   },
   "outputs": [],
   "source": [
    "model = LogisticRegression(random_state=1)\n",
    "scores = []\n",
    "for strategie in strategies:\n",
    "    x = strategies[strategie][0]\n",
    "    y = strategies[strategie][1]\n",
    "    result_cvs = cross_val_score(model, x, y, cv=5, scoring='recall')\n",
    "    mean = np.mean(result_cvs)\n",
    "    scores.append(round(mean,3))\n"
   ]
  },
  {
   "cell_type": "code",
   "execution_count": 141,
   "metadata": {},
   "outputs": [
    {
     "data": {
      "text/plain": [
       "0.877"
      ]
     },
     "execution_count": 141,
     "metadata": {},
     "output_type": "execute_result"
    }
   ],
   "source": [
    "max(scores)"
   ]
  },
  {
   "cell_type": "code",
   "execution_count": 142,
   "metadata": {},
   "outputs": [
    {
     "data": {
      "text/plain": [
       "Text(0.5, 1.0, 'cross_val_score for Resampling strategie')"
      ]
     },
     "execution_count": 142,
     "metadata": {},
     "output_type": "execute_result"
    },
    {
     "data": {
      "image/png": "[encoded data removed]",
      "text/plain": [
       "<Figure size 432x288 with 1 Axes>"
      ]
     },
     "metadata": {},
     "output_type": "display_data"
    }
   ],
   "source": [
    "plt.xticks(rotation=90)\n",
    "plt.plot(list(strategies.keys()), scores)\n",
    "plt.ylabel('cross_val_score')\n",
    "plt.title('cross_val_score for Resampling strategie')"
   ]
  },
  {
   "cell_type": "markdown",
   "metadata": {},
   "source": [
    "### Задание 2."
   ]
  },
  {
   "cell_type": "markdown",
   "metadata": {},
   "source": [
    "1. Допишите функцию K-fold валидации (resamped_cv_scores), позволяющую произвести ресемплинг на K-1 фолдах, не затронув тестовый фолд. Функция принимает на вход объект алгоритма классификации, датафрейм признаков (независимых переменных), целевую переменную. Функция должна возвращать среднюю (используйте метод .mean()) оценку качества модели по всем K-фолдам.\n",
    "\n",
    "2. В качестве алгоритма классификации используйте логистическую регрессию.\n",
    "\n",
    "3. Ответ округлите до трех знаков после запятой. Внесите в гугл-форму __\"Вопрос 2\"__.\n",
    "\n",
    "__NB__: Для воспроизводимости результатов и получения правильного ответа __во всех алгоритмах и методах__ нужно установить параметр random_seed=1!"
   ]
  },
  {
   "cell_type": "code",
   "execution_count": 143,
   "metadata": {},
   "outputs": [],
   "source": [
    "def resamped_cv_scores(model, X, y):\n",
    "    # Выбрать подходящий объект для кросс-валидации из классов sklearn.model_selection,\n",
    "    # разбить выборку на 5 фолдов\n",
    "    kfold = StratifiedKFold(n_splits=5, random_state=1)\n",
    "    folds = list(kfold.split(X, y))\n",
    "    #print(folds)\n",
    "    \n",
    "    train_folds, test_folds = [], []\n",
    "    for fold in folds:\n",
    "        \n",
    "        #fold[0] - список индексов для train выборки\n",
    "        #fold[1] - список индексов для test выборки\n",
    "        \n",
    "        X_train_fun, X_test_fun = X.iloc[fold[0]], X.iloc[fold[1]]\n",
    "        y_train_fun, y_test_fun = y.iloc[fold[0]], y.iloc[fold[1]]\n",
    "        \n",
    "        #X_train_fun, X_test_fun = X.drop(labels=fold[1], axis=0), X.drop(labels=fold[0], axis=0)\n",
    "        #y_train_fun, y_test_fun = y.drop(labels=fold[1], axis=0), y.drop(labels=fold[0], axis=0)\n",
    "        train_folds.append([X_train_fun, y_train_fun])\n",
    "        test_folds.append([X_test_fun, y_test_fun])\n",
    "     \n",
    "    \n",
    "    #### ваш код ####\n",
    "    \n",
    "    # Выбрать алгоритм из библиотеки imblearn, производящий oversampling с \n",
    "    # последующим очищением с помощью алгоритма k-ближайших соседей.\n",
    "    # Все параметры оставьте по умолчанию, кроме random_state.\n",
    "    \n",
    "    alg = SMOTEENN(random_state=1)\n",
    "        \n",
    "    #### ваш код #### \n",
    "    cv_scores = []\n",
    "    for i in range(5):\n",
    "        # Делаем ресемплинг на трейне\n",
    "        X_resampled, y_resampled = alg.fit_sample(train_folds[i][0], train_folds[i][1])\n",
    "    \n",
    "        # Обучаем модель на данных трейна после ресемплинга\n",
    "        model_obj = model.fit(X_resampled, y_resampled)\n",
    "        \n",
    "        # Оцениваем качество модели на тестовой выборке, не подвергавшейся ресемплингу\n",
    "        # Необходимая нам метрика - полнота модели\n",
    "        predicted = model_obj.predict(test_folds[i][0])\n",
    "        cv_scores.append(recall_score(test_folds[i][1], predicted))\n",
    "        \n",
    "        #### ваш код ####\n",
    "        \n",
    "    return np.mean(cv_scores)"
   ]
  },
  {
   "cell_type": "code",
   "execution_count": 144,
   "metadata": {},
   "outputs": [],
   "source": [
    "X_train = train.drop('churn', axis=1)\n",
    "y_train = train['churn'].astype(int)"
   ]
  },
  {
   "cell_type": "code",
   "execution_count": 145,
   "metadata": {
    "scrolled": true
   },
   "outputs": [
    {
     "data": {
      "text/plain": [
       "0.826"
      ]
     },
     "execution_count": 145,
     "metadata": {},
     "output_type": "execute_result"
    }
   ],
   "source": [
    "#### ваш код ####\n",
    "X_data = data.drop('churn', axis=1)\n",
    "y_data = data['churn'].astype(int)\n",
    "model = LogisticRegression(random_state=1)\n",
    "result_func = resamped_cv_scores(model, X_train, y_train)\n",
    "round(result_func, 3)"
   ]
  },
  {
   "cell_type": "markdown",
   "metadata": {},
   "source": [
    "## <font color=\"purple\"> Немного теории"
   ]
  },
  {
   "cell_type": "markdown",
   "metadata": {},
   "source": [
    "### Задание 3\n",
    "\n",
    "В предыдущем задании вами была использована одна из модификаций метода oversampling с последующим удалением объектов, определяемых с помощью k-ближайших соседей. Кратко и точно объясните правило, по которому выбирались объекты для удаления __конкретно__ в нашем примере.\n",
    "\n",
    "\n",
    "- Ответ внесите в гугл-форму __\"Вопрос 3\"__."
   ]
  },
  {
   "cell_type": "markdown",
   "metadata": {},
   "source": [
    "### Задание 4\n",
    "\n",
    "На лекции мы познакомились с контролируемым методом undersampling'а - NearMiss. Мы разобрали работу одной из трех вариаций алгоритма. Кстати, именно ту, что заложена по умолчанию в библиотеки imblearn.\n",
    "\n",
    "1. Кратко объясните, как работает NearMiss-2.\n",
    "    - Ответ внесите в гугл-форму __\"Вопрос 4.1\"__.\n",
    "\n",
    "\n",
    "2. Кратко объясните, как работает NearMiss-3.\n",
    "    - Ответ внесите в гугл-форму __\"Вопрос 4.2\"__."
   ]
  },
  {
   "cell_type": "markdown",
   "metadata": {},
   "source": [
    "## <font color=\"purple\"> Моделирование и тестирование"
   ]
  },
  {
   "cell_type": "markdown",
   "metadata": {},
   "source": [
    "### Задание 5\n",
    "\n",
    "На кросс-валидации мы убедились, что качество модели улучшается при использовании методов ресемплинга. Теперь мы построим модель и оценим качество классификации.\n",
    "\n",
    "- Произведите ресемплинг обучающей выборки с помощью метода, использованного вами в __Задание 2__. На полученных данных обучите алгоритм логистической регрессии. Сделайте прогнозы на тестовой выборке.\n",
    "- Отрисуйте матрицу ошибок с помощью функции draw_cm.\n",
    "- Выведите classification_report для быстрой оценки метрик по обоим классам.\n",
    "\n",
    "Вопросы:\n",
    "\n",
    "1. Сколько __новых__ синтетических примеров было сгенерировано классом, который вы использовали для ресемплинга. \n",
    "    - Ответ запишите в гугл-форму __\"Вопрос 5.1\"__.\n",
    "    \n",
    "    \n",
    "2. Как называются объекты указаные в левом нижнем углу и в правом верхнем углу матрицы ошибок? Попробуйте поиграть с параметром normalize. Обратите внимание на подписи к осям.\n",
    "    - Ответ запишите в гугл-форму __\"Вопрос 5.2\"__.\n",
    "    \n",
    "    \n",
    "3. Какую из четырех категорий хочет минимизировать телекоммуникационная компания, если хочет сохранить как можно больше клиентов? Какую максимизировать?\n",
    "    - Ответ запишите в гугл-форму __\"Вопрос 5.3\"__.\n",
    "    \n",
    "    \n",
    "__NB__: Для воспроизводимости результатов и получения правильного ответа __во всех алгоритмах и методах__ нужно установить параметр random_seed=1!"
   ]
  },
  {
   "cell_type": "code",
   "execution_count": 146,
   "metadata": {},
   "outputs": [],
   "source": [
    "from sklearn.metrics import classification_report, confusion_matrix"
   ]
  },
  {
   "cell_type": "code",
   "execution_count": 147,
   "metadata": {},
   "outputs": [],
   "source": [
    "def draw_cm(cm, classes, normalize=True):\n",
    "    \"\"\"\n",
    "    Функция для отрисовки матрицы ошибок\n",
    "        cm: Матрица ошибок\n",
    "        classes: список классов\n",
    "    \"\"\"\n",
    "    cm_norm = cm.astype('float') / cm.sum(axis=1)[:, np.newaxis]\n",
    "    plt.figure(figsize = (6,5))\n",
    "    \n",
    "    if normalize:\n",
    "        df_cm = pd.DataFrame(cm_norm, index = [i for i in classes],\n",
    "                             columns = [i for i in classes])\n",
    "        sns.heatmap(df_cm, annot=True, cmap=\"Blues\", fmt='.2g')\n",
    "    else:\n",
    "        df_cm = pd.DataFrame(cm, index = [i for i in classes],\n",
    "                         columns = [i for i in classes])\n",
    "        sns.heatmap(df_cm, annot=True, cmap=\"Blues\", fmt='g')\n",
    "        \n",
    "    plt.title('Матрица ошибок', fontsize=15)\n",
    "    plt.xlabel('Истинный класс', fontsize=12)\n",
    "    plt.ylabel('Предсказанный класс', fontsize=12)"
   ]
  },
  {
   "cell_type": "code",
   "execution_count": 148,
   "metadata": {},
   "outputs": [],
   "source": [
    "#### ваш код ####\n",
    "model = LogisticRegression(random_state=1) \n",
    "X_resampled, y_resampled = SMOTEENN(random_state=1).fit_sample(X_train, y_train)\n",
    "model.fit(X_resampled, y_resampled)\n",
    "predicted = model.predict(X_test)"
   ]
  },
  {
   "cell_type": "code",
   "execution_count": 149,
   "metadata": {},
   "outputs": [
    {
     "data": {
      "text/plain": [
       "((2666, 18), (2666,))"
      ]
     },
     "execution_count": 149,
     "metadata": {},
     "output_type": "execute_result"
    }
   ],
   "source": [
    "X_train.shape, y_train.shape"
   ]
  },
  {
   "cell_type": "code",
   "execution_count": 150,
   "metadata": {},
   "outputs": [
    {
     "data": {
      "text/plain": [
       "784"
      ]
     },
     "execution_count": 150,
     "metadata": {},
     "output_type": "execute_result"
    }
   ],
   "source": [
    "X_resampled.shape[0] - X_train.shape[0]"
   ]
  },
  {
   "cell_type": "code",
   "execution_count": 151,
   "metadata": {},
   "outputs": [
    {
     "name": "stdout",
     "output_type": "stream",
     "text": [
      "              precision    recall  f1-score   support\n",
      "\n",
      "           0       0.96      0.66      0.78       570\n",
      "           1       0.29      0.82      0.43        97\n",
      "\n",
      "    accuracy                           0.68       667\n",
      "   macro avg       0.62      0.74      0.61       667\n",
      "weighted avg       0.86      0.68      0.73       667\n",
      "\n",
      "[[376 194]\n",
      " [ 17  80]]\n",
      "0.825\n"
     ]
    },
    {
     "data": {
      "image/png": "[encoded data removed]",
      "text/plain": [
       "<Figure size 432x360 with 2 Axes>"
      ]
     },
     "metadata": {},
     "output_type": "display_data"
    }
   ],
   "source": [
    "cl_report = classification_report(y_test, predicted)\n",
    "print(cl_report)\n",
    "cm = confusion_matrix(y_test, predicted)\n",
    "print(cm)\n",
    "print(round(recall_score(y_test, predicted), 3))\n",
    "draw_cm(cm, [1, 0])"
   ]
  },
  {
   "cell_type": "markdown",
   "metadata": {},
   "source": [
    "## <font color=\"purple\"> Обучение ансамблей на сбалансированных подвыборках"
   ]
  },
  {
   "cell_type": "markdown",
   "metadata": {},
   "source": [
    "### Задание 6\n",
    "\n",
    "Библиотека imblearn также предоставляет возможность обучения ансамблей на сбалансированных подвыборках. Примером может служить класс BalancedRandomForestClassifier.\n",
    "\n",
    "1. Кратко опишите, как работает реализация данного класса.\n",
    "    - Ответ запишите в гугл-форму __\"Вопрос 6.1\"__\n",
    "\n",
    "\n",
    "2. Импортируйте класс в ноутбук и постройте с его помощью классификатор. \n",
    "        - Все параметры оставьте по умолчанию, кроме двух: глубину дерева установите равной 3, random_state=1.\n",
    "        - Создайте прогнозы на тестовой выборке.\n",
    "        - Отрисуйте матрицу ошибок с помощью функции draw_cm.\n",
    "        - Выведите classification_report для быстрой оценки метрик по обоим классам.\n",
    "\n",
    "3. Оцените полноту модели. Ответ округлите до трех знаков после запятой.\n",
    "    - Ответ запишите в гугл-форму __\"Вопрос 6.2\"__\n",
    "    \n",
    "    \n",
    "4. Исследуйте созданный вами classification_report. По сравнению с моделью в __Задании 5__ увеличилась ли полнота мажорного класа, минорного класса или обоих классов??\n",
    "    - Ответ запишите в гугл-форму __\"Вопрос 6.3\"__\n",
    "    \n",
    "__NB__: Для воспроизводимости результатов и получения правильного ответа __во всех алгоритмах и методах__ нужно установить параметр random_seed=1!"
   ]
  },
  {
   "cell_type": "code",
   "execution_count": 152,
   "metadata": {},
   "outputs": [],
   "source": [
    "from imblearn.ensemble import BalancedRandomForestClassifier"
   ]
  },
  {
   "cell_type": "code",
   "execution_count": 153,
   "metadata": {},
   "outputs": [],
   "source": [
    "#### ваш код ####"
   ]
  },
  {
   "cell_type": "code",
   "execution_count": 154,
   "metadata": {},
   "outputs": [],
   "source": [
    "alg = BalancedRandomForestClassifier(max_depth=3, random_state=1)\n",
    "alg.fit(X_train, y_train)\n",
    "predicted = alg.predict(X_test)"
   ]
  },
  {
   "cell_type": "code",
   "execution_count": 155,
   "metadata": {},
   "outputs": [
    {
     "data": {
      "text/plain": [
       "((2666, 18), (2666,))"
      ]
     },
     "execution_count": 155,
     "metadata": {},
     "output_type": "execute_result"
    }
   ],
   "source": [
    "X_train.shape, y_train.shape"
   ]
  },
  {
   "cell_type": "code",
   "execution_count": 156,
   "metadata": {},
   "outputs": [
    {
     "name": "stdout",
     "output_type": "stream",
     "text": [
      "              precision    recall  f1-score   support\n",
      "\n",
      "           0       0.97      0.88      0.92       570\n",
      "           1       0.55      0.85      0.66        97\n",
      "\n",
      "    accuracy                           0.88       667\n",
      "   macro avg       0.76      0.86      0.79       667\n",
      "weighted avg       0.91      0.88      0.89       667\n",
      "\n",
      "[[502  68]\n",
      " [ 15  82]]\n",
      "0.845\n"
     ]
    },
    {
     "data": {
      "image/png": "[encoded data removed]",
      "text/plain": [
       "<Figure size 432x360 with 2 Axes>"
      ]
     },
     "metadata": {},
     "output_type": "display_data"
    }
   ],
   "source": [
    "cl_report = classification_report(y_test, predicted)\n",
    "print(cl_report)\n",
    "cm = confusion_matrix(y_test, predicted)\n",
    "print(cm)\n",
    "print(round(recall_score(y_test, predicted), 3))\n",
    "draw_cm(cm, [1, 0])"
   ]
  },
  {
   "cell_type": "code",
   "execution_count": null,
   "metadata": {},
   "outputs": [],
   "source": []
  },
  {
   "cell_type": "code",
   "execution_count": null,
   "metadata": {},
   "outputs": [],
   "source": []
  },
  {
   "cell_type": "code",
   "execution_count": null,
   "metadata": {},
   "outputs": [],
   "source": []
  },
  {
   "cell_type": "code",
   "execution_count": null,
   "metadata": {},
   "outputs": [],
   "source": []
  },
  {
   "cell_type": "code",
   "execution_count": null,
   "metadata": {},
   "outputs": [],
   "source": []
  }
 ],
 "metadata": {
  "kernelspec": {
   "display_name": "Python 3",
   "language": "python",
   "name": "python3"
  },
  "language_info": {
   "codemirror_mode": {
    "name": "ipython",
    "version": 3
   },
   "file_extension": ".py",
   "mimetype": "text/x-python",
   "name": "python",
   "nbconvert_exporter": "python",
   "pygments_lexer": "ipython3",
   "version": "3.7.6"
  }
 },
 "nbformat": 4,
 "nbformat_minor": 2
}
