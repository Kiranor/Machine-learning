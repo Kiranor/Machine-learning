{
 "cells": [
  {
   "cell_type": "markdown",
   "metadata": {
    "colab_type": "text",
    "id": "uAesqiTjUVii"
   },
   "source": [
    "# Неделя 7. Градиентный бустинг."
   ]
  },
  {
   "cell_type": "markdown",
   "metadata": {
    "colab_type": "text",
    "id": "YBHY5omDUVik"
   },
   "source": [
    "[Ссылка на форму с вопросами](https://forms.gle/gPevc4GKscG2wiWo6) \n",
    "\n",
    "Дэдлайн: **8.04.20** включительно. "
   ]
  },
  {
   "cell_type": "code",
   "execution_count": 0,
   "metadata": {
    "colab": {},
    "colab_type": "code",
    "id": "_5SFuAuXUVik",
    "outputId": "97142604-2dfe-402f-bc0e-317d693a322d"
   },
   "outputs": [
    {
     "name": "stdout",
     "output_type": "stream",
     "text": [
      "Populating the interactive namespace from numpy and matplotlib\n"
     ]
    }
   ],
   "source": [
    "import pandas as pd\n",
    "import numpy as np\n",
    "import seaborn as sns\n",
    "from sklearn.datasets import fetch_california_housing\n",
    "from sklearn.model_selection import train_test_split, cross_validate\n",
    "from sklearn.tree import DecisionTreeRegressor\n",
    "from sklearn.metrics import mean_squared_error\n",
    "from sklearn.ensemble import GradientBoostingRegressor\n",
    "from sklearn.neighbors import KNeighborsRegressor\n",
    "from sklearn.linear_model import LinearRegression\n",
    "from sklearn.model_selection import KFold\n",
    "from tqdm.notebook import tqdm\n",
    "from xgboost import XGBRegressor\n",
    "\n",
    "%pylab inline\n",
    "\n",
    "RANDOM_SEED = 0"
   ]
  },
  {
   "cell_type": "markdown",
   "metadata": {
    "colab_type": "raw",
    "id": "ZJXBV4NeUViq"
   },
   "source": [
    "# Устнановка модулей нужной версии, в случае необходимости.\n",
    "!pip install xgboost==1.0.2\n",
    "!pip install scikit-learn==0.22.1\n",
    "!pip install hyperopt==0.2.3"
   ]
  },
  {
   "cell_type": "code",
   "execution_count": 0,
   "metadata": {
    "colab": {},
    "colab_type": "code",
    "id": "0cSwHp3eUVir",
    "outputId": "0bb84e1e-a5c6-44ee-91e1-dbb94935ffc8"
   },
   "outputs": [
    {
     "name": "stdout",
     "output_type": "stream",
     "text": [
      "Sklearn: 0.22.1,\n",
      "XGBoost: 1.0.2,\n",
      "hyperopt: 0.2.3\n"
     ]
    }
   ],
   "source": [
    "# Проверка версий библиотек\n",
    "# Sklearn: 0.22.1,\n",
    "# XGBoost: 1.0.2\n",
    "# hyperopt: 0.2.3\n",
    "import xgboost\n",
    "import sklearn\n",
    "import hyperopt\n",
    "print('Sklearn: {},\\nXGBoost: {},\\nhyperopt: {}'.format(sklearn.__version__, \n",
    "                                                        xgboost.__version__, \n",
    "                                                        hyperopt.__version__))"
   ]
  },
  {
   "cell_type": "markdown",
   "metadata": {
    "colab_type": "text",
    "id": "jlZu2bMtUViu"
   },
   "source": [
    "## Данные для эксперимента"
   ]
  },
  {
   "cell_type": "code",
   "execution_count": 0,
   "metadata": {
    "colab": {},
    "colab_type": "code",
    "id": "zuezjc7kUViu"
   },
   "outputs": [],
   "source": [
    "# Загрузим датасет california_housing\n",
    "clf_dataset = fetch_california_housing()"
   ]
  },
  {
   "cell_type": "code",
   "execution_count": 0,
   "metadata": {
    "colab": {},
    "colab_type": "code",
    "id": "TMVaqy0nUVix",
    "outputId": "277fa6e7-fd8c-4c99-ff61-9752fa348976"
   },
   "outputs": [
    {
     "data": {
      "text/plain": [
       "((20640, 8), (20640,))"
      ]
     },
     "execution_count": 23,
     "metadata": {
      "tags": []
     },
     "output_type": "execute_result"
    }
   ],
   "source": [
    "data = clf_dataset.data\n",
    "target = clf_dataset.target\n",
    "data.shape, target.shape"
   ]
  },
  {
   "cell_type": "code",
   "execution_count": 0,
   "metadata": {
    "colab": {},
    "colab_type": "code",
    "id": "Ly4ara-GUVi0",
    "outputId": "99517465-2162-4ff8-d46a-1a4b9b691a82"
   },
   "outputs": [
    {
     "data": {
      "text/plain": [
       "((2000, 8), (2000,))"
      ]
     },
     "execution_count": 24,
     "metadata": {
      "tags": []
     },
     "output_type": "execute_result"
    }
   ],
   "source": [
    "# Сделаем случайную выборку из 2000 объектов\n",
    "n_samples = 2000\n",
    "np.random.seed(RANDOM_SEED)\n",
    "samples = np.random.choice(np.arange(data.shape[0]), n_samples, replace=False)\n",
    "data = data[samples]\n",
    "target = target[samples]\n",
    "data.shape, target.shape"
   ]
  },
  {
   "cell_type": "code",
   "execution_count": 0,
   "metadata": {
    "colab": {},
    "colab_type": "code",
    "id": "pa23WqNQUVi4",
    "outputId": "21efa943-b6d9-4641-a8f8-93bf8c8ee496"
   },
   "outputs": [
    {
     "data": {
      "text/html": [
       "<div>\n",
       "<style scoped>\n",
       "    .dataframe tbody tr th:only-of-type {\n",
       "        vertical-align: middle;\n",
       "    }\n",
       "\n",
       "    .dataframe tbody tr th {\n",
       "        vertical-align: top;\n",
       "    }\n",
       "\n",
       "    .dataframe thead th {\n",
       "        text-align: right;\n",
       "    }\n",
       "</style>\n",
       "<table border=\"1\" class=\"dataframe\">\n",
       "  <thead>\n",
       "    <tr style=\"text-align: right;\">\n",
       "      <th></th>\n",
       "      <th>clm_0</th>\n",
       "      <th>clm_1</th>\n",
       "      <th>clm_2</th>\n",
       "      <th>clm_3</th>\n",
       "      <th>clm_4</th>\n",
       "      <th>clm_5</th>\n",
       "      <th>clm_6</th>\n",
       "      <th>clm_7</th>\n",
       "      <th>target</th>\n",
       "    </tr>\n",
       "  </thead>\n",
       "  <tbody>\n",
       "    <tr>\n",
       "      <td>0</td>\n",
       "      <td>4.1518</td>\n",
       "      <td>22.0</td>\n",
       "      <td>5.663073</td>\n",
       "      <td>1.075472</td>\n",
       "      <td>1551.0</td>\n",
       "      <td>4.180593</td>\n",
       "      <td>32.58</td>\n",
       "      <td>-117.05</td>\n",
       "      <td>1.369</td>\n",
       "    </tr>\n",
       "    <tr>\n",
       "      <td>1</td>\n",
       "      <td>5.7796</td>\n",
       "      <td>32.0</td>\n",
       "      <td>6.107226</td>\n",
       "      <td>0.927739</td>\n",
       "      <td>1296.0</td>\n",
       "      <td>3.020979</td>\n",
       "      <td>33.92</td>\n",
       "      <td>-117.97</td>\n",
       "      <td>2.413</td>\n",
       "    </tr>\n",
       "    <tr>\n",
       "      <td>2</td>\n",
       "      <td>4.3487</td>\n",
       "      <td>29.0</td>\n",
       "      <td>5.930712</td>\n",
       "      <td>1.026217</td>\n",
       "      <td>1554.0</td>\n",
       "      <td>2.910112</td>\n",
       "      <td>38.65</td>\n",
       "      <td>-121.84</td>\n",
       "      <td>2.007</td>\n",
       "    </tr>\n",
       "    <tr>\n",
       "      <td>3</td>\n",
       "      <td>2.4511</td>\n",
       "      <td>37.0</td>\n",
       "      <td>4.992958</td>\n",
       "      <td>1.316901</td>\n",
       "      <td>390.0</td>\n",
       "      <td>2.746479</td>\n",
       "      <td>33.20</td>\n",
       "      <td>-115.60</td>\n",
       "      <td>0.725</td>\n",
       "    </tr>\n",
       "    <tr>\n",
       "      <td>4</td>\n",
       "      <td>5.0049</td>\n",
       "      <td>25.0</td>\n",
       "      <td>4.319261</td>\n",
       "      <td>1.039578</td>\n",
       "      <td>649.0</td>\n",
       "      <td>1.712401</td>\n",
       "      <td>37.79</td>\n",
       "      <td>-122.43</td>\n",
       "      <td>4.600</td>\n",
       "    </tr>\n",
       "  </tbody>\n",
       "</table>\n",
       "</div>"
      ],
      "text/plain": [
       "    clm_0  clm_1     clm_2     clm_3   clm_4     clm_5  clm_6   clm_7  target\n",
       "0  4.1518   22.0  5.663073  1.075472  1551.0  4.180593  32.58 -117.05   1.369\n",
       "1  5.7796   32.0  6.107226  0.927739  1296.0  3.020979  33.92 -117.97   2.413\n",
       "2  4.3487   29.0  5.930712  1.026217  1554.0  2.910112  38.65 -121.84   2.007\n",
       "3  2.4511   37.0  4.992958  1.316901   390.0  2.746479  33.20 -115.60   0.725\n",
       "4  5.0049   25.0  4.319261  1.039578   649.0  1.712401  37.79 -122.43   4.600"
      ]
     },
     "execution_count": 25,
     "metadata": {
      "tags": []
     },
     "output_type": "execute_result"
    }
   ],
   "source": [
    "# Сформируем датафрейм из новой выборки, объединив его с таргетом\n",
    "full_df = pd.DataFrame(data, columns=['clm_{}'.format(i) for i in range(data.shape[1])])\n",
    "full_df['target'] = target\n",
    "full_df.head()"
   ]
  },
  {
   "cell_type": "code",
   "execution_count": 0,
   "metadata": {
    "colab": {},
    "colab_type": "code",
    "id": "ILV6Yqr2UVi7",
    "outputId": "0183479e-0c42-4b43-9146-b1afb93cc229"
   },
   "outputs": [
    {
     "data": {
      "image/png": "[encoded data removed]",
      "text/plain": [
       "<Figure size 720x360 with 1 Axes>"
      ]
     },
     "metadata": {
      "needs_background": "light",
      "tags": []
     },
     "output_type": "display_data"
    }
   ],
   "source": [
    "# Посмотрим на таргет\n",
    "plt.figure(figsize=(10,5))\n",
    "plt.title('target_mean: {}'.format(round(full_df['target'].mean(), 3)))\n",
    "full_df['target'].hist(bins=100);"
   ]
  },
  {
   "cell_type": "markdown",
   "metadata": {
    "colab_type": "text",
    "id": "QqAdsxYHUVi_"
   },
   "source": [
    "- Таргет вещественный, значит будем решать задачу регрессии.\n",
    "- Есть выброс в районе 5, на который пока не обращаем внимание."
   ]
  },
  {
   "cell_type": "code",
   "execution_count": 0,
   "metadata": {
    "colab": {},
    "colab_type": "code",
    "id": "vYSh4i6dUVjA",
    "outputId": "892c838a-1e04-4f5c-c47a-ee4a8bfcb652"
   },
   "outputs": [
    {
     "data": {
      "text/plain": [
       "((1400, 8), (600, 8), (1400,), (600,))"
      ]
     },
     "execution_count": 27,
     "metadata": {
      "tags": []
     },
     "output_type": "execute_result"
    }
   ],
   "source": [
    "# Разделим выборку на обучающую и тестовую\n",
    "X_train, X_test, y_train, y_test = train_test_split(full_df.drop('target', axis=1), \n",
    "                                                    full_df['target'], \n",
    "                                                    test_size=0.3, \n",
    "                                                    random_state=RANDOM_SEED)\n",
    "X_train.shape, X_test.shape, y_train.shape, y_test.shape"
   ]
  },
  {
   "cell_type": "markdown",
   "metadata": {
    "colab_type": "text",
    "id": "CImle0dWUVjC"
   },
   "source": [
    "## Константная модель"
   ]
  },
  {
   "cell_type": "code",
   "execution_count": 0,
   "metadata": {
    "colab": {},
    "colab_type": "code",
    "id": "dIIvjpTLUVjD",
    "outputId": "bb805c7e-da35-45ac-96b7-440d1ea1cd13"
   },
   "outputs": [
    {
     "name": "stdout",
     "output_type": "stream",
     "text": [
      "rmse_train: 1.184, rmse_test: 1.161\n"
     ]
    }
   ],
   "source": [
    "y_trn_pred = [y_train.mean()]*len(y_train)\n",
    "y_tst_pred = [y_train.mean()]*len(y_test)\n",
    "mse_train = mean_squared_error(y_train, y_trn_pred)\n",
    "mse_test = mean_squared_error(y_test, y_tst_pred)\n",
    "print('rmse_train: {}, rmse_test: {}'.format(round(np.sqrt(mse_train), 3), round(np.sqrt(mse_test), 3)))"
   ]
  },
  {
   "cell_type": "markdown",
   "metadata": {
    "colab_type": "text",
    "id": "QXcLncKnUVjF"
   },
   "source": [
    "- Пока полученные цифры нам мало о чем говорят, разве что train и test выборки сбалансированные, так как метрики на train и test близки.\n",
    "- Но мы можем зафиксировать значение mse_test = 1.16 как бейзлайн, на который будем ориентироваться при построение более сложных моделей."
   ]
  },
  {
   "cell_type": "markdown",
   "metadata": {
    "colab_type": "text",
    "collapsed": true,
    "id": "skoalbDdUVjG"
   },
   "source": [
    "## Реализация градиентного бустинга"
   ]
  },
  {
   "cell_type": "markdown",
   "metadata": {
    "colab_type": "text",
    "id": "buz6FGo4UVjI"
   },
   "source": [
    "### Определим функцию для расчета вектора сдвигов S\n",
    "Выберем в качестве функции потерь MSE:\n",
    "\n",
    "   \\\\[L=(y-y_{predict})^2\\\\]\n",
    "    \n",
    "Как известно из лекции, для вектор сдвигов представляет собой производную функции потерь, посчитанную на всем объеме выборки:\n",
    "\n",
    "   \\\\[s_i =-L'(y_i, y_{predict_i})\\\\]\n",
    "         \n",
    "После вычисления производной получим следующее выражение для определения s. Множитель 2, который получился после дифференцирования квадрата разности, проигнорируем, поскольку в дальнейшем мы будем подбирать множитель базового алгоритма:\n",
    "\n",
    "   \\\\[s_i=y_i-y_{predict_i}\\\\]   \n",
    "         \n",
    "    "
   ]
  },
  {
   "cell_type": "code",
   "execution_count": 0,
   "metadata": {
    "colab": {},
    "colab_type": "code",
    "id": "i-FFBys9UVjI"
   },
   "outputs": [],
   "source": [
    "# Определим функцию для расчета вектора сдвигов S\n",
    "def S(y_train, y_predict):     \n",
    "    return list(map(lambda x, y: (x - y), y_train, y_predict))    "
   ]
  },
  {
   "cell_type": "markdown",
   "metadata": {
    "colab_type": "text",
    "id": "JbfldUHEUVjM"
   },
   "source": [
    "### Реализуем алгоритм обучения градиентного бустинга над деревьями\n",
    "Проинициализируем нашу модель бустинга следующими параметрами:\n",
    "- Число деревьев: 50\n",
    "- Коэффициент шага алгоритма: 1.0\n",
    "- Глубина дерева: 2\n",
    "- Random_state: 0\n",
    "\n",
    "    1.Создадим список, где будут храниться наши базовые алгоритмы.\n",
    "    \n",
    "    2.Зададимся неким нулевым базовым алгоритмом. Например, константный алгоритм, который на выходе выдает тоже самое, что получает на вход.\n",
    "    \n",
    "    3.Обучим в цикле все деревья, научим их приближать вектор сдвигов, расчитанный на основе прогнозов предыдущего базового алгоритма.\n",
    "    \n",
    "    4.Получим итоговый прогноз как сумму прогнозов базовых алгоритмов с учетом коэффициента шага."
   ]
  },
  {
   "cell_type": "code",
   "execution_count": 0,
   "metadata": {
    "colab": {},
    "colab_type": "code",
    "id": "94EkGuukUVjM"
   },
   "outputs": [],
   "source": [
    "# Функция вычисления прогноза композиции алгоритмов \n",
    "def gbm_predict(X, algo_list, coeff_list):\n",
    "    predict_lst = []\n",
    "    for algo, coeff in zip(algo_list, coeff_list):\n",
    "        predict_lst.append(coeff * algo.predict(X))\n",
    "    return np.array(predict_lst).sum(axis=0)"
   ]
  },
  {
   "cell_type": "code",
   "execution_count": 0,
   "metadata": {
    "colab": {
     "referenced_widgets": [
      "5c4f48d3bd1a4a32bef2bee86d9f7845"
     ]
    },
    "colab_type": "code",
    "id": "KhyOqLDGUVjP",
    "outputId": "acdf516d-60ab-455a-e6b4-a6e4014aaa84"
   },
   "outputs": [
    {
     "data": {
      "application/vnd.jupyter.widget-view+json": {
       "model_id": "5c4f48d3bd1a4a32bef2bee86d9f7845",
       "version_major": 2,
       "version_minor": 0
      },
      "text/plain": [
       "HBox(children=(IntProgress(value=0, max=50), HTML(value='')))"
      ]
     },
     "metadata": {
      "tags": []
     },
     "output_type": "display_data"
    },
    {
     "name": "stdout",
     "output_type": "stream",
     "text": [
      "\n",
      "0.6590332227577066\n"
     ]
    }
   ],
   "source": [
    "# Инициализация параметров модели\n",
    "n_trees = 50\n",
    "max_depth = 2\n",
    "eta = 1.0\n",
    "eta_list = [eta] * n_trees\n",
    "y0 = y_train\n",
    "base_algo_list = []\n",
    "\n",
    "# Обучение модели\n",
    "for i in tqdm(range(n_trees)):\n",
    "    estimator = DecisionTreeRegressor(max_depth=max_depth, random_state=RANDOM_SEED)\n",
    "    base_algo_list.append(estimator.fit(X_train, S(y_train, y0)))\n",
    "    y0 = gbm_predict(X_train.values, base_algo_list, eta_list)\n",
    "\n",
    "# Ответ финальной композиции деревьев\n",
    "y_pred_test = gbm_predict(X_test.values, base_algo_list, eta_list) \n",
    "rmse = np.sqrt(mean_squared_error(y_test, y_pred_test))\n",
    "print(rmse)"
   ]
  },
  {
   "cell_type": "markdown",
   "metadata": {
    "colab_type": "text",
    "id": "Z5w3fygQUVjR"
   },
   "source": [
    "### <font color='brown'> Задание №1 </font>\n",
    "- Используя предложенную выше реализацию GBM, проведите следующий эксперимент: инициализируйте базовый алгоритм медианой таргета обучающей выборки и переобучите модель, обучайте бустинг не меняя параметров инициализации.\n",
    "- Ответом будет результат rmse, округленный до 4 знака после запятой."
   ]
  },
  {
   "cell_type": "markdown",
   "metadata": {
    "colab_type": "text",
    "id": "WoCTRGE3UVjS"
   },
   "source": [
    "### <font color='brown'> Задание №2 </font>\n",
    "- Используя предложенную выше реализацию GBM, проведите следующий эксперимент: в качестве базового алгоритма примените линейную модель LinearRegression из sklearn, обучайте бустинг не меняя параметров инициализации.\n",
    "- Ответье на вопрос: Как повлияла замена базовой модели на итоговую метрику rmse на отложенной выборке. Если метрика изменилась, то объясните почему она изменлась таким образом. Также в конце ответа напшите значение rmse, округленное до 3 знака."
   ]
  },
  {
   "cell_type": "code",
   "execution_count": 0,
   "metadata": {
    "colab": {},
    "colab_type": "code",
    "id": "GYQ4zSLmUVjS"
   },
   "outputs": [],
   "source": [
    "\n",
    "\n",
    "\n",
    "\n",
    "\n",
    "\n"
   ]
  },
  {
   "cell_type": "markdown",
   "metadata": {
    "colab_type": "text",
    "id": "TrZ0xchfUVjU"
   },
   "source": [
    "### Оценим влияние коэффициента шага алгоритма (eta) на ошибку модели\n",
    "Шаг для всех базовых алгоритмов композиции останется постоянным. Будем менять шаг eta только для всей композиции и оценим его влияние на rmse."
   ]
  },
  {
   "cell_type": "code",
   "execution_count": 0,
   "metadata": {
    "colab": {
     "referenced_widgets": [
      "3042327d2da74030a567ff09a2b61a12"
     ]
    },
    "colab_type": "code",
    "id": "jxnHuXzDUVjV",
    "outputId": "169d5110-47f7-4d81-ac7a-409de6088e11"
   },
   "outputs": [
    {
     "data": {
      "application/vnd.jupyter.widget-view+json": {
       "model_id": "3042327d2da74030a567ff09a2b61a12",
       "version_major": 2,
       "version_minor": 0
      },
      "text/plain": [
       "HBox(children=(IntProgress(value=0, max=9), HTML(value='')))"
      ]
     },
     "metadata": {
      "tags": []
     },
     "output_type": "display_data"
    },
    {
     "name": "stdout",
     "output_type": "stream",
     "text": [
      "\n"
     ]
    },
    {
     "data": {
      "image/png": "[encoded data removed]",
      "text/plain": [
       "<Figure size 576x288 with 1 Axes>"
      ]
     },
     "metadata": {
      "needs_background": "light",
      "tags": []
     },
     "output_type": "display_data"
    }
   ],
   "source": [
    "rmse_list = []\n",
    "for eta in tqdm(np.arange(1.0, 0.1, -0.1)):\n",
    "    n_trees = 50\n",
    "    max_depth = 2\n",
    "    y0 = y_train\n",
    "    base_algo_list = []\n",
    "    eta_list = [round(eta, 1)] * n_trees\n",
    "    # Обучение модели\n",
    "    for i in range(n_trees):\n",
    "        estimator = DecisionTreeRegressor(max_depth=max_depth, random_state=RANDOM_SEED)    \n",
    "        base_algo_list.append(estimator.fit(X_train, S(y_train, y0)))\n",
    "        y0 = gbm_predict(X_train.values, base_algo_list, eta_list)\n",
    "\n",
    "    # Ответ финальной композиции деревьев\n",
    "    y_pred_test = gbm_predict(X_test.values, base_algo_list, eta_list) \n",
    "    rmse = np.sqrt(mean_squared_error(y_test, y_pred_test))\n",
    "    rmse_list.append(rmse)\n",
    "    \n",
    "plt.figure(figsize=(8,4))\n",
    "plt.plot(np.arange(1.0, 0.1, -0.1), rmse_list);\n",
    "plt.title('Зависимость rmse от eta')\n",
    "plt.xlabel('eta')\n",
    "plt.ylabel('rmse');"
   ]
  },
  {
   "cell_type": "markdown",
   "metadata": {
    "colab_type": "text",
    "id": "oFI_YujQUVjY"
   },
   "source": [
    "- После значения eta > 0.7 наша можель начинает переобучаться.  "
   ]
  },
  {
   "cell_type": "markdown",
   "metadata": {
    "colab_type": "text",
    "id": "j-dPPTpHUVjZ"
   },
   "source": [
    "### <font color='brown'> Задание №3 </font>\n",
    "Недостаток постоянства шага для базовых алгоритмов композиции заключается в том, что ошибки вблизи минимума не могут достигнуть экстремума и постоянно перескакивют его. Поэтому желательно, чтобы с каждым шагом, для нового базового алгоритма параметр eta уменьшался.\n",
    "- Реализуйте снижение шага eta для базовых алгоритмов в рамках обучения одной композиции по следующему закону:\n",
    "\n",
    "    \\\\[eta_i = \\frac{1.0}{1.0+0.1*i}\\\\]\n",
    "    \n",
    "    \n",
    "- Ответом будет результат rmse, округленный до 3 знака после запятой."
   ]
  },
  {
   "cell_type": "code",
   "execution_count": 0,
   "metadata": {
    "colab": {},
    "colab_type": "code",
    "id": "GmjJxW_rUVja"
   },
   "outputs": [],
   "source": [
    "\n",
    "\n",
    "\n",
    "\n"
   ]
  },
  {
   "cell_type": "markdown",
   "metadata": {
    "colab_type": "text",
    "id": "nBVuUEZNUVjc"
   },
   "source": [
    "## Работа с раличными реализациями градиентного бустинга\n",
    "### Оценим влияние различных параметров градиентного бустинга на ошибку модели на примере реализации из sklearn - ***GradientBoostingRegressor***"
   ]
  },
  {
   "cell_type": "code",
   "execution_count": 0,
   "metadata": {
    "colab": {
     "referenced_widgets": [
      "6b22c69e4d124041893915949375a091",
      "7851062c996e424c9e5bfdebaa9d5965"
     ]
    },
    "colab_type": "code",
    "id": "ZKyWQ9lDUVjd",
    "outputId": "78602b61-439e-49a6-9983-3ec39a57d3f5"
   },
   "outputs": [
    {
     "name": "stdout",
     "output_type": "stream",
     "text": [
      "------------------\n",
      "Go for estimators..\n"
     ]
    },
    {
     "data": {
      "application/vnd.jupyter.widget-view+json": {
       "model_id": "6b22c69e4d124041893915949375a091",
       "version_major": 2,
       "version_minor": 0
      },
      "text/plain": [
       "HBox(children=(IntProgress(value=0, max=20), HTML(value='')))"
      ]
     },
     "metadata": {
      "tags": []
     },
     "output_type": "display_data"
    },
    {
     "name": "stdout",
     "output_type": "stream",
     "text": [
      "\n",
      "------------------\n",
      "Go for max_depth..\n"
     ]
    },
    {
     "data": {
      "application/vnd.jupyter.widget-view+json": {
       "model_id": "7851062c996e424c9e5bfdebaa9d5965",
       "version_major": 2,
       "version_minor": 0
      },
      "text/plain": [
       "HBox(children=(IntProgress(value=0, max=10), HTML(value='')))"
      ]
     },
     "metadata": {
      "tags": []
     },
     "output_type": "display_data"
    },
    {
     "name": "stdout",
     "output_type": "stream",
     "text": [
      "\n"
     ]
    }
   ],
   "source": [
    "print('------------------') \n",
    "print('Go for estimators..')\n",
    "n_estim_list = np.arange(2,200,10)\n",
    "rmse_estim = []\n",
    "for estimator in tqdm(n_estim_list):\n",
    "    regressor = GradientBoostingRegressor(n_estimators = estimator, max_depth = 20)\n",
    "    regressor.fit(X_train, y_train)\n",
    "    rmse_estim.append(np.sqrt(mean_squared_error(y_test, regressor.predict(X_test)))) \n",
    "\n",
    "print('------------------')   \n",
    "print('Go for max_depth..')\n",
    "max_depth_list = np.arange(1,100,10)\n",
    "rmse_depth = []\n",
    "for depth in tqdm(max_depth_list):\n",
    "    regressor = GradientBoostingRegressor(n_estimators = 50, max_depth = depth)\n",
    "    regressor.fit(X_train, y_train)\n",
    "    rmse_depth.append(np.sqrt(mean_squared_error(y_test, regressor.predict(X_test))))"
   ]
  },
  {
   "cell_type": "code",
   "execution_count": 0,
   "metadata": {
    "colab": {},
    "colab_type": "code",
    "id": "-FzRaRf2UVjh",
    "outputId": "faee3001-cdd1-4395-b99b-761af09d2ede"
   },
   "outputs": [
    {
     "data": {
      "text/plain": [
       "Text(0.5, 1.0, 'RMSE for depth')"
      ]
     },
     "execution_count": 34,
     "metadata": {
      "tags": []
     },
     "output_type": "execute_result"
    },
    {
     "data": {
      "image/png": "[encoded data removed]",
      "text/plain": [
       "<Figure size 1080x360 with 2 Axes>"
      ]
     },
     "metadata": {
      "needs_background": "light",
      "tags": []
     },
     "output_type": "display_data"
    }
   ],
   "source": [
    "plt.figure(figsize=(15,5))\n",
    "plt.subplot(1,2,1)\n",
    "plt.plot(n_estim_list, rmse_estim)\n",
    "pyplot.title('RMSE for estimators')\n",
    "    \n",
    "plt.subplot(1,2,2)\n",
    "pyplot.plot(max_depth_list, rmse_depth)\n",
    "pyplot.title('RMSE for depth')"
   ]
  },
  {
   "cell_type": "markdown",
   "metadata": {
    "colab_type": "text",
    "id": "6je-fIq1UVjj"
   },
   "source": [
    "- С увеличением числа деревьев, начиная с некоторого момента, градиентный бустинг начинает переобучаться.\n",
    "- С ростом глубины деревьев, начиная с некоторого момента, качество работы градиентного бустинга на тестовой выборке также начинает ухудшаться, то есть модель переобучается.\n"
   ]
  },
  {
   "cell_type": "markdown",
   "metadata": {
    "colab_type": "text",
    "id": "KgJOPbIOUVjk"
   },
   "source": [
    "### <font color='brown'> Задание №4 </font>\n",
    "Оцените влияние параметра ***learning_rate*** (аналог eta) рассмотренной выше модели ***GradientBoostingRegressor*** на RMSE.\n",
    "- Зафиксируйте параметры модели: n_estimators = 100, max_depth = 2, random_state=RANDOM_SEED.\n",
    "- Постройте изменение RMSE в зависимости от ***learning_rate*** в диапазоне от 0.1 до 1.0 (включительно) с шагом 0.1 для train и test выборок.\n",
    "- Оцените значение ***learning_rate*** при котором начинается переобучение. "
   ]
  },
  {
   "cell_type": "code",
   "execution_count": 0,
   "metadata": {
    "colab": {},
    "colab_type": "code",
    "id": "s4ZTROlzUVjk"
   },
   "outputs": [],
   "source": [
    "\n",
    "\n",
    "\n",
    "\n",
    "\n"
   ]
  },
  {
   "cell_type": "markdown",
   "metadata": {
    "colab_type": "text",
    "id": "djOvWmo_UVjm"
   },
   "source": [
    "## XGBoost\n",
    "### Рассмотрим некоторые удобные функции библиотеки XGBoost:\n",
    "- Останов по значению метрики на валидации.\n",
    "- Визуализация.\n",
    "- Важность признаков\n"
   ]
  },
  {
   "cell_type": "code",
   "execution_count": 0,
   "metadata": {
    "colab": {},
    "colab_type": "code",
    "id": "gObKM6lQUVjn",
    "outputId": "f54f59ad-2c36-4c87-8cf6-f61f090dcc0b",
    "scrolled": false
   },
   "outputs": [
    {
     "name": "stdout",
     "output_type": "stream",
     "text": [
      "[0]\tvalidation_0-rmse:1.45458\tvalidation_1-rmse:1.44774\n",
      "Multiple eval metrics have been passed: 'validation_1-rmse' will be used for early stopping.\n",
      "\n",
      "Will train until validation_1-rmse hasn't improved in 10 rounds.\n",
      "[1]\tvalidation_0-rmse:1.09244\tvalidation_1-rmse:1.10456\n",
      "[2]\tvalidation_0-rmse:0.84538\tvalidation_1-rmse:0.90079\n",
      "[3]\tvalidation_0-rmse:0.67606\tvalidation_1-rmse:0.77035\n",
      "[4]\tvalidation_0-rmse:0.56256\tvalidation_1-rmse:0.69454\n",
      "[5]\tvalidation_0-rmse:0.48822\tvalidation_1-rmse:0.65288\n",
      "[6]\tvalidation_0-rmse:0.43576\tvalidation_1-rmse:0.63291\n",
      "[7]\tvalidation_0-rmse:0.39475\tvalidation_1-rmse:0.61375\n",
      "[8]\tvalidation_0-rmse:0.36269\tvalidation_1-rmse:0.60264\n",
      "[9]\tvalidation_0-rmse:0.33741\tvalidation_1-rmse:0.59653\n",
      "[10]\tvalidation_0-rmse:0.32255\tvalidation_1-rmse:0.59534\n",
      "[11]\tvalidation_0-rmse:0.30436\tvalidation_1-rmse:0.58326\n",
      "[12]\tvalidation_0-rmse:0.29840\tvalidation_1-rmse:0.58210\n",
      "[13]\tvalidation_0-rmse:0.28648\tvalidation_1-rmse:0.57860\n",
      "[14]\tvalidation_0-rmse:0.28122\tvalidation_1-rmse:0.57697\n",
      "[15]\tvalidation_0-rmse:0.27456\tvalidation_1-rmse:0.57518\n",
      "[16]\tvalidation_0-rmse:0.26553\tvalidation_1-rmse:0.56929\n",
      "[17]\tvalidation_0-rmse:0.26270\tvalidation_1-rmse:0.57045\n",
      "[18]\tvalidation_0-rmse:0.25833\tvalidation_1-rmse:0.57054\n",
      "[19]\tvalidation_0-rmse:0.24896\tvalidation_1-rmse:0.56855\n",
      "[20]\tvalidation_0-rmse:0.24372\tvalidation_1-rmse:0.56545\n",
      "[21]\tvalidation_0-rmse:0.24152\tvalidation_1-rmse:0.56523\n",
      "[22]\tvalidation_0-rmse:0.23397\tvalidation_1-rmse:0.56591\n",
      "[23]\tvalidation_0-rmse:0.23028\tvalidation_1-rmse:0.56573\n",
      "[24]\tvalidation_0-rmse:0.22674\tvalidation_1-rmse:0.56547\n",
      "[25]\tvalidation_0-rmse:0.22565\tvalidation_1-rmse:0.56632\n",
      "[26]\tvalidation_0-rmse:0.21596\tvalidation_1-rmse:0.56552\n",
      "[27]\tvalidation_0-rmse:0.20918\tvalidation_1-rmse:0.56378\n",
      "[28]\tvalidation_0-rmse:0.20605\tvalidation_1-rmse:0.56462\n",
      "[29]\tvalidation_0-rmse:0.19686\tvalidation_1-rmse:0.56249\n",
      "[30]\tvalidation_0-rmse:0.19408\tvalidation_1-rmse:0.56187\n",
      "[31]\tvalidation_0-rmse:0.18965\tvalidation_1-rmse:0.56193\n",
      "[32]\tvalidation_0-rmse:0.18775\tvalidation_1-rmse:0.56218\n",
      "[33]\tvalidation_0-rmse:0.18112\tvalidation_1-rmse:0.56146\n",
      "[34]\tvalidation_0-rmse:0.17442\tvalidation_1-rmse:0.56353\n",
      "[35]\tvalidation_0-rmse:0.16943\tvalidation_1-rmse:0.56388\n",
      "[36]\tvalidation_0-rmse:0.16604\tvalidation_1-rmse:0.56366\n",
      "[37]\tvalidation_0-rmse:0.16538\tvalidation_1-rmse:0.56397\n",
      "[38]\tvalidation_0-rmse:0.16303\tvalidation_1-rmse:0.56337\n",
      "[39]\tvalidation_0-rmse:0.15987\tvalidation_1-rmse:0.56260\n",
      "[40]\tvalidation_0-rmse:0.15782\tvalidation_1-rmse:0.56397\n",
      "[41]\tvalidation_0-rmse:0.15585\tvalidation_1-rmse:0.56418\n",
      "[42]\tvalidation_0-rmse:0.15100\tvalidation_1-rmse:0.56404\n",
      "[43]\tvalidation_0-rmse:0.14902\tvalidation_1-rmse:0.56370\n",
      "Stopping. Best iteration:\n",
      "[33]\tvalidation_0-rmse:0.18112\tvalidation_1-rmse:0.56146\n",
      "\n"
     ]
    },
    {
     "data": {
      "text/plain": [
       "XGBRegressor(base_score=0.5, booster=None, colsample_bylevel=1,\n",
       "             colsample_bynode=1, colsample_bytree=1, gamma=0, gpu_id=-1,\n",
       "             importance_type='gain', interaction_constraints=None,\n",
       "             learning_rate=0.300000012, max_delta_step=0, max_depth=6,\n",
       "             min_child_weight=1, missing=nan, monotone_constraints=None,\n",
       "             n_estimators=1000, n_jobs=0, num_parallel_tree=1,\n",
       "             objective='reg:squarederror', random_state=0, reg_alpha=0,\n",
       "             reg_lambda=1, scale_pos_weight=1, subsample=1, tree_method=None,\n",
       "             validate_parameters=False, verbosity=None)"
      ]
     },
     "execution_count": 35,
     "metadata": {
      "tags": []
     },
     "output_type": "execute_result"
    }
   ],
   "source": [
    "# Обучим модель XGBRegressor c заданным параметром early_stopping_rounds\n",
    "xgb = XGBRegressor(n_estimators=1000, random_state=RANDOM_SEED)\n",
    "xgb.fit(X_train, y_train,\n",
    "        eval_set=[(X_train, y_train),(X_test, y_test)],\n",
    "        eval_metric='rmse',\n",
    "        verbose=True,\n",
    "        early_stopping_rounds=10\n",
    "        )"
   ]
  },
  {
   "cell_type": "markdown",
   "metadata": {
    "colab_type": "text",
    "id": "UKLiKmyKUVjq"
   },
   "source": [
    "- Обучение было остановлено, после того как ошибка rmse не уменьшалась на тестовой выборке в течении **10** итерации.\n"
   ]
  },
  {
   "cell_type": "code",
   "execution_count": 0,
   "metadata": {
    "colab": {},
    "colab_type": "code",
    "id": "U1fnjfYxUVjr",
    "outputId": "00da80ee-7c58-4a31-c8e4-6684b4919e65",
    "scrolled": false
   },
   "outputs": [
    {
     "data": {
      "image/png": "[encoded data removed]",
      "text/plain": [
       "<Figure size 720x360 with 1 Axes>"
      ]
     },
     "metadata": {
      "needs_background": "light",
      "tags": []
     },
     "output_type": "display_data"
    }
   ],
   "source": [
    "# Построим кривые обучения и валидации с помощью встроенных в XGBoost методов оценки ошибки. \n",
    "eval_results = xgb.evals_result()\n",
    "train_error = eval_results['validation_0']['rmse']\n",
    "test_error = eval_results['validation_1']['rmse']\n",
    "df_error = pd.DataFrame([train_error, test_error]).T\n",
    "df_error.columns = ['train', 'test']\n",
    "df_error.index.name = 'iteration'\n",
    "# Plot curves\n",
    "df_error.plot(title = 'XGB Learning curves', figsize=(10,5));"
   ]
  },
  {
   "cell_type": "markdown",
   "metadata": {
    "colab_type": "text",
    "id": "Nush49xZUVjt"
   },
   "source": [
    "- По кривым обучения видно, что применение раннего останова обучения позволило избежать переобучения модели.\n"
   ]
  },
  {
   "cell_type": "markdown",
   "metadata": {
    "colab_type": "text",
    "id": "BIClLotaUVju"
   },
   "source": [
    "### <font color='brown'> Задание №5 </font>\n",
    "Работа с встроенной функцией Feature_importance\n",
    "- С помощью встроенной в xgboost функции определения важности признаков найдите топ 4 важных признаков и переобучите на них модель.\n",
    "- Ответом будет метрика rmse, полученная новой моделью на тестовой выборке. Ответ округлите до 3-го знака. "
   ]
  },
  {
   "cell_type": "code",
   "execution_count": 0,
   "metadata": {
    "colab": {},
    "colab_type": "code",
    "id": "hEVl_kT4UVjv"
   },
   "outputs": [],
   "source": [
    "\n",
    "\n",
    "\n",
    "\n",
    "\n",
    "\n"
   ]
  },
  {
   "cell_type": "markdown",
   "metadata": {
    "colab_type": "text",
    "id": "fofSKeJ2UVjy"
   },
   "source": [
    "### Тюнинг гиперпараметров XGBoost c помощью бибилиотеки hyperopt\n",
    "Основные параметры:\n",
    "\n",
    "- learning_rate: шаг обучения;\n",
    "- max_depth: максимальная глубина дерева.\n",
    "\n",
    "Параметры семплинга:\n",
    "\n",
    "- subsample: доля объектов выборки, на которых обучается одно дерево;\n",
    "- colsample_bytree: доля признаков, на которых обучается одно дерево.\n",
    "\n",
    "Параметры регуляризации:\n",
    "\n",
    "- min_child_weight: в задаче регресии - минимальное число листьев в одной ветке дерева;\n",
    "- gamma: коэффициент, который ограничивает число листьев во всем дереве;\n",
    "- lambda: L2 - регуляризация весов в листьях;\n",
    "- alpha: L1 - регуляриазция весов в листьях.\n",
    "\n",
    "Регуляризация в XGBoost:\n",
    "\n",
    "\\\\[L(y,z)+\\gamma*J + \\frac{\\lambda}{2}\\Sigma_{j=1}^{J}b_j^2\\\\]\n",
    "\n",
    "где J - число листьев в дереве, b - вес в листе.\n"
   ]
  },
  {
   "cell_type": "code",
   "execution_count": 0,
   "metadata": {
    "colab": {},
    "colab_type": "code",
    "id": "L8yeZxdPUVjz",
    "outputId": "018970d4-70c6-4b5b-8902-c6f74d4ba67f"
   },
   "outputs": [
    {
     "name": "stdout",
     "output_type": "stream",
     "text": [
      "100%|██████████| 100/100 [00:11<00:00,  8.79trial/s, best loss: 0.517236652744267]\n",
      "Best params:\n",
      " {'colsample_bytree': 0.6760630719424512, 'learning_rate': 0.060000000000000005, 'max_depth': 13, 'min_child_weight': 6, 'reg_lambda': 30.538555088334157}\n"
     ]
    }
   ],
   "source": [
    "from hyperopt import fmin, tpe, hp, STATUS_OK, Trials\n",
    "np.random.seed(RANDOM_SEED)\n",
    "\n",
    "# XGB parameters for tune\n",
    "space = {\n",
    "    'learning_rate': hp.choice('learning_rate',    np.arange(0.01, 0.5, 0.01)),\n",
    "    'max_depth': hp.choice('max_depth',        np.arange(4, 16, 1, dtype=int)),\n",
    "    'min_child_weight': hp.choice('min_child_weight', np.arange(1, 10, 1, dtype=int)),\n",
    "    'colsample_bytree': hp.uniform('colsample_bytree', 0.5, 1),\n",
    "    'reg_lambda': hp.choice('reg_lambda', np.logspace(-1.0, 2.0, num=100)),\n",
    "    #'n_estimators': hp.choice('n_estimators',  np.arange(30, 200, 10, dtype=int))\n",
    "}\n",
    "\n",
    "# RMSE Cross-validation \n",
    "def cv_scores(estimator, X, y, cv=3):\n",
    "    skf = KFold(n_splits=cv, shuffle=True, random_state=RANDOM_SEED)\n",
    "    scores=[]\n",
    "    for train_index, val_index in skf.split(X, y):\n",
    "        estimator.fit(X.iloc[train_index], y.iloc[train_index])\n",
    "        y_pred  = estimator.predict(X.iloc[val_index])\n",
    "        scores.append(np.sqrt(mean_squared_error(y.iloc[val_index], y_pred)))\n",
    "    return np.mean(scores)\n",
    "\n",
    "# RMSE test \n",
    "def test_scores(estimator, X_train, y_train, X_test, y_test):\n",
    "    estimator.fit(X_train, y_train,\n",
    "              eval_set=[(X_test, y_test)],\n",
    "              eval_metric = 'rmse',\n",
    "              early_stopping_rounds = 10,\n",
    "              verbose = False\n",
    "             )    \n",
    "    scores = np.sqrt(mean_squared_error(y_test, estimator.predict(X_test))) \n",
    "    return scores, estimator.best_iteration\n",
    "    \n",
    "    \n",
    "def hyperopt_objective(space):\n",
    "        \n",
    "    model = XGBRegressor(\n",
    "        learning_rate = space['learning_rate'],\n",
    "        max_depth = space['max_depth'],\n",
    "        min_child_weight = space['min_child_weight'],\n",
    "        colsample_bytree = space['colsample_bytree'],\n",
    "        reg_lambda = space['reg_lambda'],\n",
    "        random_state = RANDOM_SEED,\n",
    "        n_estimators = 1000 #space['n_estimators']\n",
    "                        \n",
    "    )    \n",
    "    #scores = cv_scores(model, X_train, y_train, cv=3)\n",
    "    #return np.mean(scores)\n",
    "    \n",
    "    scores, best_iteration = test_scores(model, X_train, y_train, X_test, y_test)    \n",
    "    return {'loss': scores, 'best_iteration': best_iteration, 'status': STATUS_OK}\n",
    "    \n",
    "    \n",
    "trials = Trials()\n",
    "best_params = fmin(fn = hyperopt_objective,\n",
    "                   space = space,\n",
    "                   algo = tpe.suggest,\n",
    "                   max_evals = 100,\n",
    "                   trials = trials,\n",
    "                   verbose = 2,\n",
    "                   rstate = np.random.seed(RANDOM_SEED),\n",
    "                   return_argmin=False\n",
    "                  )\n",
    "\n",
    "print('Best params:\\n', best_params)"
   ]
  },
  {
   "cell_type": "code",
   "execution_count": 0,
   "metadata": {
    "colab": {},
    "colab_type": "code",
    "id": "t3P7Snf9UVj2",
    "outputId": "5dc1ba51-5b73-4c6b-ec67-f7a87831f89c"
   },
   "outputs": [
    {
     "data": {
      "text/plain": [
       "{'loss': 0.517236652744267, 'best_iteration': 237, 'status': 'ok'}"
      ]
     },
     "execution_count": 40,
     "metadata": {
      "tags": []
     },
     "output_type": "execute_result"
    }
   ],
   "source": [
    "res_loss = np.array([res['loss'] for res in trials.results])\n",
    "best_idx = np.where(res_loss == res_loss.min())[0][0]\n",
    "best_results = trials.results[best_idx]\n",
    "best_results"
   ]
  },
  {
   "cell_type": "markdown",
   "metadata": {
    "colab_type": "text",
    "id": "0LN6CzU-UVj4"
   },
   "source": [
    "### <font color='brown'> Задание №6 </font>\n",
    "Оценка влияния параметра **subsample** на дисперсию прогнозов.\n",
    "Параметр **subsample** - по сути реализация бэггинга внтури XGBoost. Как известно, бэггинг призван снизить дисперсию прогноза, а, следовательно, уменьшить склонность алгоритма к переобучению.\n",
    "- Оценить дисперсию (можно оценивать стандартное отклонение) прогноза XGBoost при изменении параметра subsample.\n",
    "- Ответом будет значение из списка subsample_list. Ответ округлите до 1 знака."
   ]
  },
  {
   "cell_type": "code",
   "execution_count": 0,
   "metadata": {
    "colab": {},
    "colab_type": "code",
    "id": "uFf6liLVUVj4"
   },
   "outputs": [],
   "source": [
    "# Список subsample, который надо перебрать\n",
    "subsample_list = np.arange(0.1, 1.1, 0.1)\n",
    "# Инициализация модели для воспроизводимости ответа\n",
    "XGBRegressor(n_estimators=20, max_depth=2, random_state=RANDOM_SEED)"
   ]
  }
 ],
 "metadata": {
  "colab": {
   "name": "practice07_GBM.ipynb",
   "provenance": []
  },
  "kernelspec": {
   "display_name": "Python 3",
   "language": "python",
   "name": "python3"
  },
  "language_info": {
   "codemirror_mode": {
    "name": "ipython",
    "version": 3
   },
   "file_extension": ".py",
   "mimetype": "text/x-python",
   "name": "python",
   "nbconvert_exporter": "python",
   "pygments_lexer": "ipython3",
   "version": "3.7.4"
  }
 },
 "nbformat": 4,
 "nbformat_minor": 1
}
