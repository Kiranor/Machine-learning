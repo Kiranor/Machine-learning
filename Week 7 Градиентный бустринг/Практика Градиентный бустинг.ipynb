{
 "cells": [
  {
   "cell_type": "markdown",
   "metadata": {},
   "source": [
    "# Неделя 7. Градиентный бустинг."
   ]
  },
  {
   "cell_type": "markdown",
   "metadata": {},
   "source": [
    "[Ссылка на форму с вопросами](https://forms.gle/gPevc4GKscG2wiWo6) \n",
    "\n",
    "Дэдлайн: **8.04.20** включительно. "
   ]
  },
  {
   "cell_type": "code",
   "execution_count": 1,
   "metadata": {},
   "outputs": [
    {
     "name": "stdout",
     "output_type": "stream",
     "text": [
      "Populating the interactive namespace from numpy and matplotlib\n"
     ]
    }
   ],
   "source": [
    "import pandas as pd\n",
    "import numpy as np\n",
    "import seaborn as sns\n",
    "from sklearn.datasets import fetch_california_housing\n",
    "from sklearn.model_selection import train_test_split, cross_validate\n",
    "from sklearn.tree import DecisionTreeRegressor\n",
    "from sklearn.metrics import mean_squared_error\n",
    "from sklearn.ensemble import GradientBoostingRegressor\n",
    "from sklearn.neighbors import KNeighborsRegressor\n",
    "from sklearn.linear_model import LinearRegression\n",
    "from sklearn.model_selection import KFold\n",
    "from tqdm.notebook import tqdm\n",
    "from xgboost import XGBRegressor\n",
    "\n",
    "%pylab inline\n",
    "\n",
    "RANDOM_SEED = 0"
   ]
  },
  {
   "cell_type": "raw",
   "metadata": {},
   "source": [
    "# Устнановка модулей нужной версии, в случае необходимости.\n",
    "!pip install xgboost==1.0.2\n",
    "!pip install scikit-learn==0.22.1\n",
    "!pip install hyperopt==0.2.3"
   ]
  },
  {
   "cell_type": "code",
   "execution_count": 2,
   "metadata": {},
   "outputs": [
    {
     "name": "stdout",
     "output_type": "stream",
     "text": [
      "Sklearn: 0.21.3,\n",
      "XGBoost: 0.90,\n",
      "hyperopt: 0.2.3\n"
     ]
    }
   ],
   "source": [
    "# Проверка версий библиотек\n",
    "# Sklearn: 0.22.1,\n",
    "# XGBoost: 1.0.2\n",
    "# hyperopt: 0.2.3\n",
    "import xgboost\n",
    "import sklearn\n",
    "import hyperopt\n",
    "print('Sklearn: {},\\nXGBoost: {},\\nhyperopt: {}'.format(sklearn.__version__, \n",
    "                                                        xgboost.__version__, \n",
    "                                                        hyperopt.__version__))"
   ]
  },
  {
   "cell_type": "markdown",
   "metadata": {},
   "source": [
    "## Данные для эксперимента"
   ]
  },
  {
   "cell_type": "code",
   "execution_count": 3,
   "metadata": {},
   "outputs": [],
   "source": [
    "# Загрузим датасет california_housing\n",
    "clf_dataset = fetch_california_housing()"
   ]
  },
  {
   "cell_type": "code",
   "execution_count": 4,
   "metadata": {},
   "outputs": [
    {
     "data": {
      "text/plain": [
       "((20640, 8), (20640,))"
      ]
     },
     "execution_count": 4,
     "metadata": {},
     "output_type": "execute_result"
    }
   ],
   "source": [
    "data = clf_dataset.data\n",
    "target = clf_dataset.target\n",
    "data.shape, target.shape"
   ]
  },
  {
   "cell_type": "code",
   "execution_count": 5,
   "metadata": {},
   "outputs": [
    {
     "data": {
      "text/plain": [
       "((2000, 8), (2000,))"
      ]
     },
     "execution_count": 5,
     "metadata": {},
     "output_type": "execute_result"
    }
   ],
   "source": [
    "# Сделаем случайную выборку из 2000 объектов\n",
    "n_samples = 2000\n",
    "np.random.seed(RANDOM_SEED)\n",
    "samples = np.random.choice(np.arange(data.shape[0]), n_samples, replace=False)\n",
    "data = data[samples]\n",
    "target = target[samples]\n",
    "data.shape, target.shape"
   ]
  },
  {
   "cell_type": "code",
   "execution_count": 6,
   "metadata": {},
   "outputs": [
    {
     "data": {
      "text/html": [
       "<div>\n",
       "<style scoped>\n",
       "    .dataframe tbody tr th:only-of-type {\n",
       "        vertical-align: middle;\n",
       "    }\n",
       "\n",
       "    .dataframe tbody tr th {\n",
       "        vertical-align: top;\n",
       "    }\n",
       "\n",
       "    .dataframe thead th {\n",
       "        text-align: right;\n",
       "    }\n",
       "</style>\n",
       "<table border=\"1\" class=\"dataframe\">\n",
       "  <thead>\n",
       "    <tr style=\"text-align: right;\">\n",
       "      <th></th>\n",
       "      <th>clm_0</th>\n",
       "      <th>clm_1</th>\n",
       "      <th>clm_2</th>\n",
       "      <th>clm_3</th>\n",
       "      <th>clm_4</th>\n",
       "      <th>clm_5</th>\n",
       "      <th>clm_6</th>\n",
       "      <th>clm_7</th>\n",
       "      <th>target</th>\n",
       "    </tr>\n",
       "  </thead>\n",
       "  <tbody>\n",
       "    <tr>\n",
       "      <td>0</td>\n",
       "      <td>4.1518</td>\n",
       "      <td>22.0</td>\n",
       "      <td>5.663073</td>\n",
       "      <td>1.075472</td>\n",
       "      <td>1551.0</td>\n",
       "      <td>4.180593</td>\n",
       "      <td>32.58</td>\n",
       "      <td>-117.05</td>\n",
       "      <td>1.369</td>\n",
       "    </tr>\n",
       "    <tr>\n",
       "      <td>1</td>\n",
       "      <td>5.7796</td>\n",
       "      <td>32.0</td>\n",
       "      <td>6.107226</td>\n",
       "      <td>0.927739</td>\n",
       "      <td>1296.0</td>\n",
       "      <td>3.020979</td>\n",
       "      <td>33.92</td>\n",
       "      <td>-117.97</td>\n",
       "      <td>2.413</td>\n",
       "    </tr>\n",
       "    <tr>\n",
       "      <td>2</td>\n",
       "      <td>4.3487</td>\n",
       "      <td>29.0</td>\n",
       "      <td>5.930712</td>\n",
       "      <td>1.026217</td>\n",
       "      <td>1554.0</td>\n",
       "      <td>2.910112</td>\n",
       "      <td>38.65</td>\n",
       "      <td>-121.84</td>\n",
       "      <td>2.007</td>\n",
       "    </tr>\n",
       "    <tr>\n",
       "      <td>3</td>\n",
       "      <td>2.4511</td>\n",
       "      <td>37.0</td>\n",
       "      <td>4.992958</td>\n",
       "      <td>1.316901</td>\n",
       "      <td>390.0</td>\n",
       "      <td>2.746479</td>\n",
       "      <td>33.20</td>\n",
       "      <td>-115.60</td>\n",
       "      <td>0.725</td>\n",
       "    </tr>\n",
       "    <tr>\n",
       "      <td>4</td>\n",
       "      <td>5.0049</td>\n",
       "      <td>25.0</td>\n",
       "      <td>4.319261</td>\n",
       "      <td>1.039578</td>\n",
       "      <td>649.0</td>\n",
       "      <td>1.712401</td>\n",
       "      <td>37.79</td>\n",
       "      <td>-122.43</td>\n",
       "      <td>4.600</td>\n",
       "    </tr>\n",
       "  </tbody>\n",
       "</table>\n",
       "</div>"
      ],
      "text/plain": [
       "    clm_0  clm_1     clm_2     clm_3   clm_4     clm_5  clm_6   clm_7  target\n",
       "0  4.1518   22.0  5.663073  1.075472  1551.0  4.180593  32.58 -117.05   1.369\n",
       "1  5.7796   32.0  6.107226  0.927739  1296.0  3.020979  33.92 -117.97   2.413\n",
       "2  4.3487   29.0  5.930712  1.026217  1554.0  2.910112  38.65 -121.84   2.007\n",
       "3  2.4511   37.0  4.992958  1.316901   390.0  2.746479  33.20 -115.60   0.725\n",
       "4  5.0049   25.0  4.319261  1.039578   649.0  1.712401  37.79 -122.43   4.600"
      ]
     },
     "execution_count": 6,
     "metadata": {},
     "output_type": "execute_result"
    }
   ],
   "source": [
    "# Сформируем датафрейм из новой выборки, объединив его с таргетом\n",
    "full_df = pd.DataFrame(data, columns=['clm_{}'.format(i) for i in range(data.shape[1])])\n",
    "full_df['target'] = target\n",
    "full_df.head()"
   ]
  },
  {
   "cell_type": "code",
   "execution_count": 7,
   "metadata": {},
   "outputs": [
    {
     "data": {
      "image/png": "[encoded data removed]",
      "text/plain": [
       "<Figure size 720x360 with 1 Axes>"
      ]
     },
     "metadata": {
      "needs_background": "light"
     },
     "output_type": "display_data"
    }
   ],
   "source": [
    "# Посмотрим на таргет\n",
    "plt.figure(figsize=(10,5))\n",
    "plt.title('target_mean: {}'.format(round(full_df['target'].mean(), 3)))\n",
    "full_df['target'].hist(bins=100);"
   ]
  },
  {
   "cell_type": "markdown",
   "metadata": {},
   "source": [
    "- Таргет вещественный, значит будем решать задачу регрессии.\n",
    "- Есть выброс в районе 5, на который пока не обращаем внимание."
   ]
  },
  {
   "cell_type": "code",
   "execution_count": 8,
   "metadata": {},
   "outputs": [
    {
     "data": {
      "text/plain": [
       "((1400, 8), (600, 8), (1400,), (600,))"
      ]
     },
     "execution_count": 8,
     "metadata": {},
     "output_type": "execute_result"
    }
   ],
   "source": [
    "# Разделим выборку на обучающую и тестовую\n",
    "X_train, X_test, y_train, y_test = train_test_split(full_df.drop('target', axis=1), \n",
    "                                                    full_df['target'], \n",
    "                                                    test_size=0.3, \n",
    "                                                    random_state=RANDOM_SEED)\n",
    "X_train.shape, X_test.shape, y_train.shape, y_test.shape"
   ]
  },
  {
   "cell_type": "markdown",
   "metadata": {},
   "source": [
    "## Константная модель"
   ]
  },
  {
   "cell_type": "code",
   "execution_count": 9,
   "metadata": {},
   "outputs": [
    {
     "name": "stdout",
     "output_type": "stream",
     "text": [
      "rmse_train: 1.184, rmse_test: 1.161\n"
     ]
    }
   ],
   "source": [
    "y_trn_pred = [y_train.mean()]*len(y_train)\n",
    "y_tst_pred = [y_train.mean()]*len(y_test)\n",
    "mse_train = mean_squared_error(y_train, y_trn_pred)\n",
    "mse_test = mean_squared_error(y_test, y_tst_pred)\n",
    "print('rmse_train: {}, rmse_test: {}'.format(round(np.sqrt(mse_train), 3), round(np.sqrt(mse_test), 3)))"
   ]
  },
  {
   "cell_type": "markdown",
   "metadata": {},
   "source": [
    "- Пока полученные цифры нам мало о чем говорят, разве что train и test выборки сбалансированные, так как метрики на train и test близки.\n",
    "- Но мы можем зафиксировать значение mse_test = 1.16 как бейзлайн, на который будем ориентироваться при построение более сложных моделей."
   ]
  },
  {
   "cell_type": "markdown",
   "metadata": {
    "collapsed": true
   },
   "source": [
    "## Реализация градиентного бустинга"
   ]
  },
  {
   "cell_type": "markdown",
   "metadata": {},
   "source": [
    "### Определим функцию для расчета вектора сдвигов S\n",
    "Выберем в качестве функции потерь MSE:\n",
    "\n",
    "   \\\\[L=(y-y_{predict})^2\\\\]\n",
    "    \n",
    "Как известно из лекции, для вектор сдвигов представляет собой производную функции потерь, посчитанную на всем объеме выборки:\n",
    "\n",
    "   \\\\[s_i =-L'(y_i, y_{predict_i})\\\\]\n",
    "         \n",
    "После вычисления производной получим следующее выражение для определения s. Множитель 2, который получился после дифференцирования квадрата разности, проигнорируем, поскольку в дальнейшем мы будем подбирать множитель базового алгоритма:\n",
    "\n",
    "   \\\\[s_i=y_i-y_{predict_i}\\\\]   \n",
    "         \n",
    "    "
   ]
  },
  {
   "cell_type": "code",
   "execution_count": 10,
   "metadata": {},
   "outputs": [],
   "source": [
    "# Определим функцию для расчета вектора сдвигов S\n",
    "def S(y_train, y_predict):     \n",
    "    return list(map(lambda x, y: (x - y), y_train, y_predict))    "
   ]
  },
  {
   "cell_type": "markdown",
   "metadata": {},
   "source": [
    "### Реализуем алгоритм обучения градиентного бустинга над деревьями\n",
    "Проинициализируем нашу модель бустинга следующими параметрами:\n",
    "- Число деревьев: 50\n",
    "- Коэффициент шага алгоритма: 1.0\n",
    "- Глубина дерева: 2\n",
    "- Random_state: 0\n",
    "\n",
    "    1.Создадим список, где будут храниться наши базовые алгоритмы.\n",
    "    \n",
    "    2.Зададимся неким нулевым базовым алгоритмом. Например, константный алгоритм, который на выходе выдает тоже самое, что получает на вход.\n",
    "    \n",
    "    3.Обучим в цикле все деревья, научим их приближать вектор сдвигов, расчитанный на основе прогнозов предыдущего базового алгоритма.\n",
    "    \n",
    "    4.Получим итоговый прогноз как сумму прогнозов базовых алгоритмов с учетом коэффициента шага."
   ]
  },
  {
   "cell_type": "code",
   "execution_count": 11,
   "metadata": {},
   "outputs": [],
   "source": [
    "# Функция вычисления прогноза композиции алгоритмов \n",
    "def gbm_predict(X, algo_list, coeff_list):\n",
    "    predict_lst = []\n",
    "    for algo, coeff in zip(algo_list, coeff_list):\n",
    "        predict_lst.append(coeff * algo.predict(X))\n",
    "    return np.array(predict_lst).sum(axis=0)"
   ]
  },
  {
   "cell_type": "code",
   "execution_count": 12,
   "metadata": {},
   "outputs": [
    {
     "data": {
      "application/vnd.jupyter.widget-view+json": {
       "model_id": "08e220ee62674bc8b48721bc20b84dc4",
       "version_major": 2,
       "version_minor": 0
      },
      "text/plain": [
       "HBox(children=(IntProgress(value=0, max=50), HTML(value='')))"
      ]
     },
     "metadata": {},
     "output_type": "display_data"
    },
    {
     "name": "stdout",
     "output_type": "stream",
     "text": [
      "\n",
      "0.6590332227577066\n"
     ]
    }
   ],
   "source": [
    "# Инициализация параметров модели\n",
    "n_trees = 50\n",
    "max_depth = 2\n",
    "eta = 1.0\n",
    "eta_list = [eta] * n_trees\n",
    "y0 = y_train\n",
    "base_algo_list = []\n",
    "\n",
    "# Обучение модели\n",
    "for i in tqdm(range(n_trees)):\n",
    "    estimator = DecisionTreeRegressor(max_depth=max_depth, random_state=RANDOM_SEED)\n",
    "    base_algo_list.append(estimator.fit(X_train, S(y_train, y0)))\n",
    "    y0 = gbm_predict(X_train.values, base_algo_list, eta_list)\n",
    "\n",
    "# Ответ финальной композиции деревьев\n",
    "y_pred_test = gbm_predict(X_test.values, base_algo_list, eta_list) \n",
    "rmse = np.sqrt(mean_squared_error(y_test, y_pred_test))\n",
    "print(rmse)"
   ]
  },
  {
   "cell_type": "markdown",
   "metadata": {},
   "source": [
    "### <font color='brown'> Задание №1 </font>\n",
    "- Используя предложенную выше реализацию GBM, проведите следующий эксперимент: инициализируйте базовый алгоритм медианой таргета обучающей выборки и переобучите модель, обучайте бустинг не меняя параметров инициализации.\n",
    "- Ответом будет результат rmse, округленный до 4 знака после запятой."
   ]
  },
  {
   "cell_type": "code",
   "execution_count": null,
   "metadata": {},
   "outputs": [],
   "source": []
  },
  {
   "cell_type": "code",
   "execution_count": 35,
   "metadata": {},
   "outputs": [
    {
     "data": {
      "application/vnd.jupyter.widget-view+json": {
       "model_id": "6c386accddf04cdf969ae6ff02a2c2c3",
       "version_major": 2,
       "version_minor": 0
      },
      "text/plain": [
       "HBox(children=(IntProgress(value=0, max=50), HTML(value='')))"
      ]
     },
     "metadata": {},
     "output_type": "display_data"
    },
    {
     "name": "stdout",
     "output_type": "stream",
     "text": [
      "\n",
      "0.6352\n"
     ]
    }
   ],
   "source": [
    "y_median = y_train.median()\n",
    "y0 = y_train.apply(lambda x: y_median)\n",
    "base_algo_list = []\n",
    "\n",
    "for i in tqdm(range(n_trees)):\n",
    "    estimator = DecisionTreeRegressor(max_depth=max_depth, random_state=RANDOM_SEED)\n",
    "    base_algo_list.append(estimator.fit(X_train, S(y_train, y0)))\n",
    "    y0 = gbm_predict(X_train.values, base_algo_list, eta_list)\n",
    "\n",
    "# Ответ финальной композиции деревьев\n",
    "y_pred_test = gbm_predict(X_test.values, base_algo_list, eta_list) \n",
    "rmse = np.sqrt(mean_squared_error(y_test, y_pred_test))\n",
    "print(round(rmse,4))"
   ]
  },
  {
   "cell_type": "markdown",
   "metadata": {},
   "source": [
    "### <font color='brown'> Задание №2 </font>\n",
    "- Используя предложенную выше реализацию GBM, проведите следующий эксперимент: в качестве базового алгоритма примените линейную модель LinearRegression из sklearn, обучайте бустинг не меняя параметров инициализации.\n",
    "- Ответье на вопрос: Как повлияла замена базовой модели на итоговую метрику rmse на отложенной выборке. Если метрика изменилась, то объясните почему она изменлась таким образом. Также в конце ответа напшите значение rmse, округленное до 3 знака."
   ]
  },
  {
   "cell_type": "code",
   "execution_count": 36,
   "metadata": {},
   "outputs": [
    {
     "data": {
      "application/vnd.jupyter.widget-view+json": {
       "model_id": "71e89adea05b41e2b0996e1069056091",
       "version_major": 2,
       "version_minor": 0
      },
      "text/plain": [
       "HBox(children=(IntProgress(value=0, max=50), HTML(value='')))"
      ]
     },
     "metadata": {},
     "output_type": "display_data"
    },
    {
     "name": "stdout",
     "output_type": "stream",
     "text": [
      "\n",
      "0.746\n"
     ]
    }
   ],
   "source": [
    "base_algo_list = []\n",
    "y0 = y_train.apply(lambda x: y_median)\n",
    "\n",
    "for i in tqdm(range(n_trees)):\n",
    "    estimator = LinearRegression()\n",
    "    base_algo_list.append(estimator.fit(X_train, S(y_train, y0)))\n",
    "    y0 = gbm_predict(X_train.values, base_algo_list, eta_list)\n",
    "    \n",
    "y_pred_test = gbm_predict(X_test.values, base_algo_list, eta_list) \n",
    "rmse = np.sqrt(mean_squared_error(y_test, y_pred_test))\n",
    "print(round(rmse,3))"
   ]
  },
  {
   "cell_type": "markdown",
   "metadata": {},
   "source": [
    "### Оценим влияние коэффициента шага алгоритма (eta) на ошибку модели\n",
    "Шаг для всех базовых алгоритмов композиции останется постоянным. Будем менять шаг eta только для всей композиции и оценим его влияние на rmse."
   ]
  },
  {
   "cell_type": "code",
   "execution_count": 15,
   "metadata": {},
   "outputs": [
    {
     "data": {
      "application/vnd.jupyter.widget-view+json": {
       "model_id": "2afe4094b03c4585a9a8a7eda976fbbf",
       "version_major": 2,
       "version_minor": 0
      },
      "text/plain": [
       "HBox(children=(IntProgress(value=0, max=9), HTML(value='')))"
      ]
     },
     "metadata": {},
     "output_type": "display_data"
    },
    {
     "name": "stdout",
     "output_type": "stream",
     "text": [
      "\n"
     ]
    },
    {
     "data": {
      "image/png": "[encoded data removed]",
      "text/plain": [
       "<Figure size 576x288 with 1 Axes>"
      ]
     },
     "metadata": {
      "needs_background": "light"
     },
     "output_type": "display_data"
    }
   ],
   "source": [
    "rmse_list = []\n",
    "for eta in tqdm(np.arange(1.0, 0.1, -0.1)):\n",
    "    n_trees = 50\n",
    "    max_depth = 2\n",
    "    y0 = y_train\n",
    "    base_algo_list = []\n",
    "    eta_list = [round(eta, 1)] * n_trees\n",
    "    # Обучение модели\n",
    "    for i in range(n_trees):\n",
    "        estimator = DecisionTreeRegressor(max_depth=max_depth, random_state=RANDOM_SEED)    \n",
    "        base_algo_list.append(estimator.fit(X_train, S(y_train, y0)))\n",
    "        y0 = gbm_predict(X_train.values, base_algo_list, eta_list)\n",
    "\n",
    "    # Ответ финальной композиции деревьев\n",
    "    y_pred_test = gbm_predict(X_test.values, base_algo_list, eta_list) \n",
    "    rmse = np.sqrt(mean_squared_error(y_test, y_pred_test))\n",
    "    rmse_list.append(rmse)\n",
    "    \n",
    "plt.figure(figsize=(8,4))\n",
    "plt.plot(np.arange(1.0, 0.1, -0.1), rmse_list);\n",
    "plt.title('Зависимость rmse от eta')\n",
    "plt.xlabel('eta')\n",
    "plt.ylabel('rmse');"
   ]
  },
  {
   "cell_type": "markdown",
   "metadata": {},
   "source": [
    "- После значения eta > 0.7 наша можель начинает переобучаться.  "
   ]
  },
  {
   "cell_type": "markdown",
   "metadata": {},
   "source": [
    "### <font color='brown'> Задание №3 </font>\n",
    "Недостаток постоянства шага для базовых алгоритмов композиции заключается в том, что ошибки вблизи минимума не могут достигнуть экстремума и постоянно перескакивют его. Поэтому желательно, чтобы с каждым шагом, для нового базового алгоритма параметр eta уменьшался.\n",
    "- Реализуйте снижение шага eta для базовых алгоритмов в рамках обучения одной композиции по следующему закону:\n",
    "\n",
    "    \\\\[eta_i = \\frac{1.0}{1.0+0.1*i}\\\\]\n",
    "    \n",
    "    \n",
    "- Ответом будет результат rmse, округленный до 3 знака после запятой."
   ]
  },
  {
   "cell_type": "code",
   "execution_count": 34,
   "metadata": {},
   "outputs": [
    {
     "data": {
      "application/vnd.jupyter.widget-view+json": {
       "model_id": "4e74ae88fa1a4955b2cf52e763441861",
       "version_major": 2,
       "version_minor": 0
      },
      "text/plain": [
       "HBox(children=(IntProgress(value=0, max=9), HTML(value='')))"
      ]
     },
     "metadata": {},
     "output_type": "display_data"
    },
    {
     "name": "stdout",
     "output_type": "stream",
     "text": [
      "0.9090909090909091\n",
      "0.9174311926605504\n",
      "0.9259259259259258\n",
      "0.9345794392523364\n",
      "0.9433962264150942\n",
      "0.9523809523809523\n",
      "0.9615384615384615\n",
      "0.970873786407767\n",
      "0.9803921568627451\n",
      "\n",
      "[0.613, 0.633, 0.614, 0.629, 0.64, 0.625, 0.613, 0.655, 0.632]\n"
     ]
    },
    {
     "data": {
      "image/png": "[encoded data removed]",
      "text/plain": [
       "<Figure size 576x288 with 1 Axes>"
      ]
     },
     "metadata": {
      "needs_background": "light"
     },
     "output_type": "display_data"
    }
   ],
   "source": [
    "rmse_list_mod = []\n",
    "eta = []\n",
    "counter = 0\n",
    "for i in tqdm(np.arange(1.0, 0.1, -0.1)):\n",
    "    eta.append(1.0 / (1.0 + 0.1 * i))\n",
    "    print(eta[counter])\n",
    "    n_trees = 50\n",
    "    max_depth = 2\n",
    "    y0 = y_train\n",
    "    base_algo_list = []\n",
    "    eta_list = [round(eta[counter], 3)] * n_trees\n",
    "    # Обучение модели\n",
    "    for i in range(n_trees):\n",
    "        estimator = DecisionTreeRegressor(max_depth=max_depth, random_state=RANDOM_SEED)    \n",
    "        base_algo_list.append(estimator.fit(X_train, S(y_train, y0)))\n",
    "        y0 = gbm_predict(X_train.values, base_algo_list, eta_list)\n",
    "        \n",
    "    # Ответ финальной композиции деревьев\n",
    "    y_pred_test = gbm_predict(X_test.values, base_algo_list, eta_list) \n",
    "    rmse = np.sqrt(mean_squared_error(y_test, y_pred_test))\n",
    "    rmse_list_mod.append(round(rmse,3))\n",
    "    counter += 1\n",
    "    \n",
    "plt.figure(figsize=(8,4))\n",
    "plt.plot(eta, rmse_list_mod);\n",
    "plt.title('Зависимость rmse от eta')\n",
    "plt.xlabel('eta')\n",
    "plt.ylabel('rmse');\n",
    "\n",
    "print(rmse_list_mod)"
   ]
  },
  {
   "cell_type": "code",
   "execution_count": null,
   "metadata": {},
   "outputs": [],
   "source": []
  },
  {
   "cell_type": "markdown",
   "metadata": {},
   "source": [
    "## Работа с раличными реализациями градиентного бустинга\n",
    "### Оценим влияние различных параметров градиентного бустинга на ошибку модели на примере реализации из sklearn - ***GradientBoostingRegressor***"
   ]
  },
  {
   "cell_type": "code",
   "execution_count": 17,
   "metadata": {},
   "outputs": [
    {
     "name": "stdout",
     "output_type": "stream",
     "text": [
      "------------------\n",
      "Go for estimators..\n"
     ]
    },
    {
     "data": {
      "application/vnd.jupyter.widget-view+json": {
       "model_id": "d3f587d1be644b1983de7d96438432e7",
       "version_major": 2,
       "version_minor": 0
      },
      "text/plain": [
       "HBox(children=(IntProgress(value=0, max=20), HTML(value='')))"
      ]
     },
     "metadata": {},
     "output_type": "display_data"
    },
    {
     "name": "stdout",
     "output_type": "stream",
     "text": [
      "\n",
      "------------------\n",
      "Go for max_depth..\n"
     ]
    },
    {
     "data": {
      "application/vnd.jupyter.widget-view+json": {
       "model_id": "d5aec9a163634a238f2b22e17c37d7a0",
       "version_major": 2,
       "version_minor": 0
      },
      "text/plain": [
       "HBox(children=(IntProgress(value=0, max=10), HTML(value='')))"
      ]
     },
     "metadata": {},
     "output_type": "display_data"
    },
    {
     "name": "stdout",
     "output_type": "stream",
     "text": [
      "\n"
     ]
    }
   ],
   "source": [
    "print('------------------') \n",
    "print('Go for estimators..')\n",
    "n_estim_list = np.arange(2,200,10)\n",
    "rmse_estim = []\n",
    "for estimator in tqdm(n_estim_list):\n",
    "    regressor = GradientBoostingRegressor(n_estimators = estimator, max_depth = 20, random_state=RANDOM_SEED)\n",
    "    regressor.fit(X_train, y_train)\n",
    "    rmse_estim.append(np.sqrt(mean_squared_error(y_test, regressor.predict(X_test)))) \n",
    "\n",
    "print('------------------')   \n",
    "print('Go for max_depth..')\n",
    "max_depth_list = np.arange(1,100,10)\n",
    "rmse_depth = []\n",
    "for depth in tqdm(max_depth_list):\n",
    "    regressor = GradientBoostingRegressor(n_estimators = 50, max_depth = depth)\n",
    "    regressor.fit(X_train, y_train)\n",
    "    rmse_depth.append(np.sqrt(mean_squared_error(y_test, regressor.predict(X_test))))"
   ]
  },
  {
   "cell_type": "code",
   "execution_count": 18,
   "metadata": {},
   "outputs": [
    {
     "data": {
      "text/plain": [
       "Text(0.5, 1.0, 'RMSE for depth')"
      ]
     },
     "execution_count": 18,
     "metadata": {},
     "output_type": "execute_result"
    },
    {
     "data": {
      "image/png": "[encoded data removed]",
      "text/plain": [
       "<Figure size 1080x360 with 2 Axes>"
      ]
     },
     "metadata": {
      "needs_background": "light"
     },
     "output_type": "display_data"
    }
   ],
   "source": [
    "plt.figure(figsize=(15,5))\n",
    "plt.subplot(1,2,1)\n",
    "plt.plot(n_estim_list, rmse_estim)\n",
    "pyplot.title('RMSE for estimators')\n",
    "    \n",
    "plt.subplot(1,2,2)\n",
    "pyplot.plot(max_depth_list, rmse_depth)\n",
    "pyplot.title('RMSE for depth')"
   ]
  },
  {
   "cell_type": "markdown",
   "metadata": {},
   "source": [
    "- С увеличением числа деревьев, начиная с некоторого момента, градиентный бустинг начинает переобучаться.\n",
    "- С ростом глубины деревьев, начиная с некоторого момента, качество работы градиентного бустинга на тестовой выборке также начинает ухудшаться, то есть модель переобучается.\n"
   ]
  },
  {
   "cell_type": "markdown",
   "metadata": {},
   "source": [
    "### <font color='brown'> Задание №4 </font>\n",
    "Оцените влияние параметра ***learning_rate*** (аналог eta) рассмотренной выше модели ***GradientBoostingRegressor*** на RMSE.\n",
    "- Зафиксируйте параметры модели: n_estimators = 100, max_depth = 2, random_state=RANDOM_SEED.\n",
    "- Постройте изменение RMSE в зависимости от ***learning_rate*** в диапазоне от 0.1 до 1.0 (включительно) с шагом 0.1 для train и test выборок.\n",
    "- Оцените значение ***learning_rate*** при котором начинается переобучение."
   ]
  },
  {
   "cell_type": "code",
   "execution_count": 19,
   "metadata": {},
   "outputs": [
    {
     "data": {
      "application/vnd.jupyter.widget-view+json": {
       "model_id": "d0b25d15f6ef4e71b3fd49f88c45df04",
       "version_major": 2,
       "version_minor": 0
      },
      "text/plain": [
       "HBox(children=(IntProgress(value=0, max=10), HTML(value='')))"
      ]
     },
     "metadata": {},
     "output_type": "display_data"
    },
    {
     "name": "stdout",
     "output_type": "stream",
     "text": [
      "\n"
     ]
    }
   ],
   "source": [
    "learning_rate_values = np.arange(0.1, 1.1, 0.1) \n",
    "rmse_lr = []\n",
    "\n",
    "for lr in tqdm(learning_rate_values):\n",
    "    regressor = GradientBoostingRegressor(n_estimators = 100, max_depth=2, learning_rate=lr, random_state=RANDOM_SEED)\n",
    "    regressor.fit(X_train, y_train)\n",
    "    rmse_lr.append(np.sqrt(mean_squared_error(y_test, regressor.predict(X_test))))"
   ]
  },
  {
   "cell_type": "code",
   "execution_count": 20,
   "metadata": {},
   "outputs": [
    {
     "name": "stdout",
     "output_type": "stream",
     "text": [
      "[0.1 0.2 0.3 0.4 0.5 0.6 0.7 0.8 0.9 1. ]\n"
     ]
    },
    {
     "data": {
      "text/plain": [
       "Text(0.5, 0, 'learning_rate')"
      ]
     },
     "execution_count": 20,
     "metadata": {},
     "output_type": "execute_result"
    },
    {
     "data": {
      "image/png": "[encoded data removed]",
      "text/plain": [
       "<Figure size 432x288 with 1 Axes>"
      ]
     },
     "metadata": {
      "needs_background": "light"
     },
     "output_type": "display_data"
    }
   ],
   "source": [
    "print(learning_rate_values)\n",
    "plt.plot(learning_rate_values, rmse_lr)\n",
    "plt.title('RMSE for learning rate')\n",
    "plt.ylabel('rmse')\n",
    "plt.xlabel('learning_rate')"
   ]
  },
  {
   "cell_type": "markdown",
   "metadata": {},
   "source": [
    "## XGBoost\n",
    "### Рассмотрим некоторые удобные функции библиотеки XGBoost:\n",
    "- Останов по значению метрики на валидации.\n",
    "- Визуализация.\n",
    "- Важность признаков\n"
   ]
  },
  {
   "cell_type": "code",
   "execution_count": 21,
   "metadata": {
    "scrolled": true
   },
   "outputs": [
    {
     "name": "stderr",
     "output_type": "stream",
     "text": [
      "D:\\Anaconda\\lib\\site-packages\\xgboost\\core.py:587: FutureWarning: Series.base is deprecated and will be removed in a future version\n",
      "  if getattr(data, 'base', None) is not None and \\\n"
     ]
    },
    {
     "name": "stdout",
     "output_type": "stream",
     "text": [
      "[19:45:30] WARNING: src/objective/regression_obj.cu:152: reg:linear is now deprecated in favor of reg:squarederror.\n",
      "[0]\tvalidation_0-rmse:1.80319\tvalidation_1-rmse:1.77049\n",
      "Multiple eval metrics have been passed: 'validation_1-rmse' will be used for early stopping.\n",
      "\n",
      "Will train until validation_1-rmse hasn't improved in 10 rounds.\n",
      "[1]\tvalidation_0-rmse:1.65747\tvalidation_1-rmse:1.63116\n",
      "[2]\tvalidation_0-rmse:1.5298\tvalidation_1-rmse:1.51029\n",
      "[3]\tvalidation_0-rmse:1.41583\tvalidation_1-rmse:1.40453\n",
      "[4]\tvalidation_0-rmse:1.31527\tvalidation_1-rmse:1.30982\n",
      "[5]\tvalidation_0-rmse:1.22703\tvalidation_1-rmse:1.22537\n",
      "[6]\tvalidation_0-rmse:1.14886\tvalidation_1-rmse:1.15623\n",
      "[7]\tvalidation_0-rmse:1.08034\tvalidation_1-rmse:1.09165\n",
      "[8]\tvalidation_0-rmse:1.02077\tvalidation_1-rmse:1.03691\n",
      "[9]\tvalidation_0-rmse:0.968407\tvalidation_1-rmse:0.991251\n",
      "[10]\tvalidation_0-rmse:0.922187\tvalidation_1-rmse:0.949035\n",
      "[11]\tvalidation_0-rmse:0.881363\tvalidation_1-rmse:0.913705\n",
      "[12]\tvalidation_0-rmse:0.844618\tvalidation_1-rmse:0.880517\n",
      "[13]\tvalidation_0-rmse:0.812135\tvalidation_1-rmse:0.854429\n",
      "[14]\tvalidation_0-rmse:0.784072\tvalidation_1-rmse:0.82995\n",
      "[15]\tvalidation_0-rmse:0.76019\tvalidation_1-rmse:0.808074\n",
      "[16]\tvalidation_0-rmse:0.737446\tvalidation_1-rmse:0.790984\n",
      "[17]\tvalidation_0-rmse:0.718514\tvalidation_1-rmse:0.776659\n",
      "[18]\tvalidation_0-rmse:0.70166\tvalidation_1-rmse:0.765237\n",
      "[19]\tvalidation_0-rmse:0.685437\tvalidation_1-rmse:0.749786\n",
      "[20]\tvalidation_0-rmse:0.67166\tvalidation_1-rmse:0.739251\n",
      "[21]\tvalidation_0-rmse:0.658223\tvalidation_1-rmse:0.728711\n",
      "[22]\tvalidation_0-rmse:0.646477\tvalidation_1-rmse:0.719748\n",
      "[23]\tvalidation_0-rmse:0.636839\tvalidation_1-rmse:0.712739\n",
      "[24]\tvalidation_0-rmse:0.620855\tvalidation_1-rmse:0.699506\n",
      "[25]\tvalidation_0-rmse:0.613471\tvalidation_1-rmse:0.694016\n",
      "[26]\tvalidation_0-rmse:0.600576\tvalidation_1-rmse:0.68352\n",
      "[27]\tvalidation_0-rmse:0.592755\tvalidation_1-rmse:0.678204\n",
      "[28]\tvalidation_0-rmse:0.582564\tvalidation_1-rmse:0.669193\n",
      "[29]\tvalidation_0-rmse:0.573016\tvalidation_1-rmse:0.662187\n",
      "[30]\tvalidation_0-rmse:0.566986\tvalidation_1-rmse:0.659732\n",
      "[31]\tvalidation_0-rmse:0.561367\tvalidation_1-rmse:0.656083\n",
      "[32]\tvalidation_0-rmse:0.552623\tvalidation_1-rmse:0.648106\n",
      "[33]\tvalidation_0-rmse:0.547075\tvalidation_1-rmse:0.645883\n",
      "[34]\tvalidation_0-rmse:0.540495\tvalidation_1-rmse:0.641592\n",
      "[35]\tvalidation_0-rmse:0.536166\tvalidation_1-rmse:0.639191\n",
      "[36]\tvalidation_0-rmse:0.533136\tvalidation_1-rmse:0.638044\n",
      "[37]\tvalidation_0-rmse:0.529624\tvalidation_1-rmse:0.636732\n",
      "[38]\tvalidation_0-rmse:0.523533\tvalidation_1-rmse:0.631877\n",
      "[39]\tvalidation_0-rmse:0.516821\tvalidation_1-rmse:0.628197\n",
      "[40]\tvalidation_0-rmse:0.513433\tvalidation_1-rmse:0.626882\n",
      "[41]\tvalidation_0-rmse:0.50891\tvalidation_1-rmse:0.623183\n",
      "[42]\tvalidation_0-rmse:0.506026\tvalidation_1-rmse:0.623519\n",
      "[43]\tvalidation_0-rmse:0.501994\tvalidation_1-rmse:0.6205\n",
      "[44]\tvalidation_0-rmse:0.49979\tvalidation_1-rmse:0.619974\n",
      "[45]\tvalidation_0-rmse:0.49591\tvalidation_1-rmse:0.61672\n",
      "[46]\tvalidation_0-rmse:0.492945\tvalidation_1-rmse:0.615188\n",
      "[47]\tvalidation_0-rmse:0.491298\tvalidation_1-rmse:0.614334\n",
      "[48]\tvalidation_0-rmse:0.489187\tvalidation_1-rmse:0.614626\n",
      "[49]\tvalidation_0-rmse:0.486429\tvalidation_1-rmse:0.613814\n",
      "[50]\tvalidation_0-rmse:0.483201\tvalidation_1-rmse:0.611459\n",
      "[51]\tvalidation_0-rmse:0.48106\tvalidation_1-rmse:0.609567\n",
      "[52]\tvalidation_0-rmse:0.478989\tvalidation_1-rmse:0.610067\n",
      "[53]\tvalidation_0-rmse:0.477307\tvalidation_1-rmse:0.608984\n",
      "[54]\tvalidation_0-rmse:0.474058\tvalidation_1-rmse:0.607165\n",
      "[55]\tvalidation_0-rmse:0.471705\tvalidation_1-rmse:0.605567\n",
      "[56]\tvalidation_0-rmse:0.469981\tvalidation_1-rmse:0.605932\n",
      "[57]\tvalidation_0-rmse:0.468346\tvalidation_1-rmse:0.606472\n",
      "[58]\tvalidation_0-rmse:0.466712\tvalidation_1-rmse:0.605635\n",
      "[59]\tvalidation_0-rmse:0.465048\tvalidation_1-rmse:0.604312\n",
      "[60]\tvalidation_0-rmse:0.463828\tvalidation_1-rmse:0.6036\n",
      "[61]\tvalidation_0-rmse:0.462647\tvalidation_1-rmse:0.603278\n",
      "[62]\tvalidation_0-rmse:0.460933\tvalidation_1-rmse:0.603615\n",
      "[63]\tvalidation_0-rmse:0.459597\tvalidation_1-rmse:0.602095\n",
      "[64]\tvalidation_0-rmse:0.458484\tvalidation_1-rmse:0.601395\n",
      "[65]\tvalidation_0-rmse:0.457441\tvalidation_1-rmse:0.600838\n",
      "[66]\tvalidation_0-rmse:0.456401\tvalidation_1-rmse:0.602177\n",
      "[67]\tvalidation_0-rmse:0.455149\tvalidation_1-rmse:0.602264\n",
      "[68]\tvalidation_0-rmse:0.452468\tvalidation_1-rmse:0.600911\n",
      "[69]\tvalidation_0-rmse:0.451506\tvalidation_1-rmse:0.600533\n",
      "[70]\tvalidation_0-rmse:0.44868\tvalidation_1-rmse:0.599639\n",
      "[71]\tvalidation_0-rmse:0.447894\tvalidation_1-rmse:0.600951\n",
      "[72]\tvalidation_0-rmse:0.446716\tvalidation_1-rmse:0.59973\n",
      "[73]\tvalidation_0-rmse:0.445729\tvalidation_1-rmse:0.599773\n",
      "[74]\tvalidation_0-rmse:0.444217\tvalidation_1-rmse:0.598381\n",
      "[75]\tvalidation_0-rmse:0.443541\tvalidation_1-rmse:0.599668\n",
      "[76]\tvalidation_0-rmse:0.442065\tvalidation_1-rmse:0.598848\n",
      "[77]\tvalidation_0-rmse:0.441542\tvalidation_1-rmse:0.598307\n",
      "[78]\tvalidation_0-rmse:0.440306\tvalidation_1-rmse:0.598697\n",
      "[79]\tvalidation_0-rmse:0.439729\tvalidation_1-rmse:0.599952\n",
      "[80]\tvalidation_0-rmse:0.437535\tvalidation_1-rmse:0.599069\n",
      "[81]\tvalidation_0-rmse:0.436077\tvalidation_1-rmse:0.599477\n",
      "[82]\tvalidation_0-rmse:0.435272\tvalidation_1-rmse:0.599454\n",
      "[83]\tvalidation_0-rmse:0.4314\tvalidation_1-rmse:0.597898\n",
      "[84]\tvalidation_0-rmse:0.430858\tvalidation_1-rmse:0.598284\n",
      "[85]\tvalidation_0-rmse:0.430112\tvalidation_1-rmse:0.59777\n",
      "[86]\tvalidation_0-rmse:0.429252\tvalidation_1-rmse:0.598171\n",
      "[87]\tvalidation_0-rmse:0.42796\tvalidation_1-rmse:0.597074\n",
      "[88]\tvalidation_0-rmse:0.427517\tvalidation_1-rmse:0.596768\n",
      "[89]\tvalidation_0-rmse:0.427056\tvalidation_1-rmse:0.5971\n",
      "[90]\tvalidation_0-rmse:0.42462\tvalidation_1-rmse:0.596242\n",
      "[91]\tvalidation_0-rmse:0.423424\tvalidation_1-rmse:0.595161\n",
      "[92]\tvalidation_0-rmse:0.422033\tvalidation_1-rmse:0.595449\n",
      "[93]\tvalidation_0-rmse:0.42139\tvalidation_1-rmse:0.595221\n",
      "[94]\tvalidation_0-rmse:0.420455\tvalidation_1-rmse:0.595022\n",
      "[95]\tvalidation_0-rmse:0.418951\tvalidation_1-rmse:0.594357\n",
      "[96]\tvalidation_0-rmse:0.417668\tvalidation_1-rmse:0.594726\n",
      "[97]\tvalidation_0-rmse:0.416785\tvalidation_1-rmse:0.594447\n",
      "[98]\tvalidation_0-rmse:0.415323\tvalidation_1-rmse:0.59421\n",
      "[99]\tvalidation_0-rmse:0.414739\tvalidation_1-rmse:0.594196\n",
      "[100]\tvalidation_0-rmse:0.413766\tvalidation_1-rmse:0.593393\n",
      "[101]\tvalidation_0-rmse:0.412103\tvalidation_1-rmse:0.592277\n",
      "[102]\tvalidation_0-rmse:0.411134\tvalidation_1-rmse:0.59146\n",
      "[103]\tvalidation_0-rmse:0.408716\tvalidation_1-rmse:0.589903\n",
      "[104]\tvalidation_0-rmse:0.408336\tvalidation_1-rmse:0.590391\n",
      "[105]\tvalidation_0-rmse:0.408011\tvalidation_1-rmse:0.590157\n",
      "[106]\tvalidation_0-rmse:0.406866\tvalidation_1-rmse:0.590353\n",
      "[107]\tvalidation_0-rmse:0.405\tvalidation_1-rmse:0.589504\n",
      "[108]\tvalidation_0-rmse:0.402783\tvalidation_1-rmse:0.588388\n",
      "[109]\tvalidation_0-rmse:0.401254\tvalidation_1-rmse:0.586515\n",
      "[110]\tvalidation_0-rmse:0.400926\tvalidation_1-rmse:0.58746\n",
      "[111]\tvalidation_0-rmse:0.398149\tvalidation_1-rmse:0.586078\n",
      "[112]\tvalidation_0-rmse:0.39758\tvalidation_1-rmse:0.585968\n",
      "[113]\tvalidation_0-rmse:0.396872\tvalidation_1-rmse:0.58589\n",
      "[114]\tvalidation_0-rmse:0.394897\tvalidation_1-rmse:0.584697\n",
      "[115]\tvalidation_0-rmse:0.393518\tvalidation_1-rmse:0.583914\n",
      "[116]\tvalidation_0-rmse:0.392742\tvalidation_1-rmse:0.583335\n",
      "[117]\tvalidation_0-rmse:0.391536\tvalidation_1-rmse:0.583218\n",
      "[118]\tvalidation_0-rmse:0.3912\tvalidation_1-rmse:0.58385\n",
      "[119]\tvalidation_0-rmse:0.390464\tvalidation_1-rmse:0.583599\n",
      "[120]\tvalidation_0-rmse:0.389883\tvalidation_1-rmse:0.583443\n",
      "[121]\tvalidation_0-rmse:0.389187\tvalidation_1-rmse:0.582937\n",
      "[122]\tvalidation_0-rmse:0.388453\tvalidation_1-rmse:0.582341\n",
      "[123]\tvalidation_0-rmse:0.388157\tvalidation_1-rmse:0.582807\n",
      "[124]\tvalidation_0-rmse:0.387346\tvalidation_1-rmse:0.58211\n",
      "[125]\tvalidation_0-rmse:0.386369\tvalidation_1-rmse:0.582298\n",
      "[126]\tvalidation_0-rmse:0.385512\tvalidation_1-rmse:0.582055\n",
      "[127]\tvalidation_0-rmse:0.385246\tvalidation_1-rmse:0.582719\n",
      "[128]\tvalidation_0-rmse:0.384323\tvalidation_1-rmse:0.582168\n",
      "[129]\tvalidation_0-rmse:0.383612\tvalidation_1-rmse:0.582377\n",
      "[130]\tvalidation_0-rmse:0.383001\tvalidation_1-rmse:0.581796\n",
      "[131]\tvalidation_0-rmse:0.38265\tvalidation_1-rmse:0.581946\n",
      "[132]\tvalidation_0-rmse:0.382119\tvalidation_1-rmse:0.581428\n",
      "[133]\tvalidation_0-rmse:0.38186\tvalidation_1-rmse:0.581327\n",
      "[134]\tvalidation_0-rmse:0.381621\tvalidation_1-rmse:0.58175\n"
     ]
    },
    {
     "name": "stdout",
     "output_type": "stream",
     "text": [
      "[135]\tvalidation_0-rmse:0.380651\tvalidation_1-rmse:0.581825\n",
      "[136]\tvalidation_0-rmse:0.379608\tvalidation_1-rmse:0.581348\n",
      "[137]\tvalidation_0-rmse:0.378719\tvalidation_1-rmse:0.581187\n",
      "[138]\tvalidation_0-rmse:0.376784\tvalidation_1-rmse:0.580553\n",
      "[139]\tvalidation_0-rmse:0.375546\tvalidation_1-rmse:0.580822\n",
      "[140]\tvalidation_0-rmse:0.374886\tvalidation_1-rmse:0.580291\n",
      "[141]\tvalidation_0-rmse:0.374125\tvalidation_1-rmse:0.579764\n",
      "[142]\tvalidation_0-rmse:0.371809\tvalidation_1-rmse:0.578289\n",
      "[143]\tvalidation_0-rmse:0.371321\tvalidation_1-rmse:0.577949\n",
      "[144]\tvalidation_0-rmse:0.37111\tvalidation_1-rmse:0.578668\n",
      "[145]\tvalidation_0-rmse:0.370741\tvalidation_1-rmse:0.578891\n",
      "[146]\tvalidation_0-rmse:0.369972\tvalidation_1-rmse:0.579047\n",
      "[147]\tvalidation_0-rmse:0.369526\tvalidation_1-rmse:0.578914\n",
      "[148]\tvalidation_0-rmse:0.3682\tvalidation_1-rmse:0.57834\n",
      "[149]\tvalidation_0-rmse:0.367996\tvalidation_1-rmse:0.578877\n",
      "[150]\tvalidation_0-rmse:0.367238\tvalidation_1-rmse:0.578271\n",
      "[151]\tvalidation_0-rmse:0.366636\tvalidation_1-rmse:0.578295\n",
      "[152]\tvalidation_0-rmse:0.366122\tvalidation_1-rmse:0.578294\n",
      "[153]\tvalidation_0-rmse:0.365094\tvalidation_1-rmse:0.577817\n",
      "[154]\tvalidation_0-rmse:0.364285\tvalidation_1-rmse:0.577427\n",
      "[155]\tvalidation_0-rmse:0.364083\tvalidation_1-rmse:0.577342\n",
      "[156]\tvalidation_0-rmse:0.363452\tvalidation_1-rmse:0.576987\n",
      "[157]\tvalidation_0-rmse:0.362524\tvalidation_1-rmse:0.577333\n",
      "[158]\tvalidation_0-rmse:0.362341\tvalidation_1-rmse:0.577688\n",
      "[159]\tvalidation_0-rmse:0.361727\tvalidation_1-rmse:0.577792\n",
      "[160]\tvalidation_0-rmse:0.361024\tvalidation_1-rmse:0.577203\n",
      "[161]\tvalidation_0-rmse:0.359207\tvalidation_1-rmse:0.576304\n",
      "[162]\tvalidation_0-rmse:0.357514\tvalidation_1-rmse:0.575414\n",
      "[163]\tvalidation_0-rmse:0.356523\tvalidation_1-rmse:0.575435\n",
      "[164]\tvalidation_0-rmse:0.356036\tvalidation_1-rmse:0.575393\n",
      "[165]\tvalidation_0-rmse:0.355724\tvalidation_1-rmse:0.575119\n",
      "[166]\tvalidation_0-rmse:0.355571\tvalidation_1-rmse:0.57519\n",
      "[167]\tvalidation_0-rmse:0.354614\tvalidation_1-rmse:0.574529\n",
      "[168]\tvalidation_0-rmse:0.353458\tvalidation_1-rmse:0.573946\n",
      "[169]\tvalidation_0-rmse:0.352785\tvalidation_1-rmse:0.57429\n",
      "[170]\tvalidation_0-rmse:0.352125\tvalidation_1-rmse:0.573712\n",
      "[171]\tvalidation_0-rmse:0.351554\tvalidation_1-rmse:0.573815\n",
      "[172]\tvalidation_0-rmse:0.350988\tvalidation_1-rmse:0.573644\n",
      "[173]\tvalidation_0-rmse:0.35083\tvalidation_1-rmse:0.5743\n",
      "[174]\tvalidation_0-rmse:0.349612\tvalidation_1-rmse:0.573895\n",
      "[175]\tvalidation_0-rmse:0.348455\tvalidation_1-rmse:0.573661\n",
      "[176]\tvalidation_0-rmse:0.347867\tvalidation_1-rmse:0.57329\n",
      "[177]\tvalidation_0-rmse:0.346393\tvalidation_1-rmse:0.572663\n",
      "[178]\tvalidation_0-rmse:0.345702\tvalidation_1-rmse:0.57301\n",
      "[179]\tvalidation_0-rmse:0.345265\tvalidation_1-rmse:0.57261\n",
      "[180]\tvalidation_0-rmse:0.343958\tvalidation_1-rmse:0.57205\n",
      "[181]\tvalidation_0-rmse:0.343043\tvalidation_1-rmse:0.571592\n",
      "[182]\tvalidation_0-rmse:0.342258\tvalidation_1-rmse:0.571691\n",
      "[183]\tvalidation_0-rmse:0.341221\tvalidation_1-rmse:0.571267\n",
      "[184]\tvalidation_0-rmse:0.340712\tvalidation_1-rmse:0.570789\n",
      "[185]\tvalidation_0-rmse:0.340033\tvalidation_1-rmse:0.570324\n",
      "[186]\tvalidation_0-rmse:0.339404\tvalidation_1-rmse:0.569575\n",
      "[187]\tvalidation_0-rmse:0.338646\tvalidation_1-rmse:0.56958\n",
      "[188]\tvalidation_0-rmse:0.337612\tvalidation_1-rmse:0.569544\n",
      "[189]\tvalidation_0-rmse:0.33708\tvalidation_1-rmse:0.569245\n",
      "[190]\tvalidation_0-rmse:0.336806\tvalidation_1-rmse:0.569138\n",
      "[191]\tvalidation_0-rmse:0.336379\tvalidation_1-rmse:0.569221\n",
      "[192]\tvalidation_0-rmse:0.335816\tvalidation_1-rmse:0.569066\n",
      "[193]\tvalidation_0-rmse:0.335149\tvalidation_1-rmse:0.568534\n",
      "[194]\tvalidation_0-rmse:0.335012\tvalidation_1-rmse:0.56878\n",
      "[195]\tvalidation_0-rmse:0.334587\tvalidation_1-rmse:0.568708\n",
      "[196]\tvalidation_0-rmse:0.334075\tvalidation_1-rmse:0.568495\n",
      "[197]\tvalidation_0-rmse:0.333306\tvalidation_1-rmse:0.568855\n",
      "[198]\tvalidation_0-rmse:0.332073\tvalidation_1-rmse:0.568419\n",
      "[199]\tvalidation_0-rmse:0.331347\tvalidation_1-rmse:0.567935\n",
      "[200]\tvalidation_0-rmse:0.330918\tvalidation_1-rmse:0.567959\n",
      "[201]\tvalidation_0-rmse:0.330012\tvalidation_1-rmse:0.567906\n",
      "[202]\tvalidation_0-rmse:0.329586\tvalidation_1-rmse:0.567725\n",
      "[203]\tvalidation_0-rmse:0.329139\tvalidation_1-rmse:0.567596\n",
      "[204]\tvalidation_0-rmse:0.328998\tvalidation_1-rmse:0.568311\n",
      "[205]\tvalidation_0-rmse:0.328443\tvalidation_1-rmse:0.567739\n",
      "[206]\tvalidation_0-rmse:0.327915\tvalidation_1-rmse:0.568137\n",
      "[207]\tvalidation_0-rmse:0.327461\tvalidation_1-rmse:0.567978\n",
      "[208]\tvalidation_0-rmse:0.327341\tvalidation_1-rmse:0.568236\n",
      "[209]\tvalidation_0-rmse:0.326503\tvalidation_1-rmse:0.567699\n",
      "[210]\tvalidation_0-rmse:0.325701\tvalidation_1-rmse:0.56713\n",
      "[211]\tvalidation_0-rmse:0.325256\tvalidation_1-rmse:0.567041\n",
      "[212]\tvalidation_0-rmse:0.325055\tvalidation_1-rmse:0.566847\n",
      "[213]\tvalidation_0-rmse:0.323965\tvalidation_1-rmse:0.566573\n",
      "[214]\tvalidation_0-rmse:0.32327\tvalidation_1-rmse:0.566111\n",
      "[215]\tvalidation_0-rmse:0.3226\tvalidation_1-rmse:0.566246\n",
      "[216]\tvalidation_0-rmse:0.322478\tvalidation_1-rmse:0.566916\n",
      "[217]\tvalidation_0-rmse:0.321863\tvalidation_1-rmse:0.566643\n",
      "[218]\tvalidation_0-rmse:0.321466\tvalidation_1-rmse:0.566365\n",
      "[219]\tvalidation_0-rmse:0.321051\tvalidation_1-rmse:0.566491\n",
      "[220]\tvalidation_0-rmse:0.320945\tvalidation_1-rmse:0.567131\n",
      "[221]\tvalidation_0-rmse:0.320504\tvalidation_1-rmse:0.56705\n",
      "[222]\tvalidation_0-rmse:0.320141\tvalidation_1-rmse:0.566975\n",
      "[223]\tvalidation_0-rmse:0.319477\tvalidation_1-rmse:0.566746\n",
      "[224]\tvalidation_0-rmse:0.31931\tvalidation_1-rmse:0.566735\n",
      "Stopping. Best iteration:\n",
      "[214]\tvalidation_0-rmse:0.32327\tvalidation_1-rmse:0.566111\n",
      "\n"
     ]
    },
    {
     "data": {
      "text/plain": [
       "XGBRegressor(base_score=0.5, booster='gbtree', colsample_bylevel=1,\n",
       "             colsample_bynode=1, colsample_bytree=1, gamma=0,\n",
       "             importance_type='gain', learning_rate=0.1, max_delta_step=0,\n",
       "             max_depth=3, min_child_weight=1, missing=None, n_estimators=1000,\n",
       "             n_jobs=1, nthread=None, objective='reg:linear', random_state=0,\n",
       "             reg_alpha=0, reg_lambda=1, scale_pos_weight=1, seed=None,\n",
       "             silent=None, subsample=1, verbosity=1)"
      ]
     },
     "execution_count": 21,
     "metadata": {},
     "output_type": "execute_result"
    }
   ],
   "source": [
    "# Обучим модель XGBRegressor c заданным параметром early_stopping_rounds\n",
    "xgb = XGBRegressor(n_estimators=1000, random_state=RANDOM_SEED)\n",
    "xgb.fit(X_train, y_train,\n",
    "        eval_set=[(X_train, y_train),(X_test, y_test)],\n",
    "        eval_metric='rmse',\n",
    "        verbose=True,\n",
    "        early_stopping_rounds=10\n",
    "        )"
   ]
  },
  {
   "cell_type": "markdown",
   "metadata": {},
   "source": [
    "- Обучение было остановлено, после того как ошибка rmse не уменьшалась на тестовой выборке в течении **10** итерации.\n"
   ]
  },
  {
   "cell_type": "code",
   "execution_count": 22,
   "metadata": {},
   "outputs": [
    {
     "data": {
      "text/plain": [
       "0.566111"
      ]
     },
     "execution_count": 22,
     "metadata": {},
     "output_type": "execute_result"
    }
   ],
   "source": [
    "xgb.best_score"
   ]
  },
  {
   "cell_type": "code",
   "execution_count": 23,
   "metadata": {
    "scrolled": false
   },
   "outputs": [
    {
     "data": {
      "image/png": "[encoded data removed]",
      "text/plain": [
       "<Figure size 720x360 with 1 Axes>"
      ]
     },
     "metadata": {
      "needs_background": "light"
     },
     "output_type": "display_data"
    }
   ],
   "source": [
    "# Построим кривые обучения и валидации с помощью встроенных в XGBoost методов оценки ошибки. \n",
    "eval_results = xgb.evals_result()\n",
    "train_error = eval_results['validation_0']['rmse']\n",
    "test_error = eval_results['validation_1']['rmse']\n",
    "df_error = pd.DataFrame([train_error, test_error]).T\n",
    "df_error.columns = ['train', 'test']\n",
    "df_error.index.name = 'iteration'\n",
    "# Plot curves\n",
    "df_error.plot(title = 'XGB Learning curves', figsize=(10,5));"
   ]
  },
  {
   "cell_type": "markdown",
   "metadata": {},
   "source": [
    "- По кривым обучения видно, что применение раннего останова обучения позволило избежать переобучения модели.\n"
   ]
  },
  {
   "cell_type": "markdown",
   "metadata": {},
   "source": [
    "### <font color='brown'> Задание №5 </font>\n",
    "Работа с встроенной функцией Feature_importance\n",
    "- С помощью встроенной в xgboost функции определения важности признаков найдите топ 4 важных признаков и переобучите на них модель.\n",
    "- Ответом будет метрика rmse, полученная новой моделью на тестовой выборке. Ответ округлите до 3-го знака. "
   ]
  },
  {
   "cell_type": "code",
   "execution_count": 24,
   "metadata": {},
   "outputs": [
    {
     "name": "stdout",
     "output_type": "stream",
     "text": [
      "[0.5244073  0.05500259 0.03026315 0.0365083 ]\n"
     ]
    },
    {
     "data": {
      "text/plain": [
       "{'clm_0': 5274.16163170655,\n",
       " 'clm_6': 924.8557077926006,\n",
       " 'clm_5': 1266.6488212751,\n",
       " 'clm_2': 243.2225641985001,\n",
       " 'clm_1': 308.6951464954,\n",
       " 'clm_7': 1115.3138050559005,\n",
       " 'clm_3': 157.3618960477899,\n",
       " 'clm_4': 164.92037671989993}"
      ]
     },
     "execution_count": 24,
     "metadata": {},
     "output_type": "execute_result"
    }
   ],
   "source": [
    "best_features = xgb.feature_importances_[:4]\n",
    "print(best_features)\n",
    "importance_type = ['weight', 'gain', 'cover', 'total_gain', 'total_cover']\n",
    "xgb.get_booster().get_score(importance_type='total_gain')"
   ]
  },
  {
   "cell_type": "code",
   "execution_count": 25,
   "metadata": {},
   "outputs": [
    {
     "name": "stdout",
     "output_type": "stream",
     "text": [
      "[19:45:31] WARNING: src/objective/regression_obj.cu:152: reg:linear is now deprecated in favor of reg:squarederror.\n",
      "[0]\tvalidation_0-rmse:1.80319\tvalidation_1-rmse:1.77049\n",
      "Multiple eval metrics have been passed: 'validation_1-rmse' will be used for early stopping.\n",
      "\n",
      "Will train until validation_1-rmse hasn't improved in 10 rounds.\n",
      "[1]\tvalidation_0-rmse:1.65747\tvalidation_1-rmse:1.63116\n",
      "[2]\tvalidation_0-rmse:1.5298\tvalidation_1-rmse:1.51029\n",
      "[3]\tvalidation_0-rmse:1.41583\tvalidation_1-rmse:1.40453\n",
      "[4]\tvalidation_0-rmse:1.31527\tvalidation_1-rmse:1.30982\n",
      "[5]\tvalidation_0-rmse:1.22731\tvalidation_1-rmse:1.22576\n",
      "[6]\tvalidation_0-rmse:1.14922\tvalidation_1-rmse:1.15673\n",
      "[7]\tvalidation_0-rmse:1.08094\tvalidation_1-rmse:1.09281\n",
      "[8]\tvalidation_0-rmse:1.02173\tvalidation_1-rmse:1.03849\n",
      "[9]\tvalidation_0-rmse:0.970138\tvalidation_1-rmse:0.991533\n",
      "[10]\tvalidation_0-rmse:0.922112\tvalidation_1-rmse:0.950885\n",
      "[11]\tvalidation_0-rmse:0.882091\tvalidation_1-rmse:0.913413\n",
      "[12]\tvalidation_0-rmse:0.846066\tvalidation_1-rmse:0.881278\n",
      "[13]\tvalidation_0-rmse:0.814732\tvalidation_1-rmse:0.85573\n",
      "[14]\tvalidation_0-rmse:0.786104\tvalidation_1-rmse:0.830877\n",
      "[15]\tvalidation_0-rmse:0.762728\tvalidation_1-rmse:0.809704\n",
      "[16]\tvalidation_0-rmse:0.741444\tvalidation_1-rmse:0.792287\n",
      "[17]\tvalidation_0-rmse:0.720822\tvalidation_1-rmse:0.777802\n",
      "[18]\tvalidation_0-rmse:0.703708\tvalidation_1-rmse:0.760966\n",
      "[19]\tvalidation_0-rmse:0.686896\tvalidation_1-rmse:0.746571\n",
      "[20]\tvalidation_0-rmse:0.667204\tvalidation_1-rmse:0.728754\n",
      "[21]\tvalidation_0-rmse:0.656271\tvalidation_1-rmse:0.720135\n",
      "[22]\tvalidation_0-rmse:0.645759\tvalidation_1-rmse:0.712648\n",
      "[23]\tvalidation_0-rmse:0.635703\tvalidation_1-rmse:0.704109\n",
      "[24]\tvalidation_0-rmse:0.62172\tvalidation_1-rmse:0.69272\n",
      "[25]\tvalidation_0-rmse:0.613648\tvalidation_1-rmse:0.688061\n",
      "[26]\tvalidation_0-rmse:0.606533\tvalidation_1-rmse:0.681368\n",
      "[27]\tvalidation_0-rmse:0.600073\tvalidation_1-rmse:0.676917\n",
      "[28]\tvalidation_0-rmse:0.594238\tvalidation_1-rmse:0.672945\n",
      "[29]\tvalidation_0-rmse:0.583915\tvalidation_1-rmse:0.665293\n",
      "[30]\tvalidation_0-rmse:0.572825\tvalidation_1-rmse:0.657922\n",
      "[31]\tvalidation_0-rmse:0.568261\tvalidation_1-rmse:0.654418\n",
      "[32]\tvalidation_0-rmse:0.564037\tvalidation_1-rmse:0.651722\n",
      "[33]\tvalidation_0-rmse:0.556041\tvalidation_1-rmse:0.644103\n",
      "[34]\tvalidation_0-rmse:0.552461\tvalidation_1-rmse:0.642114\n",
      "[35]\tvalidation_0-rmse:0.54691\tvalidation_1-rmse:0.638754\n",
      "[36]\tvalidation_0-rmse:0.544245\tvalidation_1-rmse:0.637605\n",
      "[37]\tvalidation_0-rmse:0.539037\tvalidation_1-rmse:0.633559\n",
      "[38]\tvalidation_0-rmse:0.536588\tvalidation_1-rmse:0.63264\n",
      "[39]\tvalidation_0-rmse:0.532196\tvalidation_1-rmse:0.629576\n",
      "[40]\tvalidation_0-rmse:0.527467\tvalidation_1-rmse:0.625335\n",
      "[41]\tvalidation_0-rmse:0.524427\tvalidation_1-rmse:0.62322\n",
      "[42]\tvalidation_0-rmse:0.522143\tvalidation_1-rmse:0.621308\n",
      "[43]\tvalidation_0-rmse:0.518037\tvalidation_1-rmse:0.61904\n",
      "[44]\tvalidation_0-rmse:0.51501\tvalidation_1-rmse:0.617195\n",
      "[45]\tvalidation_0-rmse:0.510807\tvalidation_1-rmse:0.614821\n",
      "[46]\tvalidation_0-rmse:0.50741\tvalidation_1-rmse:0.613137\n",
      "[47]\tvalidation_0-rmse:0.505984\tvalidation_1-rmse:0.61183\n",
      "[48]\tvalidation_0-rmse:0.50503\tvalidation_1-rmse:0.611474\n",
      "[49]\tvalidation_0-rmse:0.502272\tvalidation_1-rmse:0.610045\n",
      "[50]\tvalidation_0-rmse:0.500894\tvalidation_1-rmse:0.609187\n",
      "[51]\tvalidation_0-rmse:0.499774\tvalidation_1-rmse:0.608665\n",
      "[52]\tvalidation_0-rmse:0.497798\tvalidation_1-rmse:0.60789\n",
      "[53]\tvalidation_0-rmse:0.496184\tvalidation_1-rmse:0.606766\n",
      "[54]\tvalidation_0-rmse:0.493552\tvalidation_1-rmse:0.60567\n",
      "[55]\tvalidation_0-rmse:0.491064\tvalidation_1-rmse:0.604831\n",
      "[56]\tvalidation_0-rmse:0.490107\tvalidation_1-rmse:0.604357\n",
      "[57]\tvalidation_0-rmse:0.489587\tvalidation_1-rmse:0.604248\n",
      "[58]\tvalidation_0-rmse:0.486678\tvalidation_1-rmse:0.602712\n",
      "[59]\tvalidation_0-rmse:0.486099\tvalidation_1-rmse:0.602231\n",
      "[60]\tvalidation_0-rmse:0.485422\tvalidation_1-rmse:0.602359\n",
      "[61]\tvalidation_0-rmse:0.484497\tvalidation_1-rmse:0.601951\n",
      "[62]\tvalidation_0-rmse:0.483986\tvalidation_1-rmse:0.601686\n",
      "[63]\tvalidation_0-rmse:0.482161\tvalidation_1-rmse:0.601083\n",
      "[64]\tvalidation_0-rmse:0.48164\tvalidation_1-rmse:0.601066\n",
      "[65]\tvalidation_0-rmse:0.47926\tvalidation_1-rmse:0.599687\n",
      "[66]\tvalidation_0-rmse:0.478651\tvalidation_1-rmse:0.599838\n",
      "[67]\tvalidation_0-rmse:0.478034\tvalidation_1-rmse:0.599865\n",
      "[68]\tvalidation_0-rmse:0.477541\tvalidation_1-rmse:0.599656\n",
      "[69]\tvalidation_0-rmse:0.476798\tvalidation_1-rmse:0.599427\n",
      "[70]\tvalidation_0-rmse:0.476256\tvalidation_1-rmse:0.599595\n",
      "[71]\tvalidation_0-rmse:0.475114\tvalidation_1-rmse:0.598166\n",
      "[72]\tvalidation_0-rmse:0.47167\tvalidation_1-rmse:0.596578\n",
      "[73]\tvalidation_0-rmse:0.471259\tvalidation_1-rmse:0.596281\n",
      "[74]\tvalidation_0-rmse:0.469035\tvalidation_1-rmse:0.595257\n",
      "[75]\tvalidation_0-rmse:0.467871\tvalidation_1-rmse:0.594251\n",
      "[76]\tvalidation_0-rmse:0.466871\tvalidation_1-rmse:0.593042\n",
      "[77]\tvalidation_0-rmse:0.465476\tvalidation_1-rmse:0.592097\n",
      "[78]\tvalidation_0-rmse:0.464456\tvalidation_1-rmse:0.591844\n",
      "[79]\tvalidation_0-rmse:0.461428\tvalidation_1-rmse:0.588883\n",
      "[80]\tvalidation_0-rmse:0.460223\tvalidation_1-rmse:0.587884\n",
      "[81]\tvalidation_0-rmse:0.459734\tvalidation_1-rmse:0.587967\n",
      "[82]\tvalidation_0-rmse:0.458793\tvalidation_1-rmse:0.586876\n",
      "[83]\tvalidation_0-rmse:0.458207\tvalidation_1-rmse:0.586584\n",
      "[84]\tvalidation_0-rmse:0.45789\tvalidation_1-rmse:0.586354\n",
      "[85]\tvalidation_0-rmse:0.457102\tvalidation_1-rmse:0.585437\n",
      "[86]\tvalidation_0-rmse:0.456572\tvalidation_1-rmse:0.585693\n",
      "[87]\tvalidation_0-rmse:0.455414\tvalidation_1-rmse:0.584979\n",
      "[88]\tvalidation_0-rmse:0.453853\tvalidation_1-rmse:0.584691\n",
      "[89]\tvalidation_0-rmse:0.45334\tvalidation_1-rmse:0.584614\n",
      "[90]\tvalidation_0-rmse:0.452508\tvalidation_1-rmse:0.584554\n",
      "[91]\tvalidation_0-rmse:0.450138\tvalidation_1-rmse:0.583303\n",
      "[92]\tvalidation_0-rmse:0.449736\tvalidation_1-rmse:0.583428\n",
      "[93]\tvalidation_0-rmse:0.449309\tvalidation_1-rmse:0.583604\n",
      "[94]\tvalidation_0-rmse:0.44704\tvalidation_1-rmse:0.581499\n",
      "[95]\tvalidation_0-rmse:0.445815\tvalidation_1-rmse:0.581385\n",
      "[96]\tvalidation_0-rmse:0.445149\tvalidation_1-rmse:0.581392\n",
      "[97]\tvalidation_0-rmse:0.444473\tvalidation_1-rmse:0.580782\n",
      "[98]\tvalidation_0-rmse:0.443399\tvalidation_1-rmse:0.580687\n",
      "[99]\tvalidation_0-rmse:0.441772\tvalidation_1-rmse:0.580856\n",
      "[100]\tvalidation_0-rmse:0.441443\tvalidation_1-rmse:0.580841\n",
      "[101]\tvalidation_0-rmse:0.440283\tvalidation_1-rmse:0.580387\n",
      "[102]\tvalidation_0-rmse:0.439335\tvalidation_1-rmse:0.579882\n",
      "[103]\tvalidation_0-rmse:0.438668\tvalidation_1-rmse:0.580232\n",
      "[104]\tvalidation_0-rmse:0.438136\tvalidation_1-rmse:0.579678\n",
      "[105]\tvalidation_0-rmse:0.436502\tvalidation_1-rmse:0.579581\n",
      "[106]\tvalidation_0-rmse:0.435862\tvalidation_1-rmse:0.579014\n",
      "[107]\tvalidation_0-rmse:0.435528\tvalidation_1-rmse:0.579118\n",
      "[108]\tvalidation_0-rmse:0.43493\tvalidation_1-rmse:0.579401\n",
      "[109]\tvalidation_0-rmse:0.432982\tvalidation_1-rmse:0.578158\n",
      "[110]\tvalidation_0-rmse:0.432436\tvalidation_1-rmse:0.578092\n",
      "[111]\tvalidation_0-rmse:0.432094\tvalidation_1-rmse:0.57835\n",
      "[112]\tvalidation_0-rmse:0.429852\tvalidation_1-rmse:0.578072\n",
      "[113]\tvalidation_0-rmse:0.429319\tvalidation_1-rmse:0.57756\n",
      "[114]\tvalidation_0-rmse:0.427646\tvalidation_1-rmse:0.576629\n",
      "[115]\tvalidation_0-rmse:0.426661\tvalidation_1-rmse:0.576286\n",
      "[116]\tvalidation_0-rmse:0.426528\tvalidation_1-rmse:0.57617\n",
      "[117]\tvalidation_0-rmse:0.425208\tvalidation_1-rmse:0.575716\n",
      "[118]\tvalidation_0-rmse:0.424753\tvalidation_1-rmse:0.575841\n",
      "[119]\tvalidation_0-rmse:0.424296\tvalidation_1-rmse:0.5755\n",
      "[120]\tvalidation_0-rmse:0.424177\tvalidation_1-rmse:0.575426\n",
      "[121]\tvalidation_0-rmse:0.422843\tvalidation_1-rmse:0.574661\n",
      "[122]\tvalidation_0-rmse:0.422391\tvalidation_1-rmse:0.574852\n",
      "[123]\tvalidation_0-rmse:0.421576\tvalidation_1-rmse:0.574096\n",
      "[124]\tvalidation_0-rmse:0.419989\tvalidation_1-rmse:0.573692\n",
      "[125]\tvalidation_0-rmse:0.41907\tvalidation_1-rmse:0.573429\n",
      "[126]\tvalidation_0-rmse:0.418244\tvalidation_1-rmse:0.573604\n",
      "[127]\tvalidation_0-rmse:0.417431\tvalidation_1-rmse:0.573424\n",
      "[128]\tvalidation_0-rmse:0.417187\tvalidation_1-rmse:0.573584\n",
      "[129]\tvalidation_0-rmse:0.416273\tvalidation_1-rmse:0.573926\n",
      "[130]\tvalidation_0-rmse:0.415969\tvalidation_1-rmse:0.573871\n",
      "[131]\tvalidation_0-rmse:0.415274\tvalidation_1-rmse:0.573214\n",
      "[132]\tvalidation_0-rmse:0.414973\tvalidation_1-rmse:0.573331\n",
      "[133]\tvalidation_0-rmse:0.414396\tvalidation_1-rmse:0.573192\n",
      "[134]\tvalidation_0-rmse:0.413675\tvalidation_1-rmse:0.573104\n"
     ]
    },
    {
     "name": "stdout",
     "output_type": "stream",
     "text": [
      "[135]\tvalidation_0-rmse:0.413164\tvalidation_1-rmse:0.573075\n",
      "[136]\tvalidation_0-rmse:0.411487\tvalidation_1-rmse:0.572706\n",
      "[137]\tvalidation_0-rmse:0.410923\tvalidation_1-rmse:0.572437\n",
      "[138]\tvalidation_0-rmse:0.410662\tvalidation_1-rmse:0.572368\n",
      "[139]\tvalidation_0-rmse:0.409922\tvalidation_1-rmse:0.572141\n",
      "[140]\tvalidation_0-rmse:0.409332\tvalidation_1-rmse:0.57255\n",
      "[141]\tvalidation_0-rmse:0.408676\tvalidation_1-rmse:0.572435\n",
      "[142]\tvalidation_0-rmse:0.407267\tvalidation_1-rmse:0.572277\n",
      "[143]\tvalidation_0-rmse:0.406414\tvalidation_1-rmse:0.571887\n",
      "[144]\tvalidation_0-rmse:0.405\tvalidation_1-rmse:0.571388\n",
      "[145]\tvalidation_0-rmse:0.403706\tvalidation_1-rmse:0.571039\n",
      "[146]\tvalidation_0-rmse:0.403187\tvalidation_1-rmse:0.571053\n",
      "[147]\tvalidation_0-rmse:0.402574\tvalidation_1-rmse:0.570979\n",
      "[148]\tvalidation_0-rmse:0.401475\tvalidation_1-rmse:0.570822\n",
      "[149]\tvalidation_0-rmse:0.400228\tvalidation_1-rmse:0.570185\n",
      "[150]\tvalidation_0-rmse:0.399474\tvalidation_1-rmse:0.570351\n",
      "[151]\tvalidation_0-rmse:0.398819\tvalidation_1-rmse:0.570243\n",
      "[152]\tvalidation_0-rmse:0.39774\tvalidation_1-rmse:0.570199\n",
      "[153]\tvalidation_0-rmse:0.396686\tvalidation_1-rmse:0.570045\n",
      "[154]\tvalidation_0-rmse:0.396422\tvalidation_1-rmse:0.569981\n",
      "[155]\tvalidation_0-rmse:0.395551\tvalidation_1-rmse:0.569506\n",
      "[156]\tvalidation_0-rmse:0.394286\tvalidation_1-rmse:0.568573\n",
      "[157]\tvalidation_0-rmse:0.393513\tvalidation_1-rmse:0.568701\n",
      "[158]\tvalidation_0-rmse:0.392873\tvalidation_1-rmse:0.568238\n",
      "[159]\tvalidation_0-rmse:0.39215\tvalidation_1-rmse:0.56797\n",
      "[160]\tvalidation_0-rmse:0.391469\tvalidation_1-rmse:0.568274\n",
      "[161]\tvalidation_0-rmse:0.390533\tvalidation_1-rmse:0.567653\n",
      "[162]\tvalidation_0-rmse:0.389716\tvalidation_1-rmse:0.567606\n",
      "[163]\tvalidation_0-rmse:0.388712\tvalidation_1-rmse:0.567396\n",
      "[164]\tvalidation_0-rmse:0.388015\tvalidation_1-rmse:0.567318\n",
      "[165]\tvalidation_0-rmse:0.387194\tvalidation_1-rmse:0.567281\n",
      "[166]\tvalidation_0-rmse:0.386116\tvalidation_1-rmse:0.56686\n",
      "[167]\tvalidation_0-rmse:0.38558\tvalidation_1-rmse:0.567064\n",
      "[168]\tvalidation_0-rmse:0.385055\tvalidation_1-rmse:0.567167\n",
      "[169]\tvalidation_0-rmse:0.384912\tvalidation_1-rmse:0.567296\n",
      "[170]\tvalidation_0-rmse:0.384163\tvalidation_1-rmse:0.566856\n",
      "[171]\tvalidation_0-rmse:0.38363\tvalidation_1-rmse:0.566801\n",
      "[172]\tvalidation_0-rmse:0.382574\tvalidation_1-rmse:0.56679\n",
      "[173]\tvalidation_0-rmse:0.381665\tvalidation_1-rmse:0.566725\n",
      "[174]\tvalidation_0-rmse:0.381292\tvalidation_1-rmse:0.566535\n",
      "[175]\tvalidation_0-rmse:0.380816\tvalidation_1-rmse:0.566519\n",
      "[176]\tvalidation_0-rmse:0.380081\tvalidation_1-rmse:0.567259\n",
      "[177]\tvalidation_0-rmse:0.379692\tvalidation_1-rmse:0.567247\n",
      "[178]\tvalidation_0-rmse:0.37876\tvalidation_1-rmse:0.567004\n",
      "[179]\tvalidation_0-rmse:0.378672\tvalidation_1-rmse:0.567022\n",
      "[180]\tvalidation_0-rmse:0.377915\tvalidation_1-rmse:0.566973\n",
      "[181]\tvalidation_0-rmse:0.377606\tvalidation_1-rmse:0.566787\n",
      "[182]\tvalidation_0-rmse:0.376571\tvalidation_1-rmse:0.566759\n",
      "[183]\tvalidation_0-rmse:0.376023\tvalidation_1-rmse:0.566922\n",
      "[184]\tvalidation_0-rmse:0.375588\tvalidation_1-rmse:0.56685\n",
      "[185]\tvalidation_0-rmse:0.375202\tvalidation_1-rmse:0.566816\n",
      "Stopping. Best iteration:\n",
      "[175]\tvalidation_0-rmse:0.380816\tvalidation_1-rmse:0.566519\n",
      "\n"
     ]
    },
    {
     "data": {
      "text/plain": [
       "XGBRegressor(base_score=0.5, booster='gbtree', colsample_bylevel=1,\n",
       "             colsample_bynode=1, colsample_bytree=1, gamma=0,\n",
       "             importance_type='gain', learning_rate=0.1, max_delta_step=0,\n",
       "             max_depth=3, min_child_weight=1, missing=None, n_estimators=1000,\n",
       "             n_jobs=1, nthread=None, objective='reg:linear', random_state=0,\n",
       "             reg_alpha=0, reg_lambda=1, scale_pos_weight=1, seed=None,\n",
       "             silent=None, subsample=1, verbosity=1)"
      ]
     },
     "execution_count": 25,
     "metadata": {},
     "output_type": "execute_result"
    }
   ],
   "source": [
    "X_importance_train = X_train.drop(['clm_1','clm_2','clm_3','clm_4'], axis=1)\n",
    "X_importance_test = X_test.drop(['clm_1','clm_2','clm_3','clm_4'], axis=1)\n",
    "xgb_importance = XGBRegressor(n_estimators=1000, random_state=RANDOM_SEED)\n",
    "xgb_importance.fit(X_importance_train, y_train,\n",
    "        eval_set=[(X_importance_train, y_train),(X_importance_test, y_test)],\n",
    "        eval_metric='rmse',\n",
    "        verbose=True,\n",
    "        early_stopping_rounds=10\n",
    "        )"
   ]
  },
  {
   "cell_type": "code",
   "execution_count": 26,
   "metadata": {},
   "outputs": [
    {
     "data": {
      "text/plain": [
       "0.566519"
      ]
     },
     "execution_count": 26,
     "metadata": {},
     "output_type": "execute_result"
    }
   ],
   "source": [
    "xgb_importance.best_score"
   ]
  },
  {
   "cell_type": "markdown",
   "metadata": {},
   "source": [
    "### Тюнинг гиперпараметров XGBoost c помощью бибилиотеки hyperopt\n",
    "Основные параметры:\n",
    "\n",
    "- learning_rate: шаг обучения;\n",
    "- max_depth: максимальная глубина дерева.\n",
    "\n",
    "Параметры семплинга:\n",
    "\n",
    "- subsample: доля объектов выборки, на которых обучается одно дерево;\n",
    "- colsample_bytree: доля признаков, на которых обучается одно дерево.\n",
    "\n",
    "Параметры регуляризации:\n",
    "\n",
    "- min_child_weight: в задаче регресии - минимальное число листьев в одной ветке дерева;\n",
    "- gamma: коэффициент, который ограничивает число листьев во всем дереве;\n",
    "- lambda: L2 - регуляризация весов в листьях;\n",
    "- alpha: L1 - регуляриазция весов в листьях.\n",
    "\n",
    "Регуляризация в XGBoost:\n",
    "\n",
    "\\\\[L(y,z)+\\gamma*J + \\frac{\\lambda}{2}\\Sigma_{j=1}^{J}b_j^2\\\\]\n",
    "\n",
    "где J - число листьев в дереве, b - вес в листе.\n"
   ]
  },
  {
   "cell_type": "code",
   "execution_count": 27,
   "metadata": {},
   "outputs": [
    {
     "name": "stdout",
     "output_type": "stream",
     "text": [
      "[19:45:32] WARNING: src/objective/regression_obj.cu:152: reg:linear is now deprecated in favor of reg:squarederror.    \n",
      "  1%|▍                                                | 1/100 [00:00<00:11,  8.78trial/s, best loss: 0.645628095131159]"
     ]
    },
    {
     "name": "stderr",
     "output_type": "stream",
     "text": [
      "D:\\Anaconda\\lib\\site-packages\\xgboost\\core.py:587: FutureWarning: Series.base is deprecated and will be removed in a future version\n",
      "  if getattr(data, 'base', None) is not None and \\\n",
      "\n"
     ]
    },
    {
     "name": "stdout",
     "output_type": "stream",
     "text": [
      "[19:45:32] WARNING: src/objective/regression_obj.cu:152: reg:linear is now deprecated in favor of reg:squarederror.    \n",
      "  1%|▍                                                | 1/100 [00:00<00:11,  8.78trial/s, best loss: 0.645628095131159]"
     ]
    },
    {
     "name": "stderr",
     "output_type": "stream",
     "text": [
      "D:\\Anaconda\\lib\\site-packages\\xgboost\\core.py:587: FutureWarning: Series.base is deprecated and will be removed in a future version\n",
      "  if getattr(data, 'base', None) is not None and \\\n",
      "\n"
     ]
    },
    {
     "name": "stdout",
     "output_type": "stream",
     "text": [
      "[19:45:32] WARNING: src/objective/regression_obj.cu:152: reg:linear is now deprecated in favor of reg:squarederror.    \n",
      "  3%|█▍                                              | 3/100 [00:00<00:11,  8.26trial/s, best loss: 0.6068232231037392]"
     ]
    },
    {
     "name": "stderr",
     "output_type": "stream",
     "text": [
      "D:\\Anaconda\\lib\\site-packages\\xgboost\\core.py:587: FutureWarning: Series.base is deprecated and will be removed in a future version\n",
      "  if getattr(data, 'base', None) is not None and \\\n",
      "\n"
     ]
    },
    {
     "name": "stdout",
     "output_type": "stream",
     "text": [
      "[19:45:32] WARNING: src/objective/regression_obj.cu:152: reg:linear is now deprecated in favor of reg:squarederror.    \n",
      "  4%|█▉                                              | 4/100 [00:00<00:22,  4.34trial/s, best loss: 0.5440969179331584]"
     ]
    },
    {
     "name": "stderr",
     "output_type": "stream",
     "text": [
      "D:\\Anaconda\\lib\\site-packages\\xgboost\\core.py:587: FutureWarning: Series.base is deprecated and will be removed in a future version\n",
      "  if getattr(data, 'base', None) is not None and \\\n",
      "\n"
     ]
    },
    {
     "name": "stdout",
     "output_type": "stream",
     "text": [
      "[19:45:32] WARNING: src/objective/regression_obj.cu:152: reg:linear is now deprecated in favor of reg:squarederror.    \n",
      "  5%|██▍                                             | 5/100 [00:01<00:43,  2.17trial/s, best loss: 0.5364874583450472]"
     ]
    },
    {
     "name": "stderr",
     "output_type": "stream",
     "text": [
      "D:\\Anaconda\\lib\\site-packages\\xgboost\\core.py:587: FutureWarning: Series.base is deprecated and will be removed in a future version\n",
      "  if getattr(data, 'base', None) is not None and \\\n",
      "\n"
     ]
    },
    {
     "name": "stdout",
     "output_type": "stream",
     "text": [
      "[19:45:33] WARNING: src/objective/regression_obj.cu:152: reg:linear is now deprecated in favor of reg:squarederror.    \n",
      "  6%|██▉                                             | 6/100 [00:02<00:40,  2.32trial/s, best loss: 0.5364874583450472]"
     ]
    },
    {
     "name": "stderr",
     "output_type": "stream",
     "text": [
      "D:\\Anaconda\\lib\\site-packages\\xgboost\\core.py:587: FutureWarning: Series.base is deprecated and will be removed in a future version\n",
      "  if getattr(data, 'base', None) is not None and \\\n",
      "\n"
     ]
    },
    {
     "name": "stdout",
     "output_type": "stream",
     "text": [
      "[19:45:34] WARNING: src/objective/regression_obj.cu:152: reg:linear is now deprecated in favor of reg:squarederror.    \n",
      "  7%|███▎                                            | 7/100 [00:02<00:32,  2.86trial/s, best loss: 0.5364874583450472]"
     ]
    },
    {
     "name": "stderr",
     "output_type": "stream",
     "text": [
      "D:\\Anaconda\\lib\\site-packages\\xgboost\\core.py:587: FutureWarning: Series.base is deprecated and will be removed in a future version\n",
      "  if getattr(data, 'base', None) is not None and \\\n",
      "\n"
     ]
    },
    {
     "name": "stdout",
     "output_type": "stream",
     "text": [
      "[19:45:34] WARNING: src/objective/regression_obj.cu:152: reg:linear is now deprecated in favor of reg:squarederror.    \n",
      "  8%|███▊                                            | 8/100 [00:02<00:27,  3.35trial/s, best loss: 0.5364874583450472]"
     ]
    },
    {
     "name": "stderr",
     "output_type": "stream",
     "text": [
      "D:\\Anaconda\\lib\\site-packages\\xgboost\\core.py:587: FutureWarning: Series.base is deprecated and will be removed in a future version\n",
      "  if getattr(data, 'base', None) is not None and \\\n",
      "\n"
     ]
    },
    {
     "name": "stdout",
     "output_type": "stream",
     "text": [
      "[19:45:34] WARNING: src/objective/regression_obj.cu:152: reg:linear is now deprecated in favor of reg:squarederror.    \n",
      "  9%|████▎                                           | 9/100 [00:02<00:22,  3.98trial/s, best loss: 0.5364874583450472]"
     ]
    },
    {
     "name": "stderr",
     "output_type": "stream",
     "text": [
      "D:\\Anaconda\\lib\\site-packages\\xgboost\\core.py:587: FutureWarning: Series.base is deprecated and will be removed in a future version\n",
      "  if getattr(data, 'base', None) is not None and \\\n",
      "\n"
     ]
    },
    {
     "name": "stdout",
     "output_type": "stream",
     "text": [
      "[19:45:34] WARNING: src/objective/regression_obj.cu:152: reg:linear is now deprecated in favor of reg:squarederror.    \n",
      " 10%|████▋                                          | 10/100 [00:02<00:22,  3.93trial/s, best loss: 0.5248912813088241]"
     ]
    },
    {
     "name": "stderr",
     "output_type": "stream",
     "text": [
      "D:\\Anaconda\\lib\\site-packages\\xgboost\\core.py:587: FutureWarning: Series.base is deprecated and will be removed in a future version\n",
      "  if getattr(data, 'base', None) is not None and \\\n",
      "\n"
     ]
    },
    {
     "name": "stdout",
     "output_type": "stream",
     "text": [
      "[19:45:35] WARNING: src/objective/regression_obj.cu:152: reg:linear is now deprecated in favor of reg:squarederror.    \n",
      " 11%|█████▏                                         | 11/100 [00:03<00:22,  4.00trial/s, best loss: 0.5248912813088241]"
     ]
    },
    {
     "name": "stderr",
     "output_type": "stream",
     "text": [
      "D:\\Anaconda\\lib\\site-packages\\xgboost\\core.py:587: FutureWarning: Series.base is deprecated and will be removed in a future version\n",
      "  if getattr(data, 'base', None) is not None and \\\n",
      "\n"
     ]
    },
    {
     "name": "stdout",
     "output_type": "stream",
     "text": [
      "[19:45:35] WARNING: src/objective/regression_obj.cu:152: reg:linear is now deprecated in favor of reg:squarederror.    \n",
      " 11%|█████▏                                         | 11/100 [00:03<00:22,  4.00trial/s, best loss: 0.5248912813088241]"
     ]
    },
    {
     "name": "stderr",
     "output_type": "stream",
     "text": [
      "D:\\Anaconda\\lib\\site-packages\\xgboost\\core.py:587: FutureWarning: Series.base is deprecated and will be removed in a future version\n",
      "  if getattr(data, 'base', None) is not None and \\\n",
      "\n"
     ]
    },
    {
     "name": "stdout",
     "output_type": "stream",
     "text": [
      "[19:45:35] WARNING: src/objective/regression_obj.cu:152: reg:linear is now deprecated in favor of reg:squarederror.    \n",
      " 13%|██████                                         | 13/100 [00:03<00:18,  4.59trial/s, best loss: 0.5248912813088241]"
     ]
    },
    {
     "name": "stderr",
     "output_type": "stream",
     "text": [
      "D:\\Anaconda\\lib\\site-packages\\xgboost\\core.py:587: FutureWarning: Series.base is deprecated and will be removed in a future version\n",
      "  if getattr(data, 'base', None) is not None and \\\n",
      "\n"
     ]
    },
    {
     "name": "stdout",
     "output_type": "stream",
     "text": [
      "[19:45:35] WARNING: src/objective/regression_obj.cu:152: reg:linear is now deprecated in favor of reg:squarederror.    \n",
      " 14%|██████▌                                        | 14/100 [00:03<00:18,  4.60trial/s, best loss: 0.5248912813088241]"
     ]
    },
    {
     "name": "stderr",
     "output_type": "stream",
     "text": [
      "D:\\Anaconda\\lib\\site-packages\\xgboost\\core.py:587: FutureWarning: Series.base is deprecated and will be removed in a future version\n",
      "  if getattr(data, 'base', None) is not None and \\\n",
      "\n"
     ]
    },
    {
     "name": "stdout",
     "output_type": "stream",
     "text": [
      "[19:45:35] WARNING: src/objective/regression_obj.cu:152: reg:linear is now deprecated in favor of reg:squarederror.    \n",
      " 15%|███████                                        | 15/100 [00:03<00:18,  4.57trial/s, best loss: 0.5248912813088241]"
     ]
    },
    {
     "name": "stderr",
     "output_type": "stream",
     "text": [
      "D:\\Anaconda\\lib\\site-packages\\xgboost\\core.py:587: FutureWarning: Series.base is deprecated and will be removed in a future version\n",
      "  if getattr(data, 'base', None) is not None and \\\n",
      "\n"
     ]
    },
    {
     "name": "stdout",
     "output_type": "stream",
     "text": [
      "[19:45:36] WARNING: src/objective/regression_obj.cu:152: reg:linear is now deprecated in favor of reg:squarederror.    \n",
      " 16%|███████▌                                       | 16/100 [00:04<00:19,  4.27trial/s, best loss: 0.5248912813088241]"
     ]
    },
    {
     "name": "stderr",
     "output_type": "stream",
     "text": [
      "D:\\Anaconda\\lib\\site-packages\\xgboost\\core.py:587: FutureWarning: Series.base is deprecated and will be removed in a future version\n",
      "  if getattr(data, 'base', None) is not None and \\\n",
      "\n"
     ]
    },
    {
     "name": "stdout",
     "output_type": "stream",
     "text": [
      "[19:45:36] WARNING: src/objective/regression_obj.cu:152: reg:linear is now deprecated in favor of reg:squarederror.    \n",
      " 17%|███████▉                                       | 17/100 [00:04<00:17,  4.74trial/s, best loss: 0.5248912813088241]"
     ]
    },
    {
     "name": "stderr",
     "output_type": "stream",
     "text": [
      "D:\\Anaconda\\lib\\site-packages\\xgboost\\core.py:587: FutureWarning: Series.base is deprecated and will be removed in a future version\n",
      "  if getattr(data, 'base', None) is not None and \\\n",
      "\n"
     ]
    },
    {
     "name": "stdout",
     "output_type": "stream",
     "text": [
      "[19:45:36] WARNING: src/objective/regression_obj.cu:152: reg:linear is now deprecated in favor of reg:squarederror.    \n",
      " 18%|████████▍                                      | 18/100 [00:04<00:17,  4.80trial/s, best loss: 0.5248912813088241]"
     ]
    },
    {
     "name": "stderr",
     "output_type": "stream",
     "text": [
      "D:\\Anaconda\\lib\\site-packages\\xgboost\\core.py:587: FutureWarning: Series.base is deprecated and will be removed in a future version\n",
      "  if getattr(data, 'base', None) is not None and \\\n",
      "\n"
     ]
    },
    {
     "name": "stdout",
     "output_type": "stream",
     "text": [
      "[19:45:36] WARNING: src/objective/regression_obj.cu:152: reg:linear is now deprecated in favor of reg:squarederror.    \n",
      " 19%|████████▉                                      | 19/100 [00:04<00:17,  4.52trial/s, best loss: 0.5248912813088241]"
     ]
    },
    {
     "name": "stderr",
     "output_type": "stream",
     "text": [
      "D:\\Anaconda\\lib\\site-packages\\xgboost\\core.py:587: FutureWarning: Series.base is deprecated and will be removed in a future version\n",
      "  if getattr(data, 'base', None) is not None and \\\n",
      "\n"
     ]
    },
    {
     "name": "stdout",
     "output_type": "stream",
     "text": [
      "[19:45:36] WARNING: src/objective/regression_obj.cu:152: reg:linear is now deprecated in favor of reg:squarederror.    \n",
      " 20%|█████████▍                                     | 20/100 [00:04<00:14,  5.36trial/s, best loss: 0.5248912813088241]"
     ]
    },
    {
     "name": "stderr",
     "output_type": "stream",
     "text": [
      "D:\\Anaconda\\lib\\site-packages\\xgboost\\core.py:587: FutureWarning: Series.base is deprecated and will be removed in a future version\n",
      "  if getattr(data, 'base', None) is not None and \\\n",
      "\n"
     ]
    },
    {
     "name": "stdout",
     "output_type": "stream",
     "text": [
      "[19:45:37] WARNING: src/objective/regression_obj.cu:152: reg:linear is now deprecated in favor of reg:squarederror.    \n",
      " 21%|█████████▊                                     | 21/100 [00:05<00:18,  4.17trial/s, best loss: 0.5248912813088241]"
     ]
    },
    {
     "name": "stderr",
     "output_type": "stream",
     "text": [
      "D:\\Anaconda\\lib\\site-packages\\xgboost\\core.py:587: FutureWarning: Series.base is deprecated and will be removed in a future version\n",
      "  if getattr(data, 'base', None) is not None and \\\n",
      "\n"
     ]
    },
    {
     "name": "stdout",
     "output_type": "stream",
     "text": [
      "[19:45:37] WARNING: src/objective/regression_obj.cu:152: reg:linear is now deprecated in favor of reg:squarederror.    \n",
      " 22%|██████████▎                                    | 22/100 [00:05<00:21,  3.64trial/s, best loss: 0.5157680672900047]"
     ]
    },
    {
     "name": "stderr",
     "output_type": "stream",
     "text": [
      "D:\\Anaconda\\lib\\site-packages\\xgboost\\core.py:587: FutureWarning: Series.base is deprecated and will be removed in a future version\n",
      "  if getattr(data, 'base', None) is not None and \\\n",
      "\n"
     ]
    },
    {
     "name": "stdout",
     "output_type": "stream",
     "text": [
      "[19:45:37] WARNING: src/objective/regression_obj.cu:152: reg:linear is now deprecated in favor of reg:squarederror.    \n",
      " 23%|██████████▊                                    | 23/100 [00:05<00:19,  4.01trial/s, best loss: 0.5157680672900047]"
     ]
    },
    {
     "name": "stderr",
     "output_type": "stream",
     "text": [
      "D:\\Anaconda\\lib\\site-packages\\xgboost\\core.py:587: FutureWarning: Series.base is deprecated and will be removed in a future version\n",
      "  if getattr(data, 'base', None) is not None and \\\n",
      "\n"
     ]
    },
    {
     "name": "stdout",
     "output_type": "stream",
     "text": [
      "[19:45:37] WARNING: src/objective/regression_obj.cu:152: reg:linear is now deprecated in favor of reg:squarederror.    \n",
      " 24%|███████████▎                                   | 24/100 [00:06<00:20,  3.75trial/s, best loss: 0.5157680672900047]"
     ]
    },
    {
     "name": "stderr",
     "output_type": "stream",
     "text": [
      "D:\\Anaconda\\lib\\site-packages\\xgboost\\core.py:587: FutureWarning: Series.base is deprecated and will be removed in a future version\n",
      "  if getattr(data, 'base', None) is not None and \\\n",
      "\n"
     ]
    },
    {
     "name": "stdout",
     "output_type": "stream",
     "text": [
      "[19:45:38] WARNING: src/objective/regression_obj.cu:152: reg:linear is now deprecated in favor of reg:squarederror.    \n",
      " 25%|███████████▊                                   | 25/100 [00:06<00:25,  2.96trial/s, best loss: 0.5157680672900047]"
     ]
    },
    {
     "name": "stderr",
     "output_type": "stream",
     "text": [
      "D:\\Anaconda\\lib\\site-packages\\xgboost\\core.py:587: FutureWarning: Series.base is deprecated and will be removed in a future version\n",
      "  if getattr(data, 'base', None) is not None and \\\n",
      "\n"
     ]
    },
    {
     "name": "stdout",
     "output_type": "stream",
     "text": [
      "[19:45:38] WARNING: src/objective/regression_obj.cu:152: reg:linear is now deprecated in favor of reg:squarederror.    \n",
      " 26%|████████████▏                                  | 26/100 [00:06<00:24,  2.97trial/s, best loss: 0.5157680672900047]"
     ]
    },
    {
     "name": "stderr",
     "output_type": "stream",
     "text": [
      "D:\\Anaconda\\lib\\site-packages\\xgboost\\core.py:587: FutureWarning: Series.base is deprecated and will be removed in a future version\n",
      "  if getattr(data, 'base', None) is not None and \\\n",
      "\n"
     ]
    },
    {
     "name": "stdout",
     "output_type": "stream",
     "text": [
      "[19:45:39] WARNING: src/objective/regression_obj.cu:152: reg:linear is now deprecated in favor of reg:squarederror.    \n",
      " 27%|████████████▋                                  | 27/100 [00:08<00:39,  1.83trial/s, best loss: 0.5157680672900047]"
     ]
    },
    {
     "name": "stderr",
     "output_type": "stream",
     "text": [
      "D:\\Anaconda\\lib\\site-packages\\xgboost\\core.py:587: FutureWarning: Series.base is deprecated and will be removed in a future version\n",
      "  if getattr(data, 'base', None) is not None and \\\n",
      "\n"
     ]
    },
    {
     "name": "stdout",
     "output_type": "stream",
     "text": [
      "[19:45:40] WARNING: src/objective/regression_obj.cu:152: reg:linear is now deprecated in favor of reg:squarederror.    \n",
      " 28%|█████████████▏                                 | 28/100 [00:08<00:32,  2.24trial/s, best loss: 0.5157680672900047]"
     ]
    },
    {
     "name": "stderr",
     "output_type": "stream",
     "text": [
      "D:\\Anaconda\\lib\\site-packages\\xgboost\\core.py:587: FutureWarning: Series.base is deprecated and will be removed in a future version\n",
      "  if getattr(data, 'base', None) is not None and \\\n",
      "\n"
     ]
    },
    {
     "name": "stdout",
     "output_type": "stream",
     "text": [
      "[19:45:40] WARNING: src/objective/regression_obj.cu:152: reg:linear is now deprecated in favor of reg:squarederror.    \n",
      " 29%|█████████████▋                                 | 29/100 [00:08<00:29,  2.39trial/s, best loss: 0.5157680672900047]"
     ]
    },
    {
     "name": "stderr",
     "output_type": "stream",
     "text": [
      "D:\\Anaconda\\lib\\site-packages\\xgboost\\core.py:587: FutureWarning: Series.base is deprecated and will be removed in a future version\n",
      "  if getattr(data, 'base', None) is not None and \\\n",
      "\n"
     ]
    },
    {
     "name": "stdout",
     "output_type": "stream",
     "text": [
      "[19:45:40] WARNING: src/objective/regression_obj.cu:152: reg:linear is now deprecated in favor of reg:squarederror.    \n",
      " 30%|██████████████                                 | 30/100 [00:08<00:24,  2.83trial/s, best loss: 0.5157680672900047]"
     ]
    },
    {
     "name": "stderr",
     "output_type": "stream",
     "text": [
      "D:\\Anaconda\\lib\\site-packages\\xgboost\\core.py:587: FutureWarning: Series.base is deprecated and will be removed in a future version\n",
      "  if getattr(data, 'base', None) is not None and \\\n",
      "\n"
     ]
    },
    {
     "name": "stdout",
     "output_type": "stream",
     "text": [
      "[19:45:40] WARNING: src/objective/regression_obj.cu:152: reg:linear is now deprecated in favor of reg:squarederror.    \n",
      " 31%|██████████████▌                                | 31/100 [00:08<00:20,  3.35trial/s, best loss: 0.5157680672900047]"
     ]
    },
    {
     "name": "stderr",
     "output_type": "stream",
     "text": [
      "D:\\Anaconda\\lib\\site-packages\\xgboost\\core.py:587: FutureWarning: Series.base is deprecated and will be removed in a future version\n",
      "  if getattr(data, 'base', None) is not None and \\\n",
      "\n"
     ]
    },
    {
     "name": "stdout",
     "output_type": "stream",
     "text": [
      "[19:45:41] WARNING: src/objective/regression_obj.cu:152: reg:linear is now deprecated in favor of reg:squarederror.    \n",
      " 32%|███████████████                                | 32/100 [00:09<00:17,  3.95trial/s, best loss: 0.5157680672900047]"
     ]
    },
    {
     "name": "stderr",
     "output_type": "stream",
     "text": [
      "D:\\Anaconda\\lib\\site-packages\\xgboost\\core.py:587: FutureWarning: Series.base is deprecated and will be removed in a future version\n",
      "  if getattr(data, 'base', None) is not None and \\\n",
      "\n"
     ]
    },
    {
     "name": "stdout",
     "output_type": "stream",
     "text": [
      "[19:45:41] WARNING: src/objective/regression_obj.cu:152: reg:linear is now deprecated in favor of reg:squarederror.    \n",
      " 33%|███████████████▌                               | 33/100 [00:09<00:18,  3.62trial/s, best loss: 0.5157680672900047]"
     ]
    },
    {
     "name": "stderr",
     "output_type": "stream",
     "text": [
      "D:\\Anaconda\\lib\\site-packages\\xgboost\\core.py:587: FutureWarning: Series.base is deprecated and will be removed in a future version\n",
      "  if getattr(data, 'base', None) is not None and \\\n",
      "\n"
     ]
    },
    {
     "name": "stdout",
     "output_type": "stream",
     "text": [
      "[19:45:41] WARNING: src/objective/regression_obj.cu:152: reg:linear is now deprecated in favor of reg:squarederror.    \n",
      " 34%|███████████████▉                               | 34/100 [00:09<00:20,  3.25trial/s, best loss: 0.5157680672900047]"
     ]
    },
    {
     "name": "stderr",
     "output_type": "stream",
     "text": [
      "D:\\Anaconda\\lib\\site-packages\\xgboost\\core.py:587: FutureWarning: Series.base is deprecated and will be removed in a future version\n",
      "  if getattr(data, 'base', None) is not None and \\\n",
      "\n"
     ]
    },
    {
     "name": "stdout",
     "output_type": "stream",
     "text": [
      "[19:45:41] WARNING: src/objective/regression_obj.cu:152: reg:linear is now deprecated in favor of reg:squarederror.    \n",
      " 35%|████████████████▍                              | 35/100 [00:10<00:20,  3.17trial/s, best loss: 0.5157680672900047]"
     ]
    },
    {
     "name": "stderr",
     "output_type": "stream",
     "text": [
      "D:\\Anaconda\\lib\\site-packages\\xgboost\\core.py:587: FutureWarning: Series.base is deprecated and will be removed in a future version\n",
      "  if getattr(data, 'base', None) is not None and \\\n",
      "\n"
     ]
    },
    {
     "name": "stdout",
     "output_type": "stream",
     "text": [
      "[19:45:42] WARNING: src/objective/regression_obj.cu:152: reg:linear is now deprecated in favor of reg:squarederror.    \n",
      " 36%|████████████████▉                              | 36/100 [00:11<00:47,  1.35trial/s, best loss: 0.5157680672900047]"
     ]
    },
    {
     "name": "stderr",
     "output_type": "stream",
     "text": [
      "D:\\Anaconda\\lib\\site-packages\\xgboost\\core.py:587: FutureWarning: Series.base is deprecated and will be removed in a future version\n",
      "  if getattr(data, 'base', None) is not None and \\\n",
      "\n"
     ]
    },
    {
     "name": "stdout",
     "output_type": "stream",
     "text": [
      "[19:45:43] WARNING: src/objective/regression_obj.cu:152: reg:linear is now deprecated in favor of reg:squarederror.    \n",
      " 37%|█████████████████▍                             | 37/100 [00:11<00:34,  1.82trial/s, best loss: 0.5157680672900047]"
     ]
    },
    {
     "name": "stderr",
     "output_type": "stream",
     "text": [
      "D:\\Anaconda\\lib\\site-packages\\xgboost\\core.py:587: FutureWarning: Series.base is deprecated and will be removed in a future version\n",
      "  if getattr(data, 'base', None) is not None and \\\n",
      "\n"
     ]
    },
    {
     "name": "stdout",
     "output_type": "stream",
     "text": [
      "[19:45:44] WARNING: src/objective/regression_obj.cu:152: reg:linear is now deprecated in favor of reg:squarederror.    \n",
      " 38%|█████████████████▊                             | 38/100 [00:13<00:48,  1.28trial/s, best loss: 0.5157680672900047]"
     ]
    },
    {
     "name": "stderr",
     "output_type": "stream",
     "text": [
      "D:\\Anaconda\\lib\\site-packages\\xgboost\\core.py:587: FutureWarning: Series.base is deprecated and will be removed in a future version\n",
      "  if getattr(data, 'base', None) is not None and \\\n",
      "\n"
     ]
    },
    {
     "name": "stdout",
     "output_type": "stream",
     "text": [
      "[19:45:45] WARNING: src/objective/regression_obj.cu:152: reg:linear is now deprecated in favor of reg:squarederror.    \n",
      " 39%|██████████████████▎                            | 39/100 [00:16<01:23,  1.37s/trial, best loss: 0.5157680672900047]"
     ]
    },
    {
     "name": "stderr",
     "output_type": "stream",
     "text": [
      "D:\\Anaconda\\lib\\site-packages\\xgboost\\core.py:587: FutureWarning: Series.base is deprecated and will be removed in a future version\n",
      "  if getattr(data, 'base', None) is not None and \\\n",
      "\n"
     ]
    },
    {
     "name": "stdout",
     "output_type": "stream",
     "text": [
      "[19:45:48] WARNING: src/objective/regression_obj.cu:152: reg:linear is now deprecated in favor of reg:squarederror.    \n",
      " 40%|██████████████████▊                            | 40/100 [00:16<01:01,  1.02s/trial, best loss: 0.5157680672900047]"
     ]
    },
    {
     "name": "stderr",
     "output_type": "stream",
     "text": [
      "D:\\Anaconda\\lib\\site-packages\\xgboost\\core.py:587: FutureWarning: Series.base is deprecated and will be removed in a future version\n",
      "  if getattr(data, 'base', None) is not None and \\\n",
      "\n"
     ]
    },
    {
     "name": "stdout",
     "output_type": "stream",
     "text": [
      "[19:45:48] WARNING: src/objective/regression_obj.cu:152: reg:linear is now deprecated in favor of reg:squarederror.    \n",
      " 41%|███████████████████▎                           | 41/100 [00:16<00:45,  1.29trial/s, best loss: 0.5157680672900047]"
     ]
    },
    {
     "name": "stderr",
     "output_type": "stream",
     "text": [
      "D:\\Anaconda\\lib\\site-packages\\xgboost\\core.py:587: FutureWarning: Series.base is deprecated and will be removed in a future version\n",
      "  if getattr(data, 'base', None) is not None and \\\n",
      "\n"
     ]
    },
    {
     "name": "stdout",
     "output_type": "stream",
     "text": [
      "[19:45:48] WARNING: src/objective/regression_obj.cu:152: reg:linear is now deprecated in favor of reg:squarederror.    \n",
      " 42%|███████████████████▋                           | 42/100 [00:16<00:33,  1.72trial/s, best loss: 0.5157680672900047]"
     ]
    },
    {
     "name": "stderr",
     "output_type": "stream",
     "text": [
      "D:\\Anaconda\\lib\\site-packages\\xgboost\\core.py:587: FutureWarning: Series.base is deprecated and will be removed in a future version\n",
      "  if getattr(data, 'base', None) is not None and \\\n",
      "\n"
     ]
    },
    {
     "name": "stdout",
     "output_type": "stream",
     "text": [
      "[19:45:48] WARNING: src/objective/regression_obj.cu:152: reg:linear is now deprecated in favor of reg:squarederror.    \n",
      " 43%|████████████████████▏                          | 43/100 [00:16<00:26,  2.11trial/s, best loss: 0.5157680672900047]"
     ]
    },
    {
     "name": "stderr",
     "output_type": "stream",
     "text": [
      "D:\\Anaconda\\lib\\site-packages\\xgboost\\core.py:587: FutureWarning: Series.base is deprecated and will be removed in a future version\n",
      "  if getattr(data, 'base', None) is not None and \\\n",
      "\n"
     ]
    },
    {
     "name": "stdout",
     "output_type": "stream",
     "text": [
      "[19:45:48] WARNING: src/objective/regression_obj.cu:152: reg:linear is now deprecated in favor of reg:squarederror.    \n",
      " 44%|████████████████████▋                          | 44/100 [00:17<00:22,  2.54trial/s, best loss: 0.5157680672900047]"
     ]
    },
    {
     "name": "stderr",
     "output_type": "stream",
     "text": [
      "D:\\Anaconda\\lib\\site-packages\\xgboost\\core.py:587: FutureWarning: Series.base is deprecated and will be removed in a future version\n",
      "  if getattr(data, 'base', None) is not None and \\\n",
      "\n"
     ]
    },
    {
     "name": "stdout",
     "output_type": "stream",
     "text": [
      "[19:45:49] WARNING: src/objective/regression_obj.cu:152: reg:linear is now deprecated in favor of reg:squarederror.    \n",
      " 45%|█████████████████████▏                         | 45/100 [00:17<00:19,  2.87trial/s, best loss: 0.5157680672900047]"
     ]
    },
    {
     "name": "stderr",
     "output_type": "stream",
     "text": [
      "D:\\Anaconda\\lib\\site-packages\\xgboost\\core.py:587: FutureWarning: Series.base is deprecated and will be removed in a future version\n",
      "  if getattr(data, 'base', None) is not None and \\\n",
      "\n"
     ]
    },
    {
     "name": "stdout",
     "output_type": "stream",
     "text": [
      "[19:45:49] WARNING: src/objective/regression_obj.cu:152: reg:linear is now deprecated in favor of reg:squarederror.    \n",
      " 46%|█████████████████████▌                         | 46/100 [00:17<00:14,  3.61trial/s, best loss: 0.5157680672900047]"
     ]
    },
    {
     "name": "stderr",
     "output_type": "stream",
     "text": [
      "D:\\Anaconda\\lib\\site-packages\\xgboost\\core.py:587: FutureWarning: Series.base is deprecated and will be removed in a future version\n",
      "  if getattr(data, 'base', None) is not None and \\\n",
      "\n"
     ]
    },
    {
     "name": "stdout",
     "output_type": "stream",
     "text": [
      "[19:45:49] WARNING: src/objective/regression_obj.cu:152: reg:linear is now deprecated in favor of reg:squarederror.    \n",
      " 47%|██████████████████████                         | 47/100 [00:17<00:12,  4.32trial/s, best loss: 0.5157680672900047]"
     ]
    },
    {
     "name": "stderr",
     "output_type": "stream",
     "text": [
      "D:\\Anaconda\\lib\\site-packages\\xgboost\\core.py:587: FutureWarning: Series.base is deprecated and will be removed in a future version\n",
      "  if getattr(data, 'base', None) is not None and \\\n",
      "\n"
     ]
    },
    {
     "name": "stdout",
     "output_type": "stream",
     "text": [
      "[19:45:49] WARNING: src/objective/regression_obj.cu:152: reg:linear is now deprecated in favor of reg:squarederror.    \n",
      " 48%|██████████████████████▌                        | 48/100 [00:17<00:12,  4.03trial/s, best loss: 0.5157680672900047]"
     ]
    },
    {
     "name": "stderr",
     "output_type": "stream",
     "text": [
      "D:\\Anaconda\\lib\\site-packages\\xgboost\\core.py:587: FutureWarning: Series.base is deprecated and will be removed in a future version\n",
      "  if getattr(data, 'base', None) is not None and \\\n",
      "\n"
     ]
    },
    {
     "name": "stdout",
     "output_type": "stream",
     "text": [
      "[19:45:49] WARNING: src/objective/regression_obj.cu:152: reg:linear is now deprecated in favor of reg:squarederror.    \n",
      " 49%|███████████████████████                        | 49/100 [00:18<00:19,  2.66trial/s, best loss: 0.5157680672900047]"
     ]
    },
    {
     "name": "stderr",
     "output_type": "stream",
     "text": [
      "D:\\Anaconda\\lib\\site-packages\\xgboost\\core.py:587: FutureWarning: Series.base is deprecated and will be removed in a future version\n",
      "  if getattr(data, 'base', None) is not None and \\\n",
      "\n"
     ]
    },
    {
     "name": "stdout",
     "output_type": "stream",
     "text": [
      "[19:45:50] WARNING: src/objective/regression_obj.cu:152: reg:linear is now deprecated in favor of reg:squarederror.    \n",
      " 50%|███████████████████████▌                       | 50/100 [00:18<00:16,  3.05trial/s, best loss: 0.5157680672900047]"
     ]
    },
    {
     "name": "stderr",
     "output_type": "stream",
     "text": [
      "D:\\Anaconda\\lib\\site-packages\\xgboost\\core.py:587: FutureWarning: Series.base is deprecated and will be removed in a future version\n",
      "  if getattr(data, 'base', None) is not None and \\\n",
      "\n"
     ]
    },
    {
     "name": "stdout",
     "output_type": "stream",
     "text": [
      "[19:45:50] WARNING: src/objective/regression_obj.cu:152: reg:linear is now deprecated in favor of reg:squarederror.    \n",
      " 51%|███████████████████████▉                       | 51/100 [00:18<00:13,  3.74trial/s, best loss: 0.5157680672900047]"
     ]
    },
    {
     "name": "stderr",
     "output_type": "stream",
     "text": [
      "D:\\Anaconda\\lib\\site-packages\\xgboost\\core.py:587: FutureWarning: Series.base is deprecated and will be removed in a future version\n",
      "  if getattr(data, 'base', None) is not None and \\\n",
      "\n"
     ]
    },
    {
     "name": "stdout",
     "output_type": "stream",
     "text": [
      "[19:45:50] WARNING: src/objective/regression_obj.cu:152: reg:linear is now deprecated in favor of reg:squarederror.    \n",
      " 52%|████████████████████████▍                      | 52/100 [00:19<00:12,  3.76trial/s, best loss: 0.5157680672900047]"
     ]
    },
    {
     "name": "stderr",
     "output_type": "stream",
     "text": [
      "D:\\Anaconda\\lib\\site-packages\\xgboost\\core.py:587: FutureWarning: Series.base is deprecated and will be removed in a future version\n",
      "  if getattr(data, 'base', None) is not None and \\\n",
      "\n"
     ]
    },
    {
     "name": "stdout",
     "output_type": "stream",
     "text": [
      "[19:45:51] WARNING: src/objective/regression_obj.cu:152: reg:linear is now deprecated in favor of reg:squarederror.    \n",
      " 52%|████████████████████████▍                      | 52/100 [00:19<00:12,  3.76trial/s, best loss: 0.5157680672900047]"
     ]
    },
    {
     "name": "stderr",
     "output_type": "stream",
     "text": [
      "D:\\Anaconda\\lib\\site-packages\\xgboost\\core.py:587: FutureWarning: Series.base is deprecated and will be removed in a future version\n",
      "  if getattr(data, 'base', None) is not None and \\\n",
      "\n"
     ]
    },
    {
     "name": "stdout",
     "output_type": "stream",
     "text": [
      "[19:45:51] WARNING: src/objective/regression_obj.cu:152: reg:linear is now deprecated in favor of reg:squarederror.    \n",
      " 54%|█████████████████████████▍                     | 54/100 [00:19<00:10,  4.52trial/s, best loss: 0.5157680672900047]"
     ]
    },
    {
     "name": "stderr",
     "output_type": "stream",
     "text": [
      "D:\\Anaconda\\lib\\site-packages\\xgboost\\core.py:587: FutureWarning: Series.base is deprecated and will be removed in a future version\n",
      "  if getattr(data, 'base', None) is not None and \\\n",
      "\n"
     ]
    },
    {
     "name": "stdout",
     "output_type": "stream",
     "text": [
      "[19:45:51] WARNING: src/objective/regression_obj.cu:152: reg:linear is now deprecated in favor of reg:squarederror.    \n",
      " 54%|█████████████████████████▍                     | 54/100 [00:19<00:10,  4.52trial/s, best loss: 0.5157680672900047]"
     ]
    },
    {
     "name": "stderr",
     "output_type": "stream",
     "text": [
      "D:\\Anaconda\\lib\\site-packages\\xgboost\\core.py:587: FutureWarning: Series.base is deprecated and will be removed in a future version\n",
      "  if getattr(data, 'base', None) is not None and \\\n",
      "\n"
     ]
    },
    {
     "name": "stdout",
     "output_type": "stream",
     "text": [
      "[19:45:51] WARNING: src/objective/regression_obj.cu:152: reg:linear is now deprecated in favor of reg:squarederror.    \n",
      " 56%|██████████████████████████▎                    | 56/100 [00:22<00:25,  1.74trial/s, best loss: 0.5157680672900047]"
     ]
    },
    {
     "name": "stderr",
     "output_type": "stream",
     "text": [
      "D:\\Anaconda\\lib\\site-packages\\xgboost\\core.py:587: FutureWarning: Series.base is deprecated and will be removed in a future version\n",
      "  if getattr(data, 'base', None) is not None and \\\n",
      "\n"
     ]
    },
    {
     "name": "stdout",
     "output_type": "stream",
     "text": [
      "[19:45:54] WARNING: src/objective/regression_obj.cu:152: reg:linear is now deprecated in favor of reg:squarederror.    \n",
      " 57%|██████████████████████████▊                    | 57/100 [00:22<00:24,  1.75trial/s, best loss: 0.5157680672900047]"
     ]
    },
    {
     "name": "stderr",
     "output_type": "stream",
     "text": [
      "D:\\Anaconda\\lib\\site-packages\\xgboost\\core.py:587: FutureWarning: Series.base is deprecated and will be removed in a future version\n",
      "  if getattr(data, 'base', None) is not None and \\\n",
      "\n"
     ]
    },
    {
     "name": "stdout",
     "output_type": "stream",
     "text": [
      "[19:45:54] WARNING: src/objective/regression_obj.cu:152: reg:linear is now deprecated in favor of reg:squarederror.    \n",
      " 58%|███████████████████████████▎                   | 58/100 [00:23<00:22,  1.89trial/s, best loss: 0.5157680672900047]"
     ]
    },
    {
     "name": "stderr",
     "output_type": "stream",
     "text": [
      "D:\\Anaconda\\lib\\site-packages\\xgboost\\core.py:587: FutureWarning: Series.base is deprecated and will be removed in a future version\n",
      "  if getattr(data, 'base', None) is not None and \\\n",
      "\n"
     ]
    },
    {
     "name": "stdout",
     "output_type": "stream",
     "text": [
      "[19:45:55] WARNING: src/objective/regression_obj.cu:152: reg:linear is now deprecated in favor of reg:squarederror.    \n",
      " 59%|███████████████████████████▋                   | 59/100 [00:23<00:16,  2.49trial/s, best loss: 0.5157680672900047]"
     ]
    },
    {
     "name": "stderr",
     "output_type": "stream",
     "text": [
      "D:\\Anaconda\\lib\\site-packages\\xgboost\\core.py:587: FutureWarning: Series.base is deprecated and will be removed in a future version\n",
      "  if getattr(data, 'base', None) is not None and \\\n",
      "\n"
     ]
    },
    {
     "name": "stdout",
     "output_type": "stream",
     "text": [
      "[19:45:55] WARNING: src/objective/regression_obj.cu:152: reg:linear is now deprecated in favor of reg:squarederror.    \n",
      " 60%|████████████████████████████▏                  | 60/100 [00:23<00:12,  3.11trial/s, best loss: 0.5157680672900047]"
     ]
    },
    {
     "name": "stderr",
     "output_type": "stream",
     "text": [
      "D:\\Anaconda\\lib\\site-packages\\xgboost\\core.py:587: FutureWarning: Series.base is deprecated and will be removed in a future version\n",
      "  if getattr(data, 'base', None) is not None and \\\n",
      "\n"
     ]
    },
    {
     "name": "stdout",
     "output_type": "stream",
     "text": [
      "[19:45:55] WARNING: src/objective/regression_obj.cu:152: reg:linear is now deprecated in favor of reg:squarederror.    \n",
      " 61%|████████████████████████████▋                  | 61/100 [00:23<00:12,  3.22trial/s, best loss: 0.5157680672900047]"
     ]
    },
    {
     "name": "stderr",
     "output_type": "stream",
     "text": [
      "D:\\Anaconda\\lib\\site-packages\\xgboost\\core.py:587: FutureWarning: Series.base is deprecated and will be removed in a future version\n",
      "  if getattr(data, 'base', None) is not None and \\\n",
      "\n"
     ]
    },
    {
     "name": "stdout",
     "output_type": "stream",
     "text": [
      "[19:45:55] WARNING: src/objective/regression_obj.cu:152: reg:linear is now deprecated in favor of reg:squarederror.    \n",
      " 62%|█████████████████████████████▏                 | 62/100 [00:24<00:17,  2.16trial/s, best loss: 0.5157680672900047]"
     ]
    },
    {
     "name": "stderr",
     "output_type": "stream",
     "text": [
      "D:\\Anaconda\\lib\\site-packages\\xgboost\\core.py:587: FutureWarning: Series.base is deprecated and will be removed in a future version\n",
      "  if getattr(data, 'base', None) is not None and \\\n",
      "\n"
     ]
    },
    {
     "name": "stdout",
     "output_type": "stream",
     "text": [
      "[19:45:56] WARNING: src/objective/regression_obj.cu:152: reg:linear is now deprecated in favor of reg:squarederror.    \n",
      " 63%|█████████████████████████████▌                 | 63/100 [00:25<00:21,  1.71trial/s, best loss: 0.5149164965829224]"
     ]
    },
    {
     "name": "stderr",
     "output_type": "stream",
     "text": [
      "D:\\Anaconda\\lib\\site-packages\\xgboost\\core.py:587: FutureWarning: Series.base is deprecated and will be removed in a future version\n",
      "  if getattr(data, 'base', None) is not None and \\\n",
      "\n"
     ]
    },
    {
     "name": "stdout",
     "output_type": "stream",
     "text": [
      "[19:45:57] WARNING: src/objective/regression_obj.cu:152: reg:linear is now deprecated in favor of reg:squarederror.    \n",
      " 64%|██████████████████████████████▋                 | 64/100 [00:26<00:25,  1.40trial/s, best loss: 0.510703970569166]"
     ]
    },
    {
     "name": "stderr",
     "output_type": "stream",
     "text": [
      "D:\\Anaconda\\lib\\site-packages\\xgboost\\core.py:587: FutureWarning: Series.base is deprecated and will be removed in a future version\n",
      "  if getattr(data, 'base', None) is not None and \\\n",
      "\n"
     ]
    },
    {
     "name": "stdout",
     "output_type": "stream",
     "text": [
      "[19:45:58] WARNING: src/objective/regression_obj.cu:152: reg:linear is now deprecated in favor of reg:squarederror.    \n",
      " 65%|███████████████████████████████▏                | 65/100 [00:27<00:27,  1.28trial/s, best loss: 0.510703970569166]"
     ]
    },
    {
     "name": "stderr",
     "output_type": "stream",
     "text": [
      "D:\\Anaconda\\lib\\site-packages\\xgboost\\core.py:587: FutureWarning: Series.base is deprecated and will be removed in a future version\n",
      "  if getattr(data, 'base', None) is not None and \\\n",
      "\n"
     ]
    },
    {
     "name": "stdout",
     "output_type": "stream",
     "text": [
      "[19:45:59] WARNING: src/objective/regression_obj.cu:152: reg:linear is now deprecated in favor of reg:squarederror.    \n",
      " 66%|███████████████████████████████▋                | 66/100 [00:28<00:29,  1.17trial/s, best loss: 0.510703970569166]"
     ]
    },
    {
     "name": "stderr",
     "output_type": "stream",
     "text": [
      "D:\\Anaconda\\lib\\site-packages\\xgboost\\core.py:587: FutureWarning: Series.base is deprecated and will be removed in a future version\n",
      "  if getattr(data, 'base', None) is not None and \\\n",
      "\n"
     ]
    },
    {
     "name": "stdout",
     "output_type": "stream",
     "text": [
      "[19:46:00] WARNING: src/objective/regression_obj.cu:152: reg:linear is now deprecated in favor of reg:squarederror.    \n",
      " 67%|████████████████████████████████▏               | 67/100 [00:28<00:25,  1.30trial/s, best loss: 0.510703970569166]"
     ]
    },
    {
     "name": "stderr",
     "output_type": "stream",
     "text": [
      "D:\\Anaconda\\lib\\site-packages\\xgboost\\core.py:587: FutureWarning: Series.base is deprecated and will be removed in a future version\n",
      "  if getattr(data, 'base', None) is not None and \\\n",
      "\n"
     ]
    },
    {
     "name": "stdout",
     "output_type": "stream",
     "text": [
      "[19:46:00] WARNING: src/objective/regression_obj.cu:152: reg:linear is now deprecated in favor of reg:squarederror.    \n",
      " 68%|████████████████████████████████▋               | 68/100 [00:29<00:23,  1.35trial/s, best loss: 0.510703970569166]"
     ]
    },
    {
     "name": "stderr",
     "output_type": "stream",
     "text": [
      "D:\\Anaconda\\lib\\site-packages\\xgboost\\core.py:587: FutureWarning: Series.base is deprecated and will be removed in a future version\n",
      "  if getattr(data, 'base', None) is not None and \\\n",
      "\n"
     ]
    },
    {
     "name": "stdout",
     "output_type": "stream",
     "text": [
      "[19:46:01] WARNING: src/objective/regression_obj.cu:152: reg:linear is now deprecated in favor of reg:squarederror.    \n",
      " 69%|█████████████████████████████████               | 69/100 [00:30<00:23,  1.34trial/s, best loss: 0.510703970569166]"
     ]
    },
    {
     "name": "stderr",
     "output_type": "stream",
     "text": [
      "D:\\Anaconda\\lib\\site-packages\\xgboost\\core.py:587: FutureWarning: Series.base is deprecated and will be removed in a future version\n",
      "  if getattr(data, 'base', None) is not None and \\\n",
      "\n"
     ]
    },
    {
     "name": "stdout",
     "output_type": "stream",
     "text": [
      "[19:46:02] WARNING: src/objective/regression_obj.cu:152: reg:linear is now deprecated in favor of reg:squarederror.    \n",
      " 70%|█████████████████████████████████▌              | 70/100 [00:31<00:27,  1.08trial/s, best loss: 0.510703970569166]"
     ]
    },
    {
     "name": "stderr",
     "output_type": "stream",
     "text": [
      "D:\\Anaconda\\lib\\site-packages\\xgboost\\core.py:587: FutureWarning: Series.base is deprecated and will be removed in a future version\n",
      "  if getattr(data, 'base', None) is not None and \\\n",
      "\n"
     ]
    },
    {
     "name": "stdout",
     "output_type": "stream",
     "text": [
      "[19:46:03] WARNING: src/objective/regression_obj.cu:152: reg:linear is now deprecated in favor of reg:squarederror.    \n",
      " 71%|██████████████████████████████████              | 71/100 [00:31<00:20,  1.39trial/s, best loss: 0.510703970569166]"
     ]
    },
    {
     "name": "stderr",
     "output_type": "stream",
     "text": [
      "D:\\Anaconda\\lib\\site-packages\\xgboost\\core.py:587: FutureWarning: Series.base is deprecated and will be removed in a future version\n",
      "  if getattr(data, 'base', None) is not None and \\\n",
      "\n"
     ]
    },
    {
     "name": "stdout",
     "output_type": "stream",
     "text": [
      "[19:46:03] WARNING: src/objective/regression_obj.cu:152: reg:linear is now deprecated in favor of reg:squarederror.    \n",
      " 72%|██████████████████████████████████▌             | 72/100 [00:32<00:17,  1.56trial/s, best loss: 0.510703970569166]"
     ]
    },
    {
     "name": "stderr",
     "output_type": "stream",
     "text": [
      "D:\\Anaconda\\lib\\site-packages\\xgboost\\core.py:587: FutureWarning: Series.base is deprecated and will be removed in a future version\n",
      "  if getattr(data, 'base', None) is not None and \\\n",
      "\n"
     ]
    },
    {
     "name": "stdout",
     "output_type": "stream",
     "text": [
      "[19:46:04] WARNING: src/objective/regression_obj.cu:152: reg:linear is now deprecated in favor of reg:squarederror.    \n",
      " 73%|███████████████████████████████████             | 73/100 [00:32<00:14,  1.89trial/s, best loss: 0.510703970569166]"
     ]
    },
    {
     "name": "stderr",
     "output_type": "stream",
     "text": [
      "D:\\Anaconda\\lib\\site-packages\\xgboost\\core.py:587: FutureWarning: Series.base is deprecated and will be removed in a future version\n",
      "  if getattr(data, 'base', None) is not None and \\\n",
      "\n"
     ]
    },
    {
     "name": "stdout",
     "output_type": "stream",
     "text": [
      "[19:46:04] WARNING: src/objective/regression_obj.cu:152: reg:linear is now deprecated in favor of reg:squarederror.    \n",
      " 74%|███████████████████████████████████▌            | 74/100 [00:32<00:11,  2.30trial/s, best loss: 0.510703970569166]"
     ]
    },
    {
     "name": "stderr",
     "output_type": "stream",
     "text": [
      "D:\\Anaconda\\lib\\site-packages\\xgboost\\core.py:587: FutureWarning: Series.base is deprecated and will be removed in a future version\n",
      "  if getattr(data, 'base', None) is not None and \\\n",
      "\n"
     ]
    },
    {
     "name": "stdout",
     "output_type": "stream",
     "text": [
      "[19:46:04] WARNING: src/objective/regression_obj.cu:152: reg:linear is now deprecated in favor of reg:squarederror.    \n",
      " 75%|████████████████████████████████████            | 75/100 [00:32<00:08,  2.85trial/s, best loss: 0.510703970569166]"
     ]
    },
    {
     "name": "stderr",
     "output_type": "stream",
     "text": [
      "D:\\Anaconda\\lib\\site-packages\\xgboost\\core.py:587: FutureWarning: Series.base is deprecated and will be removed in a future version\n",
      "  if getattr(data, 'base', None) is not None and \\\n",
      "\n"
     ]
    },
    {
     "name": "stdout",
     "output_type": "stream",
     "text": [
      "[19:46:05] WARNING: src/objective/regression_obj.cu:152: reg:linear is now deprecated in favor of reg:squarederror.    \n",
      " 76%|████████████████████████████████████▍           | 76/100 [00:33<00:07,  3.15trial/s, best loss: 0.510703970569166]"
     ]
    },
    {
     "name": "stderr",
     "output_type": "stream",
     "text": [
      "D:\\Anaconda\\lib\\site-packages\\xgboost\\core.py:587: FutureWarning: Series.base is deprecated and will be removed in a future version\n",
      "  if getattr(data, 'base', None) is not None and \\\n",
      "\n"
     ]
    },
    {
     "name": "stdout",
     "output_type": "stream",
     "text": [
      "[19:46:05] WARNING: src/objective/regression_obj.cu:152: reg:linear is now deprecated in favor of reg:squarederror.    \n",
      " 77%|████████████████████████████████████▉           | 77/100 [00:33<00:07,  2.98trial/s, best loss: 0.510703970569166]"
     ]
    },
    {
     "name": "stderr",
     "output_type": "stream",
     "text": [
      "D:\\Anaconda\\lib\\site-packages\\xgboost\\core.py:587: FutureWarning: Series.base is deprecated and will be removed in a future version\n",
      "  if getattr(data, 'base', None) is not None and \\\n",
      "\n"
     ]
    },
    {
     "name": "stdout",
     "output_type": "stream",
     "text": [
      "[19:46:05] WARNING: src/objective/regression_obj.cu:152: reg:linear is now deprecated in favor of reg:squarederror.    \n",
      " 78%|█████████████████████████████████████▍          | 78/100 [00:33<00:07,  2.82trial/s, best loss: 0.510703970569166]"
     ]
    },
    {
     "name": "stderr",
     "output_type": "stream",
     "text": [
      "D:\\Anaconda\\lib\\site-packages\\xgboost\\core.py:587: FutureWarning: Series.base is deprecated and will be removed in a future version\n",
      "  if getattr(data, 'base', None) is not None and \\\n",
      "\n"
     ]
    },
    {
     "name": "stdout",
     "output_type": "stream",
     "text": [
      "[19:46:06] WARNING: src/objective/regression_obj.cu:152: reg:linear is now deprecated in favor of reg:squarederror.    \n",
      " 79%|█████████████████████████████████████▉          | 79/100 [00:34<00:07,  2.89trial/s, best loss: 0.510703970569166]"
     ]
    },
    {
     "name": "stderr",
     "output_type": "stream",
     "text": [
      "D:\\Anaconda\\lib\\site-packages\\xgboost\\core.py:587: FutureWarning: Series.base is deprecated and will be removed in a future version\n",
      "  if getattr(data, 'base', None) is not None and \\\n",
      "\n"
     ]
    },
    {
     "name": "stdout",
     "output_type": "stream",
     "text": [
      "[19:46:06] WARNING: src/objective/regression_obj.cu:152: reg:linear is now deprecated in favor of reg:squarederror.    \n",
      " 80%|██████████████████████████████████████▍         | 80/100 [00:34<00:05,  3.48trial/s, best loss: 0.510703970569166]"
     ]
    },
    {
     "name": "stderr",
     "output_type": "stream",
     "text": [
      "D:\\Anaconda\\lib\\site-packages\\xgboost\\core.py:587: FutureWarning: Series.base is deprecated and will be removed in a future version\n",
      "  if getattr(data, 'base', None) is not None and \\\n",
      "\n"
     ]
    },
    {
     "name": "stdout",
     "output_type": "stream",
     "text": [
      "[19:46:06] WARNING: src/objective/regression_obj.cu:152: reg:linear is now deprecated in favor of reg:squarederror.    \n",
      " 81%|██████████████████████████████████████▉         | 81/100 [00:34<00:05,  3.53trial/s, best loss: 0.510703970569166]"
     ]
    },
    {
     "name": "stderr",
     "output_type": "stream",
     "text": [
      "D:\\Anaconda\\lib\\site-packages\\xgboost\\core.py:587: FutureWarning: Series.base is deprecated and will be removed in a future version\n",
      "  if getattr(data, 'base', None) is not None and \\\n",
      "\n"
     ]
    },
    {
     "name": "stdout",
     "output_type": "stream",
     "text": [
      "[19:46:06] WARNING: src/objective/regression_obj.cu:152: reg:linear is now deprecated in favor of reg:squarederror.    \n",
      " 82%|███████████████████████████████████████▎        | 82/100 [00:34<00:04,  3.99trial/s, best loss: 0.510703970569166]"
     ]
    },
    {
     "name": "stderr",
     "output_type": "stream",
     "text": [
      "D:\\Anaconda\\lib\\site-packages\\xgboost\\core.py:587: FutureWarning: Series.base is deprecated and will be removed in a future version\n",
      "  if getattr(data, 'base', None) is not None and \\\n",
      "\n"
     ]
    },
    {
     "name": "stdout",
     "output_type": "stream",
     "text": [
      "[19:46:06] WARNING: src/objective/regression_obj.cu:152: reg:linear is now deprecated in favor of reg:squarederror.    \n",
      " 83%|███████████████████████████████████████▊        | 83/100 [00:35<00:03,  4.48trial/s, best loss: 0.510703970569166]"
     ]
    },
    {
     "name": "stderr",
     "output_type": "stream",
     "text": [
      "D:\\Anaconda\\lib\\site-packages\\xgboost\\core.py:587: FutureWarning: Series.base is deprecated and will be removed in a future version\n",
      "  if getattr(data, 'base', None) is not None and \\\n",
      "\n"
     ]
    },
    {
     "name": "stdout",
     "output_type": "stream",
     "text": [
      "[19:46:07] WARNING: src/objective/regression_obj.cu:152: reg:linear is now deprecated in favor of reg:squarederror.    \n",
      " 84%|████████████████████████████████████████▎       | 84/100 [00:38<00:18,  1.16s/trial, best loss: 0.510703970569166]"
     ]
    },
    {
     "name": "stderr",
     "output_type": "stream",
     "text": [
      "D:\\Anaconda\\lib\\site-packages\\xgboost\\core.py:587: FutureWarning: Series.base is deprecated and will be removed in a future version\n",
      "  if getattr(data, 'base', None) is not None and \\\n",
      "\n"
     ]
    },
    {
     "name": "stdout",
     "output_type": "stream",
     "text": [
      "[19:46:10] WARNING: src/objective/regression_obj.cu:152: reg:linear is now deprecated in favor of reg:squarederror.    \n",
      " 85%|████████████████████████████████████████▊       | 85/100 [00:38<00:13,  1.11trial/s, best loss: 0.510703970569166]"
     ]
    },
    {
     "name": "stderr",
     "output_type": "stream",
     "text": [
      "D:\\Anaconda\\lib\\site-packages\\xgboost\\core.py:587: FutureWarning: Series.base is deprecated and will be removed in a future version\n",
      "  if getattr(data, 'base', None) is not None and \\\n",
      "\n"
     ]
    },
    {
     "name": "stdout",
     "output_type": "stream",
     "text": [
      "[19:46:10] WARNING: src/objective/regression_obj.cu:152: reg:linear is now deprecated in favor of reg:squarederror.    \n",
      " 86%|█████████████████████████████████████████▎      | 86/100 [00:38<00:09,  1.47trial/s, best loss: 0.510703970569166]"
     ]
    },
    {
     "name": "stderr",
     "output_type": "stream",
     "text": [
      "D:\\Anaconda\\lib\\site-packages\\xgboost\\core.py:587: FutureWarning: Series.base is deprecated and will be removed in a future version\n",
      "  if getattr(data, 'base', None) is not None and \\\n",
      "\n"
     ]
    },
    {
     "name": "stdout",
     "output_type": "stream",
     "text": [
      "[19:46:11] WARNING: src/objective/regression_obj.cu:152: reg:linear is now deprecated in favor of reg:squarederror.    \n",
      " 87%|█████████████████████████████████████████▊      | 87/100 [00:39<00:09,  1.33trial/s, best loss: 0.510703970569166]"
     ]
    },
    {
     "name": "stderr",
     "output_type": "stream",
     "text": [
      "D:\\Anaconda\\lib\\site-packages\\xgboost\\core.py:587: FutureWarning: Series.base is deprecated and will be removed in a future version\n",
      "  if getattr(data, 'base', None) is not None and \\\n",
      "\n"
     ]
    },
    {
     "name": "stdout",
     "output_type": "stream",
     "text": [
      "[19:46:11] WARNING: src/objective/regression_obj.cu:152: reg:linear is now deprecated in favor of reg:squarederror.    \n",
      " 88%|██████████████████████████████████████████▏     | 88/100 [00:39<00:06,  1.77trial/s, best loss: 0.510703970569166]"
     ]
    },
    {
     "name": "stderr",
     "output_type": "stream",
     "text": [
      "D:\\Anaconda\\lib\\site-packages\\xgboost\\core.py:587: FutureWarning: Series.base is deprecated and will be removed in a future version\n",
      "  if getattr(data, 'base', None) is not None and \\\n",
      "\n"
     ]
    },
    {
     "name": "stdout",
     "output_type": "stream",
     "text": [
      "[19:46:12] WARNING: src/objective/regression_obj.cu:152: reg:linear is now deprecated in favor of reg:squarederror.    \n",
      " 89%|██████████████████████████████████████████▋     | 89/100 [00:40<00:04,  2.24trial/s, best loss: 0.510703970569166]"
     ]
    },
    {
     "name": "stderr",
     "output_type": "stream",
     "text": [
      "D:\\Anaconda\\lib\\site-packages\\xgboost\\core.py:587: FutureWarning: Series.base is deprecated and will be removed in a future version\n",
      "  if getattr(data, 'base', None) is not None and \\\n",
      "\n"
     ]
    },
    {
     "name": "stdout",
     "output_type": "stream",
     "text": [
      "[19:46:12] WARNING: src/objective/regression_obj.cu:152: reg:linear is now deprecated in favor of reg:squarederror.    \n",
      " 90%|███████████████████████████████████████████▏    | 90/100 [00:40<00:03,  2.79trial/s, best loss: 0.510703970569166]"
     ]
    },
    {
     "name": "stderr",
     "output_type": "stream",
     "text": [
      "D:\\Anaconda\\lib\\site-packages\\xgboost\\core.py:587: FutureWarning: Series.base is deprecated and will be removed in a future version\n",
      "  if getattr(data, 'base', None) is not None and \\\n",
      "\n"
     ]
    },
    {
     "name": "stdout",
     "output_type": "stream",
     "text": [
      "[19:46:12] WARNING: src/objective/regression_obj.cu:152: reg:linear is now deprecated in favor of reg:squarederror.    \n",
      " 91%|███████████████████████████████████████████▋    | 91/100 [00:40<00:02,  3.47trial/s, best loss: 0.510703970569166]"
     ]
    },
    {
     "name": "stderr",
     "output_type": "stream",
     "text": [
      "D:\\Anaconda\\lib\\site-packages\\xgboost\\core.py:587: FutureWarning: Series.base is deprecated and will be removed in a future version\n",
      "  if getattr(data, 'base', None) is not None and \\\n",
      "\n"
     ]
    },
    {
     "name": "stdout",
     "output_type": "stream",
     "text": [
      "[19:46:12] WARNING: src/objective/regression_obj.cu:152: reg:linear is now deprecated in favor of reg:squarederror.    \n",
      " 92%|████████████████████████████████████████████▏   | 92/100 [00:40<00:01,  4.21trial/s, best loss: 0.510703970569166]"
     ]
    },
    {
     "name": "stderr",
     "output_type": "stream",
     "text": [
      "D:\\Anaconda\\lib\\site-packages\\xgboost\\core.py:587: FutureWarning: Series.base is deprecated and will be removed in a future version\n",
      "  if getattr(data, 'base', None) is not None and \\\n",
      "\n"
     ]
    },
    {
     "name": "stdout",
     "output_type": "stream",
     "text": [
      "[19:46:12] WARNING: src/objective/regression_obj.cu:152: reg:linear is now deprecated in favor of reg:squarederror.    \n",
      " 93%|████████████████████████████████████████████▋   | 93/100 [00:41<00:02,  2.61trial/s, best loss: 0.510703970569166]"
     ]
    },
    {
     "name": "stderr",
     "output_type": "stream",
     "text": [
      "D:\\Anaconda\\lib\\site-packages\\xgboost\\core.py:587: FutureWarning: Series.base is deprecated and will be removed in a future version\n",
      "  if getattr(data, 'base', None) is not None and \\\n",
      "\n"
     ]
    },
    {
     "name": "stdout",
     "output_type": "stream",
     "text": [
      "[19:46:13] WARNING: src/objective/regression_obj.cu:152: reg:linear is now deprecated in favor of reg:squarederror.    \n",
      " 94%|█████████████████████████████████████████████   | 94/100 [00:41<00:01,  3.19trial/s, best loss: 0.510703970569166]"
     ]
    },
    {
     "name": "stderr",
     "output_type": "stream",
     "text": [
      "D:\\Anaconda\\lib\\site-packages\\xgboost\\core.py:587: FutureWarning: Series.base is deprecated and will be removed in a future version\n",
      "  if getattr(data, 'base', None) is not None and \\\n",
      "\n"
     ]
    },
    {
     "name": "stdout",
     "output_type": "stream",
     "text": [
      "[19:46:13] WARNING: src/objective/regression_obj.cu:152: reg:linear is now deprecated in favor of reg:squarederror.    \n",
      " 95%|█████████████████████████████████████████████▌  | 95/100 [00:41<00:01,  2.83trial/s, best loss: 0.510703970569166]"
     ]
    },
    {
     "name": "stderr",
     "output_type": "stream",
     "text": [
      "D:\\Anaconda\\lib\\site-packages\\xgboost\\core.py:587: FutureWarning: Series.base is deprecated and will be removed in a future version\n",
      "  if getattr(data, 'base', None) is not None and \\\n",
      "\n"
     ]
    },
    {
     "name": "stdout",
     "output_type": "stream",
     "text": [
      "[19:46:13] WARNING: src/objective/regression_obj.cu:152: reg:linear is now deprecated in favor of reg:squarederror.    \n",
      " 96%|██████████████████████████████████████████████  | 96/100 [00:42<00:01,  3.20trial/s, best loss: 0.510703970569166]"
     ]
    },
    {
     "name": "stderr",
     "output_type": "stream",
     "text": [
      "D:\\Anaconda\\lib\\site-packages\\xgboost\\core.py:587: FutureWarning: Series.base is deprecated and will be removed in a future version\n",
      "  if getattr(data, 'base', None) is not None and \\\n",
      "\n"
     ]
    },
    {
     "name": "stdout",
     "output_type": "stream",
     "text": [
      "[19:46:14] WARNING: src/objective/regression_obj.cu:152: reg:linear is now deprecated in favor of reg:squarederror.    \n",
      " 97%|██████████████████████████████████████████████▌ | 97/100 [00:42<00:01,  2.37trial/s, best loss: 0.510703970569166]"
     ]
    },
    {
     "name": "stderr",
     "output_type": "stream",
     "text": [
      "D:\\Anaconda\\lib\\site-packages\\xgboost\\core.py:587: FutureWarning: Series.base is deprecated and will be removed in a future version\n",
      "  if getattr(data, 'base', None) is not None and \\\n",
      "\n"
     ]
    },
    {
     "name": "stdout",
     "output_type": "stream",
     "text": [
      "[19:46:14] WARNING: src/objective/regression_obj.cu:152: reg:linear is now deprecated in favor of reg:squarederror.    \n",
      " 98%|███████████████████████████████████████████████ | 98/100 [00:42<00:00,  2.91trial/s, best loss: 0.510703970569166]"
     ]
    },
    {
     "name": "stderr",
     "output_type": "stream",
     "text": [
      "D:\\Anaconda\\lib\\site-packages\\xgboost\\core.py:587: FutureWarning: Series.base is deprecated and will be removed in a future version\n",
      "  if getattr(data, 'base', None) is not None and \\\n",
      "\n"
     ]
    },
    {
     "name": "stdout",
     "output_type": "stream",
     "text": [
      "[19:46:14] WARNING: src/objective/regression_obj.cu:152: reg:linear is now deprecated in favor of reg:squarederror.    \n",
      " 99%|███████████████████████████████████████████████▌| 99/100 [00:42<00:00,  3.63trial/s, best loss: 0.510703970569166]"
     ]
    },
    {
     "name": "stderr",
     "output_type": "stream",
     "text": [
      "D:\\Anaconda\\lib\\site-packages\\xgboost\\core.py:587: FutureWarning: Series.base is deprecated and will be removed in a future version\n",
      "  if getattr(data, 'base', None) is not None and \\\n",
      "\n"
     ]
    },
    {
     "name": "stdout",
     "output_type": "stream",
     "text": [
      "[19:46:15] WARNING: src/objective/regression_obj.cu:152: reg:linear is now deprecated in favor of reg:squarederror.    \n",
      "100%|███████████████████████████████████████████████| 100/100 [00:43<00:00,  2.28trial/s, best loss: 0.510703970569166]\n",
      "Best params:\n",
      " {'colsample_bytree': 0.6618120414010251, 'learning_rate': 0.04, 'max_depth': 13, 'min_child_weight': 8, 'reg_lambda': 17.475284000076847}\n"
     ]
    }
   ],
   "source": [
    "from hyperopt import fmin, tpe, hp, STATUS_OK, Trials\n",
    "np.random.seed(RANDOM_SEED)\n",
    "\n",
    "# XGB parameters for tune\n",
    "space = {\n",
    "    'learning_rate': hp.choice('learning_rate',    np.arange(0.01, 0.5, 0.01)),\n",
    "    'max_depth': hp.choice('max_depth',        np.arange(4, 16, 1, dtype=int)),\n",
    "    'min_child_weight': hp.choice('min_child_weight', np.arange(1, 10, 1, dtype=int)),\n",
    "    'colsample_bytree': hp.uniform('colsample_bytree', 0.5, 1),\n",
    "    'reg_lambda': hp.choice('reg_lambda', np.logspace(-1.0, 2.0, num=100)),\n",
    "    #'n_estimators': hp.choice('n_estimators',  np.arange(30, 200, 10, dtype=int))\n",
    "}\n",
    "\n",
    "# RMSE Cross-validation \n",
    "def cv_scores(estimator, X, y, cv=3):\n",
    "    skf = KFold(n_splits=cv, shuffle=True, random_state=RANDOM_SEED)\n",
    "    scores=[]\n",
    "    for train_index, val_index in skf.split(X, y):\n",
    "        estimator.fit(X.iloc[train_index], y.iloc[train_index])\n",
    "        y_pred  = estimator.predict(X.iloc[val_index])\n",
    "        scores.append(np.sqrt(mean_squared_error(y.iloc[val_index], y_pred)))\n",
    "    return np.mean(scores)\n",
    "\n",
    "# RMSE test \n",
    "def test_scores(estimator, X_train, y_train, X_test, y_test):\n",
    "    estimator.fit(X_train, y_train,\n",
    "              eval_set=[(X_test, y_test)],\n",
    "              eval_metric = 'rmse',\n",
    "              early_stopping_rounds = 10,\n",
    "              verbose = False\n",
    "             )    \n",
    "    scores = np.sqrt(mean_squared_error(y_test, estimator.predict(X_test))) \n",
    "    return scores, estimator.best_iteration\n",
    "    \n",
    "    \n",
    "def hyperopt_objective(space):\n",
    "        \n",
    "    model = XGBRegressor(\n",
    "        learning_rate = space['learning_rate'],\n",
    "        max_depth = space['max_depth'],\n",
    "        min_child_weight = space['min_child_weight'],\n",
    "        colsample_bytree = space['colsample_bytree'],\n",
    "        reg_lambda = space['reg_lambda'],\n",
    "        random_state = RANDOM_SEED,\n",
    "        n_estimators = 1000 #space['n_estimators']\n",
    "                        \n",
    "    )    \n",
    "    #scores = cv_scores(model, X_train, y_train, cv=3)\n",
    "    #return np.mean(scores)\n",
    "    \n",
    "    scores, best_iteration = test_scores(model, X_train, y_train, X_test, y_test)    \n",
    "    return {'loss': scores, 'best_iteration': best_iteration, 'status': STATUS_OK}\n",
    "    \n",
    "    \n",
    "trials = Trials()\n",
    "best_params = fmin(fn = hyperopt_objective,\n",
    "                   space = space,\n",
    "                   algo = tpe.suggest,\n",
    "                   max_evals = 100,\n",
    "                   trials = trials,\n",
    "                   verbose = 2,\n",
    "                   rstate = np.random.seed(RANDOM_SEED),\n",
    "                   return_argmin=False\n",
    "                  )\n",
    "\n",
    "print('Best params:\\n', best_params)"
   ]
  },
  {
   "cell_type": "code",
   "execution_count": 28,
   "metadata": {},
   "outputs": [
    {
     "data": {
      "text/plain": [
       "{'loss': 0.510703970569166, 'best_iteration': 300, 'status': 'ok'}"
      ]
     },
     "execution_count": 28,
     "metadata": {},
     "output_type": "execute_result"
    }
   ],
   "source": [
    "res_loss = np.array([res['loss'] for res in trials.results])\n",
    "best_idx = np.where(res_loss == res_loss.min())[0][0]\n",
    "best_results = trials.results[best_idx]\n",
    "best_results"
   ]
  },
  {
   "cell_type": "markdown",
   "metadata": {},
   "source": [
    "### <font color='brown'> Задание №6 </font>\n",
    "Оценка влияния параметра **subsample** на дисперсию прогнозов.\n",
    "Параметр **subsample** - по сути реализация бэггинга внтури XGBoost. Как известно, бэггинг призван снизить дисперсию прогноза, а, следовательно, уменьшить склонность алгоритма к переобучению.\n",
    "- Оценить дисперсию (можно оценивать стандартное отклонение) прогноза XGBoost при изменении параметра subsample.\n",
    "- Ответом будет значение из списка subsample_list. Ответ округлите до 1 знака."
   ]
  },
  {
   "cell_type": "code",
   "execution_count": 29,
   "metadata": {},
   "outputs": [],
   "source": [
    "# Список subsample, который надо перебрать\n",
    "subsample_list_values = np.arange(0.1, 1.1, 0.1)\n",
    "\n",
    "# Инициализация модели для воспроизводимости ответа\n",
    "xgb_reg = XGBRegressor(n_estimators=20, max_depth=2, random_state=RANDOM_SEED)"
   ]
  },
  {
   "cell_type": "code",
   "execution_count": 30,
   "metadata": {
    "scrolled": true
   },
   "outputs": [
    {
     "data": {
      "application/vnd.jupyter.widget-view+json": {
       "model_id": "af8340987ca6431e8b785f4ff47054f5",
       "version_major": 2,
       "version_minor": 0
      },
      "text/plain": [
       "HBox(children=(IntProgress(value=0, max=10), HTML(value='')))"
      ]
     },
     "metadata": {},
     "output_type": "display_data"
    },
    {
     "name": "stderr",
     "output_type": "stream",
     "text": [
      "D:\\Anaconda\\lib\\site-packages\\xgboost\\core.py:587: FutureWarning: Series.base is deprecated and will be removed in a future version\n",
      "  if getattr(data, 'base', None) is not None and \\\n"
     ]
    },
    {
     "name": "stdout",
     "output_type": "stream",
     "text": [
      "[19:46:15] WARNING: src/objective/regression_obj.cu:152: reg:linear is now deprecated in favor of reg:squarederror.\n",
      "[19:46:15] WARNING: src/objective/regression_obj.cu:152: reg:linear is now deprecated in favor of reg:squarederror.\n",
      "[19:46:15] WARNING: src/objective/regression_obj.cu:152: reg:linear is now deprecated in favor of reg:squarederror.\n",
      "[19:46:15] WARNING: src/objective/regression_obj.cu:152: reg:linear is now deprecated in favor of reg:squarederror.\n",
      "[19:46:16] WARNING: src/objective/regression_obj.cu:152: reg:linear is now deprecated in favor of reg:squarederror.\n",
      "[19:46:16] WARNING: src/objective/regression_obj.cu:152: reg:linear is now deprecated in favor of reg:squarederror.\n",
      "[19:46:16] WARNING: src/objective/regression_obj.cu:152: reg:linear is now deprecated in favor of reg:squarederror.\n",
      "[19:46:16] WARNING: src/objective/regression_obj.cu:152: reg:linear is now deprecated in favor of reg:squarederror.\n",
      "[19:46:16] WARNING: src/objective/regression_obj.cu:152: reg:linear is now deprecated in favor of reg:squarederror.\n",
      "[19:46:16] WARNING: src/objective/regression_obj.cu:152: reg:linear is now deprecated in favor of reg:squarederror.\n",
      "\n"
     ]
    }
   ],
   "source": [
    "std_subsample = []\n",
    "\n",
    "for subsample_list in tqdm(subsample_list_values):\n",
    "    xgb_reg = XGBRegressor(n_estimators=20, subsample=subsample_list, max_depth=2, random_state=RANDOM_SEED)\n",
    "    xgb_reg.fit(X_train, y_train)\n",
    "    std_subsample.append(std(xgb_reg.predict(X_test),axis=0))"
   ]
  },
  {
   "cell_type": "code",
   "execution_count": 31,
   "metadata": {},
   "outputs": [
    {
     "data": {
      "text/plain": [
       "Text(0.5, 0, 'std_subsample')"
      ]
     },
     "execution_count": 31,
     "metadata": {},
     "output_type": "execute_result"
    },
    {
     "data": {
      "image/png": "[encoded data removed]",
      "text/plain": [
       "<Figure size 432x288 with 1 Axes>"
      ]
     },
     "metadata": {
      "needs_background": "light"
     },
     "output_type": "display_data"
    }
   ],
   "source": [
    "plt.plot(subsample_list_values, std_subsample)\n",
    "plt.title('std for subsample')\n",
    "plt.ylabel('std')\n",
    "plt.xlabel('std_subsample')"
   ]
  },
  {
   "cell_type": "code",
   "execution_count": null,
   "metadata": {},
   "outputs": [],
   "source": []
  },
  {
   "cell_type": "code",
   "execution_count": null,
   "metadata": {},
   "outputs": [],
   "source": []
  },
  {
   "cell_type": "code",
   "execution_count": null,
   "metadata": {},
   "outputs": [],
   "source": []
  },
  {
   "cell_type": "code",
   "execution_count": null,
   "metadata": {},
   "outputs": [],
   "source": []
  },
  {
   "cell_type": "code",
   "execution_count": null,
   "metadata": {},
   "outputs": [],
   "source": []
  },
  {
   "cell_type": "code",
   "execution_count": null,
   "metadata": {},
   "outputs": [],
   "source": []
  },
  {
   "cell_type": "code",
   "execution_count": null,
   "metadata": {},
   "outputs": [],
   "source": []
  },
  {
   "cell_type": "code",
   "execution_count": null,
   "metadata": {},
   "outputs": [],
   "source": []
  },
  {
   "cell_type": "code",
   "execution_count": null,
   "metadata": {},
   "outputs": [],
   "source": []
  },
  {
   "cell_type": "code",
   "execution_count": null,
   "metadata": {},
   "outputs": [],
   "source": []
  },
  {
   "cell_type": "code",
   "execution_count": null,
   "metadata": {},
   "outputs": [],
   "source": []
  },
  {
   "cell_type": "code",
   "execution_count": null,
   "metadata": {},
   "outputs": [],
   "source": []
  }
 ],
 "metadata": {
  "kernelspec": {
   "display_name": "Python 3.7.4 64-bit ('base': conda)",
   "language": "python",
   "name": "python37464bitbasecondadbe9a6d1582d412dbd0b01bd072c712f"
  },
  "language_info": {
   "codemirror_mode": {
    "name": "ipython",
    "version": 3
   },
   "file_extension": ".py",
   "mimetype": "text/x-python",
   "name": "python",
   "nbconvert_exporter": "python",
   "pygments_lexer": "ipython3",
   "version": "3.7.4"
  }
 },
 "nbformat": 4,
 "nbformat_minor": 2
}