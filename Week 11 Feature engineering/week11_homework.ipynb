{
 "cells": [
  {
   "cell_type": "markdown",
   "metadata": {},
   "source": [
    "# **Неделя 11. feature engineering**"
   ]
  },
  {
   "cell_type": "markdown",
   "metadata": {},
   "source": [
    "## **Домашняя работа**"
   ]
  },
  {
   "cell_type": "markdown",
   "metadata": {},
   "source": [
    "Ссылка на форму: https://forms.gle/UDDairgp3NywgvSHA\n",
    "\n",
    "Дедлайн: 11.05.20"
   ]
  },
  {
   "cell_type": "markdown",
   "metadata": {},
   "source": [
    "Импортируем необходимые модули"
   ]
  },
  {
   "cell_type": "code",
   "execution_count": 231,
   "metadata": {},
   "outputs": [],
   "source": [
    "import pandas as pd\n",
    "import numpy as np\n",
    "\n",
    "import matplotlib.pyplot as plt\n",
    "import seaborn as sns\n",
    "%matplotlib inline\n",
    "\n",
    "from catboost import CatBoostRegressor # нужно установить библиотеку catboost\n",
    "from sklearn.metrics import mean_absolute_error\n",
    "\n",
    "import warnings\n",
    "warnings.filterwarnings('ignore')\n",
    "\n",
    "RANDOM_STATE = 42"
   ]
  },
  {
   "cell_type": "markdown",
   "metadata": {},
   "source": [
    "Загрузим датасет California Housing dataset"
   ]
  },
  {
   "cell_type": "code",
   "execution_count": 232,
   "metadata": {},
   "outputs": [],
   "source": [
    "from sklearn.datasets import fetch_california_housing\n",
    "california_housing = fetch_california_housing()"
   ]
  },
  {
   "cell_type": "code",
   "execution_count": 233,
   "metadata": {},
   "outputs": [],
   "source": [
    "data = pd.DataFrame(california_housing.data, columns=california_housing.feature_names)\n",
    "data['target'] = california_housing.target"
   ]
  },
  {
   "cell_type": "markdown",
   "metadata": {},
   "source": [
    "**Описание датасета:**\n",
    "Датасет содержит информацию о жилых районах штата Калифорния. 20640 Записей, 8 признаков. \n",
    "\n",
    "**Описание признаков:**\n",
    "1. *MedInc* - медианный доход домохозяйства\n",
    "2. *HouseAge* - медианный возраст домов\n",
    "3. *AveRooms* - среднее число комнат\n",
    "4. *AveBedrms* - среднее число спален\n",
    "5. *Population* - число людей, проживающих в районе\n",
    "6. *AveOccup* - среднее число людей, проживающих в доме\n",
    "7. *Latitude* - широта, геогр. координаты \n",
    "8. *Longitude* - долгота, геогр. координаты\n",
    "\n",
    "**Целевая переменная:** Медианная стоимость дома в районе, единица измерения $10 тыс."
   ]
  },
  {
   "cell_type": "code",
   "execution_count": 234,
   "metadata": {},
   "outputs": [
    {
     "data": {
      "text/html": [
       "<div>\n",
       "<style scoped>\n",
       "    .dataframe tbody tr th:only-of-type {\n",
       "        vertical-align: middle;\n",
       "    }\n",
       "\n",
       "    .dataframe tbody tr th {\n",
       "        vertical-align: top;\n",
       "    }\n",
       "\n",
       "    .dataframe thead th {\n",
       "        text-align: right;\n",
       "    }\n",
       "</style>\n",
       "<table border=\"1\" class=\"dataframe\">\n",
       "  <thead>\n",
       "    <tr style=\"text-align: right;\">\n",
       "      <th></th>\n",
       "      <th>MedInc</th>\n",
       "      <th>HouseAge</th>\n",
       "      <th>AveRooms</th>\n",
       "      <th>AveBedrms</th>\n",
       "      <th>Population</th>\n",
       "      <th>AveOccup</th>\n",
       "      <th>Latitude</th>\n",
       "      <th>Longitude</th>\n",
       "      <th>target</th>\n",
       "    </tr>\n",
       "  </thead>\n",
       "  <tbody>\n",
       "    <tr>\n",
       "      <th>count</th>\n",
       "      <td>20640.000000</td>\n",
       "      <td>20640.000000</td>\n",
       "      <td>20640.000000</td>\n",
       "      <td>20640.000000</td>\n",
       "      <td>20640.000000</td>\n",
       "      <td>20640.000000</td>\n",
       "      <td>20640.000000</td>\n",
       "      <td>20640.000000</td>\n",
       "      <td>20640.000000</td>\n",
       "    </tr>\n",
       "    <tr>\n",
       "      <th>mean</th>\n",
       "      <td>3.870671</td>\n",
       "      <td>28.639486</td>\n",
       "      <td>5.429000</td>\n",
       "      <td>1.096675</td>\n",
       "      <td>1425.476744</td>\n",
       "      <td>3.070655</td>\n",
       "      <td>35.631861</td>\n",
       "      <td>-119.569704</td>\n",
       "      <td>2.068558</td>\n",
       "    </tr>\n",
       "    <tr>\n",
       "      <th>std</th>\n",
       "      <td>1.899822</td>\n",
       "      <td>12.585558</td>\n",
       "      <td>2.474173</td>\n",
       "      <td>0.473911</td>\n",
       "      <td>1132.462122</td>\n",
       "      <td>10.386050</td>\n",
       "      <td>2.135952</td>\n",
       "      <td>2.003532</td>\n",
       "      <td>1.153956</td>\n",
       "    </tr>\n",
       "    <tr>\n",
       "      <th>min</th>\n",
       "      <td>0.499900</td>\n",
       "      <td>1.000000</td>\n",
       "      <td>0.846154</td>\n",
       "      <td>0.333333</td>\n",
       "      <td>3.000000</td>\n",
       "      <td>0.692308</td>\n",
       "      <td>32.540000</td>\n",
       "      <td>-124.350000</td>\n",
       "      <td>0.149990</td>\n",
       "    </tr>\n",
       "    <tr>\n",
       "      <th>25%</th>\n",
       "      <td>2.563400</td>\n",
       "      <td>18.000000</td>\n",
       "      <td>4.440716</td>\n",
       "      <td>1.006079</td>\n",
       "      <td>787.000000</td>\n",
       "      <td>2.429741</td>\n",
       "      <td>33.930000</td>\n",
       "      <td>-121.800000</td>\n",
       "      <td>1.196000</td>\n",
       "    </tr>\n",
       "    <tr>\n",
       "      <th>50%</th>\n",
       "      <td>3.534800</td>\n",
       "      <td>29.000000</td>\n",
       "      <td>5.229129</td>\n",
       "      <td>1.048780</td>\n",
       "      <td>1166.000000</td>\n",
       "      <td>2.818116</td>\n",
       "      <td>34.260000</td>\n",
       "      <td>-118.490000</td>\n",
       "      <td>1.797000</td>\n",
       "    </tr>\n",
       "    <tr>\n",
       "      <th>75%</th>\n",
       "      <td>4.743250</td>\n",
       "      <td>37.000000</td>\n",
       "      <td>6.052381</td>\n",
       "      <td>1.099526</td>\n",
       "      <td>1725.000000</td>\n",
       "      <td>3.282261</td>\n",
       "      <td>37.710000</td>\n",
       "      <td>-118.010000</td>\n",
       "      <td>2.647250</td>\n",
       "    </tr>\n",
       "    <tr>\n",
       "      <th>max</th>\n",
       "      <td>15.000100</td>\n",
       "      <td>52.000000</td>\n",
       "      <td>141.909091</td>\n",
       "      <td>34.066667</td>\n",
       "      <td>35682.000000</td>\n",
       "      <td>1243.333333</td>\n",
       "      <td>41.950000</td>\n",
       "      <td>-114.310000</td>\n",
       "      <td>5.000010</td>\n",
       "    </tr>\n",
       "  </tbody>\n",
       "</table>\n",
       "</div>"
      ],
      "text/plain": [
       "             MedInc      HouseAge      AveRooms     AveBedrms    Population  \\\n",
       "count  20640.000000  20640.000000  20640.000000  20640.000000  20640.000000   \n",
       "mean       3.870671     28.639486      5.429000      1.096675   1425.476744   \n",
       "std        1.899822     12.585558      2.474173      0.473911   1132.462122   \n",
       "min        0.499900      1.000000      0.846154      0.333333      3.000000   \n",
       "25%        2.563400     18.000000      4.440716      1.006079    787.000000   \n",
       "50%        3.534800     29.000000      5.229129      1.048780   1166.000000   \n",
       "75%        4.743250     37.000000      6.052381      1.099526   1725.000000   \n",
       "max       15.000100     52.000000    141.909091     34.066667  35682.000000   \n",
       "\n",
       "           AveOccup      Latitude     Longitude        target  \n",
       "count  20640.000000  20640.000000  20640.000000  20640.000000  \n",
       "mean       3.070655     35.631861   -119.569704      2.068558  \n",
       "std       10.386050      2.135952      2.003532      1.153956  \n",
       "min        0.692308     32.540000   -124.350000      0.149990  \n",
       "25%        2.429741     33.930000   -121.800000      1.196000  \n",
       "50%        2.818116     34.260000   -118.490000      1.797000  \n",
       "75%        3.282261     37.710000   -118.010000      2.647250  \n",
       "max     1243.333333     41.950000   -114.310000      5.000010  "
      ]
     },
     "execution_count": 234,
     "metadata": {},
     "output_type": "execute_result"
    }
   ],
   "source": [
    "data.describe()"
   ]
  },
  {
   "cell_type": "markdown",
   "metadata": {},
   "source": [
    "В этой домашней работе вам предстоит реализовывать различные гипотезы и тестировать их. \n",
    "\n",
    "Метрика качества - *mean_absolute_error*.\n",
    "\n",
    "Разбиение на обучающую и тестовую выборку случайное.\n",
    "\n",
    "Cтратегия кросс-валидации - ShuffledSplit.\n",
    "\n",
    "**Во всех следующих заданиях нужно использовать модель, полученную с помощью *create_model()*.**"
   ]
  },
  {
   "cell_type": "code",
   "execution_count": 235,
   "metadata": {},
   "outputs": [],
   "source": [
    "def create_model():\n",
    "    \"\"\"\n",
    "    create instance of CatBoostRegressor model\n",
    "    \"\"\"\n",
    "    return CatBoostRegressor(random_state=RANDOM_STATE, logging_level='Silent', iterations=60)\n"
   ]
  },
  {
   "cell_type": "markdown",
   "metadata": {},
   "source": [
    "разделим выборку на обучающую и тестовую часть"
   ]
  },
  {
   "cell_type": "code",
   "execution_count": 236,
   "metadata": {},
   "outputs": [
    {
     "name": "stdout",
     "output_type": "stream",
     "text": [
      "train size: 16512\n",
      "test size: 4128\n"
     ]
    }
   ],
   "source": [
    "from sklearn.model_selection import train_test_split\n",
    "\n",
    "train, test = train_test_split(data, test_size = 0.2, random_state = RANDOM_STATE, shuffle=True)\n",
    "\n",
    "print('train size: {}'.format(train.shape[0]))\n",
    "print('test size: {}'.format(test.shape[0]))"
   ]
  },
  {
   "cell_type": "markdown",
   "metadata": {},
   "source": [
    "####  **Задание 1.** \n",
    "Попробуем обучить модель на датасете без дополнительных признаков и преобразований. Оцените качество модели на кросс-валидации. Модель нужно создать с помощью функции *create_model()*. В форме укажите значение метрики.\n",
    "\n",
    "Разделить выборку на фолды нужно с помошью sklearn.model_selection.KFold c параметрами:\n",
    "1. n_splits = 5\n",
    "2. shuffle = True\n",
    "3. random_state = RANDOM_STATE\n",
    "\n",
    "Для проведения кросс-валидации можно использовать функции cross_val_score или cross_val_predict, в которые нужно передать созданный KFold. Можете попробовать сделать кросс-валидацию с помощью самого объекта KFold.\n",
    "\n",
    "Метрика - mean_absolute_error. Кросс-валидацию необходимо проводить на train части датасета. \n",
    "\n",
    "*Не забудьте исключить target.*"
   ]
  },
  {
   "cell_type": "code",
   "execution_count": 237,
   "metadata": {},
   "outputs": [],
   "source": [
    "from sklearn.model_selection import KFold, cross_val_score"
   ]
  },
  {
   "cell_type": "code",
   "execution_count": 238,
   "metadata": {},
   "outputs": [
    {
     "data": {
      "text/plain": [
       "14196    1.030\n",
       "8267     3.821\n",
       "17445    1.726\n",
       "14265    0.934\n",
       "2271     0.965\n",
       "         ...  \n",
       "11284    2.292\n",
       "11964    0.978\n",
       "5390     2.221\n",
       "860      2.835\n",
       "15795    3.250\n",
       "Name: target, Length: 16512, dtype: float64"
      ]
     },
     "execution_count": 238,
     "metadata": {},
     "output_type": "execute_result"
    }
   ],
   "source": [
    "train['target']"
   ]
  },
  {
   "cell_type": "code",
   "execution_count": 253,
   "metadata": {},
   "outputs": [
    {
     "name": "stdout",
     "output_type": "stream",
     "text": [
      "-0.33\n"
     ]
    }
   ],
   "source": [
    "model = create_model()\n",
    "\n",
    "kfold = KFold(n_splits=5, shuffle=True, random_state=RANDOM_STATE)\n",
    "\n",
    "predictions = cross_val_score(model, X=train.drop('target', axis=1), y=train['target'], \n",
    "                              cv=kfold, scoring='neg_mean_absolute_error')\n",
    "\n",
    "score = round(np.mean(predictions), 2)\n",
    "\n",
    "print(score)"
   ]
  },
  {
   "cell_type": "markdown",
   "metadata": {},
   "source": [
    "------------------------"
   ]
  },
  {
   "cell_type": "markdown",
   "metadata": {},
   "source": [
    "В датасете есть интересные признаки - координаты районов. Координаты часто являются очень полезными, но не в исходном виде. Посмотрим, есть ли зависимость между target и расположением района.\n",
    "\n",
    "Нарисуйте диаграмму рассеивания, в которой ось x - широта, y - долгота, окрасьте точки по значению target.  "
   ]
  },
  {
   "cell_type": "markdown",
   "metadata": {},
   "source": [
    "Latitude - широта, геогр. координаты\n",
    "Longitude - долгота, геогр. координаты"
   ]
  },
  {
   "cell_type": "code",
   "execution_count": 240,
   "metadata": {},
   "outputs": [
    {
     "data": {
      "text/plain": [
       "count    20640.000000\n",
       "mean         2.068558\n",
       "std          1.153956\n",
       "min          0.149990\n",
       "25%          1.196000\n",
       "50%          1.797000\n",
       "75%          2.647250\n",
       "max          5.000010\n",
       "Name: target, dtype: float64"
      ]
     },
     "execution_count": 240,
     "metadata": {},
     "output_type": "execute_result"
    }
   ],
   "source": [
    "data['target'].describe()"
   ]
  },
  {
   "cell_type": "code",
   "execution_count": 241,
   "metadata": {
    "scrolled": false
   },
   "outputs": [
    {
     "data": {
      "image/png": "[encoded data removed]",
      "text/plain": [
       "<Figure size 432x288 with 1 Axes>"
      ]
     },
     "metadata": {
      "needs_background": "light"
     },
     "output_type": "display_data"
    },
    {
     "data": {
      "text/plain": [
       "Text(0.5, 0, 'Longitude')"
      ]
     },
     "execution_count": 241,
     "metadata": {},
     "output_type": "execute_result"
    },
    {
     "data": {
      "image/png": "[encoded data removed]",
      "text/plain": [
       "<Figure size 432x288 with 1 Axes>"
      ]
     },
     "metadata": {
      "needs_background": "light"
     },
     "output_type": "display_data"
    }
   ],
   "source": [
    "#your code here \n",
    "plt.scatter(data['Latitude'], data['Longitude'], c=data['target'])\n",
    "plt.xlabel('Latitude')\n",
    "plt.ylabel('Longitude')\n",
    "plt.show()\n",
    "plt.scatter(data['Longitude'], data['Latitude'], c=data['target'])\n",
    "plt.ylabel('Latitude')\n",
    "plt.xlabel('Longitude')"
   ]
  },
  {
   "cell_type": "markdown",
   "metadata": {},
   "source": [
    "####  **Задание 2.** \n",
    "\n",
    "Если сопоставить диаграмму с картой штата Калифорния, то будет видно, что цены выше у крупных городов и на побережье, попробуем добавить такой признак. Посчитайте расстояние от района до следующих крупных городов:\n",
    "1. Лос-Анджелес (34.05, -118.24)\n",
    "2. Сан-Хосе (37.33, -121.88)\n",
    "3. Сан-Франциско (37.77, -122.41)\n",
    "4. Сакраменто (38.58, -121.49)\n",
    "\n",
    "Расстояние от каждого города до района должно быть отдельным признаком.\n",
    "\n",
    "Добавьте новые признаки в датасет, оцените качество на кросс-валидации как в 1 задании. В форме укажите значение метрики."
   ]
  },
  {
   "cell_type": "code",
   "execution_count": 242,
   "metadata": {},
   "outputs": [
    {
     "name": "stdout",
     "output_type": "stream",
     "text": [
      "[[  37.88 -122.23]\n",
      " [  34.05 -118.24]]\n"
     ]
    },
    {
     "data": {
      "text/plain": [
       "5.530732320407812"
      ]
     },
     "execution_count": 242,
     "metadata": {},
     "output_type": "execute_result"
    }
   ],
   "source": [
    "#your code here \n",
    "from sklearn.metrics.pairwise import euclidean_distances, paired_distances\n",
    "\n",
    "\n",
    "cities = {'To LA' : [34.05, -118.24], 'To Sh' : [37.33, -121.88],\n",
    "          'To SF' : [37.77, -122.41], 'To S' : [38.58, -121.49]}\n",
    "distances = pd.DataFrame(columns=cities)\n",
    "coordinates = np.array([data['Latitude'], data['Longitude']])\n",
    "k = np.array([coordinates[:,0], cities['To LA']])\n",
    "print(k)\n",
    "euclidean_distances(k,k)[0][1]"
   ]
  },
  {
   "cell_type": "code",
   "execution_count": 243,
   "metadata": {},
   "outputs": [],
   "source": [
    "def distances_to_cities(X):\n",
    "    t = X.copy()\n",
    "    cities = {'To LA' : [34.05, -118.24], 'To Sh' : [37.33, -121.88],\n",
    "              'To SF' : [37.77, -122.41], 'To S' : [38.58, -121.49]}\n",
    "    coordinates = np.array([t['Latitude'], t['Longitude']])\n",
    "    for city, coord in cities.items():\n",
    "        d = []\n",
    "        for i in range(len(X)):\n",
    "            k = np.array([coordinates[:,i], coord])\n",
    "            d.append(euclidean_distances(k,k)[0][1])\n",
    "        t[city] = d\n",
    "    return t"
   ]
  },
  {
   "cell_type": "code",
   "execution_count": 244,
   "metadata": {},
   "outputs": [],
   "source": [
    "updated_train = distances_to_cities(train)"
   ]
  },
  {
   "cell_type": "code",
   "execution_count": 245,
   "metadata": {
    "scrolled": true
   },
   "outputs": [
    {
     "data": {
      "text/html": [
       "<div>\n",
       "<style scoped>\n",
       "    .dataframe tbody tr th:only-of-type {\n",
       "        vertical-align: middle;\n",
       "    }\n",
       "\n",
       "    .dataframe tbody tr th {\n",
       "        vertical-align: top;\n",
       "    }\n",
       "\n",
       "    .dataframe thead th {\n",
       "        text-align: right;\n",
       "    }\n",
       "</style>\n",
       "<table border=\"1\" class=\"dataframe\">\n",
       "  <thead>\n",
       "    <tr style=\"text-align: right;\">\n",
       "      <th></th>\n",
       "      <th>MedInc</th>\n",
       "      <th>HouseAge</th>\n",
       "      <th>AveRooms</th>\n",
       "      <th>AveBedrms</th>\n",
       "      <th>Population</th>\n",
       "      <th>AveOccup</th>\n",
       "      <th>Latitude</th>\n",
       "      <th>Longitude</th>\n",
       "      <th>target</th>\n",
       "      <th>To LA</th>\n",
       "      <th>To Sh</th>\n",
       "      <th>To SF</th>\n",
       "      <th>To S</th>\n",
       "    </tr>\n",
       "  </thead>\n",
       "  <tbody>\n",
       "    <tr>\n",
       "      <th>14196</th>\n",
       "      <td>3.2596</td>\n",
       "      <td>33.0</td>\n",
       "      <td>5.017657</td>\n",
       "      <td>1.006421</td>\n",
       "      <td>2300.0</td>\n",
       "      <td>3.691814</td>\n",
       "      <td>32.71</td>\n",
       "      <td>-117.03</td>\n",
       "      <td>1.030</td>\n",
       "      <td>1.805464</td>\n",
       "      <td>6.698276</td>\n",
       "      <td>7.385662</td>\n",
       "      <td>7.372144</td>\n",
       "    </tr>\n",
       "    <tr>\n",
       "      <th>8267</th>\n",
       "      <td>3.8125</td>\n",
       "      <td>49.0</td>\n",
       "      <td>4.473545</td>\n",
       "      <td>1.041005</td>\n",
       "      <td>1314.0</td>\n",
       "      <td>1.738095</td>\n",
       "      <td>33.77</td>\n",
       "      <td>-118.16</td>\n",
       "      <td>3.821</td>\n",
       "      <td>0.291204</td>\n",
       "      <td>5.148980</td>\n",
       "      <td>5.836309</td>\n",
       "      <td>5.850214</td>\n",
       "    </tr>\n",
       "    <tr>\n",
       "      <th>17445</th>\n",
       "      <td>4.1563</td>\n",
       "      <td>4.0</td>\n",
       "      <td>5.645833</td>\n",
       "      <td>0.985119</td>\n",
       "      <td>915.0</td>\n",
       "      <td>2.723214</td>\n",
       "      <td>34.66</td>\n",
       "      <td>-120.48</td>\n",
       "      <td>1.726</td>\n",
       "      <td>2.321573</td>\n",
       "      <td>3.014780</td>\n",
       "      <td>3.660191</td>\n",
       "      <td>4.048024</td>\n",
       "    </tr>\n",
       "    <tr>\n",
       "      <th>14265</th>\n",
       "      <td>1.9425</td>\n",
       "      <td>36.0</td>\n",
       "      <td>4.002817</td>\n",
       "      <td>1.033803</td>\n",
       "      <td>1418.0</td>\n",
       "      <td>3.994366</td>\n",
       "      <td>32.69</td>\n",
       "      <td>-117.11</td>\n",
       "      <td>0.934</td>\n",
       "      <td>1.768191</td>\n",
       "      <td>6.654510</td>\n",
       "      <td>7.341417</td>\n",
       "      <td>7.340061</td>\n",
       "    </tr>\n",
       "    <tr>\n",
       "      <th>2271</th>\n",
       "      <td>3.5542</td>\n",
       "      <td>43.0</td>\n",
       "      <td>6.268421</td>\n",
       "      <td>1.134211</td>\n",
       "      <td>874.0</td>\n",
       "      <td>2.300000</td>\n",
       "      <td>36.78</td>\n",
       "      <td>-119.80</td>\n",
       "      <td>0.965</td>\n",
       "      <td>3.144281</td>\n",
       "      <td>2.151488</td>\n",
       "      <td>2.791451</td>\n",
       "      <td>2.469028</td>\n",
       "    </tr>\n",
       "    <tr>\n",
       "      <th>...</th>\n",
       "      <td>...</td>\n",
       "      <td>...</td>\n",
       "      <td>...</td>\n",
       "      <td>...</td>\n",
       "      <td>...</td>\n",
       "      <td>...</td>\n",
       "      <td>...</td>\n",
       "      <td>...</td>\n",
       "      <td>...</td>\n",
       "      <td>...</td>\n",
       "      <td>...</td>\n",
       "      <td>...</td>\n",
       "      <td>...</td>\n",
       "    </tr>\n",
       "    <tr>\n",
       "      <th>11284</th>\n",
       "      <td>6.3700</td>\n",
       "      <td>35.0</td>\n",
       "      <td>6.129032</td>\n",
       "      <td>0.926267</td>\n",
       "      <td>658.0</td>\n",
       "      <td>3.032258</td>\n",
       "      <td>33.78</td>\n",
       "      <td>-117.96</td>\n",
       "      <td>2.292</td>\n",
       "      <td>0.388973</td>\n",
       "      <td>5.288563</td>\n",
       "      <td>5.976839</td>\n",
       "      <td>5.958263</td>\n",
       "    </tr>\n",
       "    <tr>\n",
       "      <th>11964</th>\n",
       "      <td>3.0500</td>\n",
       "      <td>33.0</td>\n",
       "      <td>6.868597</td>\n",
       "      <td>1.269488</td>\n",
       "      <td>1753.0</td>\n",
       "      <td>3.904232</td>\n",
       "      <td>34.02</td>\n",
       "      <td>-117.43</td>\n",
       "      <td>0.978</td>\n",
       "      <td>0.810555</td>\n",
       "      <td>5.546044</td>\n",
       "      <td>6.234012</td>\n",
       "      <td>6.105506</td>\n",
       "    </tr>\n",
       "    <tr>\n",
       "      <th>5390</th>\n",
       "      <td>2.9344</td>\n",
       "      <td>36.0</td>\n",
       "      <td>3.986717</td>\n",
       "      <td>1.079696</td>\n",
       "      <td>1756.0</td>\n",
       "      <td>3.332068</td>\n",
       "      <td>34.03</td>\n",
       "      <td>-118.38</td>\n",
       "      <td>2.221</td>\n",
       "      <td>0.141421</td>\n",
       "      <td>4.810405</td>\n",
       "      <td>5.498045</td>\n",
       "      <td>5.511316</td>\n",
       "    </tr>\n",
       "    <tr>\n",
       "      <th>860</th>\n",
       "      <td>5.7192</td>\n",
       "      <td>15.0</td>\n",
       "      <td>6.395349</td>\n",
       "      <td>1.067979</td>\n",
       "      <td>1777.0</td>\n",
       "      <td>3.178891</td>\n",
       "      <td>37.58</td>\n",
       "      <td>-121.96</td>\n",
       "      <td>2.835</td>\n",
       "      <td>5.128284</td>\n",
       "      <td>0.262488</td>\n",
       "      <td>0.488467</td>\n",
       "      <td>1.104943</td>\n",
       "    </tr>\n",
       "    <tr>\n",
       "      <th>15795</th>\n",
       "      <td>2.5755</td>\n",
       "      <td>52.0</td>\n",
       "      <td>3.402576</td>\n",
       "      <td>1.058776</td>\n",
       "      <td>2619.0</td>\n",
       "      <td>2.108696</td>\n",
       "      <td>37.77</td>\n",
       "      <td>-122.42</td>\n",
       "      <td>3.250</td>\n",
       "      <td>5.595605</td>\n",
       "      <td>0.696563</td>\n",
       "      <td>0.010000</td>\n",
       "      <td>1.233288</td>\n",
       "    </tr>\n",
       "  </tbody>\n",
       "</table>\n",
       "<p>16512 rows × 13 columns</p>\n",
       "</div>"
      ],
      "text/plain": [
       "       MedInc  HouseAge  AveRooms  AveBedrms  Population  AveOccup  Latitude  \\\n",
       "14196  3.2596      33.0  5.017657   1.006421      2300.0  3.691814     32.71   \n",
       "8267   3.8125      49.0  4.473545   1.041005      1314.0  1.738095     33.77   \n",
       "17445  4.1563       4.0  5.645833   0.985119       915.0  2.723214     34.66   \n",
       "14265  1.9425      36.0  4.002817   1.033803      1418.0  3.994366     32.69   \n",
       "2271   3.5542      43.0  6.268421   1.134211       874.0  2.300000     36.78   \n",
       "...       ...       ...       ...        ...         ...       ...       ...   \n",
       "11284  6.3700      35.0  6.129032   0.926267       658.0  3.032258     33.78   \n",
       "11964  3.0500      33.0  6.868597   1.269488      1753.0  3.904232     34.02   \n",
       "5390   2.9344      36.0  3.986717   1.079696      1756.0  3.332068     34.03   \n",
       "860    5.7192      15.0  6.395349   1.067979      1777.0  3.178891     37.58   \n",
       "15795  2.5755      52.0  3.402576   1.058776      2619.0  2.108696     37.77   \n",
       "\n",
       "       Longitude  target     To LA     To Sh     To SF      To S  \n",
       "14196    -117.03   1.030  1.805464  6.698276  7.385662  7.372144  \n",
       "8267     -118.16   3.821  0.291204  5.148980  5.836309  5.850214  \n",
       "17445    -120.48   1.726  2.321573  3.014780  3.660191  4.048024  \n",
       "14265    -117.11   0.934  1.768191  6.654510  7.341417  7.340061  \n",
       "2271     -119.80   0.965  3.144281  2.151488  2.791451  2.469028  \n",
       "...          ...     ...       ...       ...       ...       ...  \n",
       "11284    -117.96   2.292  0.388973  5.288563  5.976839  5.958263  \n",
       "11964    -117.43   0.978  0.810555  5.546044  6.234012  6.105506  \n",
       "5390     -118.38   2.221  0.141421  4.810405  5.498045  5.511316  \n",
       "860      -121.96   2.835  5.128284  0.262488  0.488467  1.104943  \n",
       "15795    -122.42   3.250  5.595605  0.696563  0.010000  1.233288  \n",
       "\n",
       "[16512 rows x 13 columns]"
      ]
     },
     "execution_count": 245,
     "metadata": {},
     "output_type": "execute_result"
    }
   ],
   "source": [
    "updated_train"
   ]
  },
  {
   "cell_type": "markdown",
   "metadata": {},
   "source": [
    "------------------------"
   ]
  },
  {
   "cell_type": "code",
   "execution_count": 254,
   "metadata": {},
   "outputs": [
    {
     "name": "stdout",
     "output_type": "stream",
     "text": [
      "-0.32\n"
     ]
    }
   ],
   "source": [
    "model = create_model()\n",
    "\n",
    "kfold = KFold(n_splits=5, shuffle=True, random_state=RANDOM_STATE)\n",
    "\n",
    "predictions = cross_val_score(model, X=updated_train.drop('target', axis=1), y=updated_train['target'], \n",
    "                              cv=kfold, scoring='neg_mean_absolute_error')\n",
    "\n",
    "score = round(np.mean(predictions), 2)\n",
    "\n",
    "print(score)"
   ]
  },
  {
   "cell_type": "markdown",
   "metadata": {},
   "source": [
    "####  **Задание 3.** \n",
    "\n",
    "Можно пойти дальше и добавить еще городов или других объектов, до которых можно посчитать расстояние, но тогда число признаков может значительно вырасти, что почти всегда приводит к плохим последствиям. Преобразуем расстояния до городов в новый категориальный признак - самый близкий город.\n",
    "\n",
    "Постройте такой признак, удалите признаки расстояний до городов и оцените качество на кросс-валидации как в 1 задании. В форме укажите значение метрики. \n",
    "\n",
    "Названия городов можно закодировать с помощью sklearn.preprocessing.LabelEncoder."
   ]
  },
  {
   "cell_type": "code",
   "execution_count": 247,
   "metadata": {},
   "outputs": [
    {
     "data": {
      "text/plain": [
       "'To LA'"
      ]
     },
     "execution_count": 247,
     "metadata": {},
     "output_type": "execute_result"
    }
   ],
   "source": [
    "#your code here \n",
    "from sklearn.preprocessing import LabelEncoder\n",
    "k = updated_train.copy()\n",
    "\n",
    "m = k[cities.keys()].iloc()[0]\n",
    "#print(m)\n",
    "k[cities.keys()]\n",
    "v = {m[0] : 'To LA',\n",
    "     m[1] : 'To SH',\n",
    "     m[2] : 'To SF',\n",
    "     m[3] : 'To S'}\n",
    "v.get(min(list(v.keys())))"
   ]
  },
  {
   "cell_type": "code",
   "execution_count": 248,
   "metadata": {},
   "outputs": [],
   "source": [
    "def nearest_city(X):\n",
    "    t = X.copy()\n",
    "    nearest_city = []\n",
    "    for i in range(len(t)):\n",
    "        m = t[cities.keys()].iloc()[i]\n",
    "        v = {m[0] : 0, m[1] : 1,\n",
    "             m[2] : 2, m[3] : 3}\n",
    "        nearest_city.append(v.get(min(list(v.keys()))))\n",
    "    t['Nearest city'] = nearest_city\n",
    "    return t"
   ]
  },
  {
   "cell_type": "code",
   "execution_count": 255,
   "metadata": {},
   "outputs": [
    {
     "name": "stdout",
     "output_type": "stream",
     "text": [
      "-0.33\n"
     ]
    }
   ],
   "source": [
    "model = create_model()\n",
    "\n",
    "kfold = KFold(n_splits=5, shuffle=True, random_state=RANDOM_STATE)\n",
    "\n",
    "predictions = cross_val_score(model, X=updated_train.drop('target', axis=1).drop(cities.keys(), axis=1), y=updated_train['target'], \n",
    "                              cv=kfold, scoring='neg_mean_absolute_error')\n",
    "\n",
    "score = round(np.mean(predictions), 2)\n",
    "\n",
    "print(score)"
   ]
  },
  {
   "cell_type": "markdown",
   "metadata": {},
   "source": [
    "### ------------------------"
   ]
  },
  {
   "cell_type": "markdown",
   "metadata": {},
   "source": [
    "####  **Задание 4.** \n",
    "\n",
    "Попробуем добавить более сложный признак. Номер кластера, в который попадает район. Постройте такой признак, оцените качество с новым признаком на кросс-валидации. В форме укажите значение метрики.\n",
    "\n",
    "Постройте кластеризацию на всех признаках с помощью алгоритма KMeans со следующими параметрами:\n",
    "1. n_clusters = 20 \n",
    "2. random_state = RANDOM_STATE\n",
    "\n",
    "Перед кластеризацией данные необходимо отмасштабировать с помощью StandartScaler. \n",
    "Масштабирование и вычисление параметров кластеризации необходимо производить на train фолдах, а применять их к train и test фолдам.\n",
    "\n",
    "Используйте все рассчитанные ранее признаки."
   ]
  },
  {
   "cell_type": "code",
   "execution_count": 250,
   "metadata": {},
   "outputs": [],
   "source": [
    "from sklearn.cluster import KMeans\n",
    "from sklearn.preprocessing import StandardScaler"
   ]
  },
  {
   "cell_type": "code",
   "execution_count": 251,
   "metadata": {},
   "outputs": [],
   "source": [
    "updated_train = nearest_city(updated_train)"
   ]
  },
  {
   "cell_type": "code",
   "execution_count": 256,
   "metadata": {},
   "outputs": [
    {
     "data": {
      "text/html": [
       "<div>\n",
       "<style scoped>\n",
       "    .dataframe tbody tr th:only-of-type {\n",
       "        vertical-align: middle;\n",
       "    }\n",
       "\n",
       "    .dataframe tbody tr th {\n",
       "        vertical-align: top;\n",
       "    }\n",
       "\n",
       "    .dataframe thead th {\n",
       "        text-align: right;\n",
       "    }\n",
       "</style>\n",
       "<table border=\"1\" class=\"dataframe\">\n",
       "  <thead>\n",
       "    <tr style=\"text-align: right;\">\n",
       "      <th></th>\n",
       "      <th>MedInc</th>\n",
       "      <th>HouseAge</th>\n",
       "      <th>AveRooms</th>\n",
       "      <th>AveBedrms</th>\n",
       "      <th>Population</th>\n",
       "      <th>AveOccup</th>\n",
       "      <th>Latitude</th>\n",
       "      <th>Longitude</th>\n",
       "      <th>target</th>\n",
       "      <th>To LA</th>\n",
       "      <th>To Sh</th>\n",
       "      <th>To SF</th>\n",
       "      <th>To S</th>\n",
       "      <th>Nearest city</th>\n",
       "    </tr>\n",
       "  </thead>\n",
       "  <tbody>\n",
       "    <tr>\n",
       "      <th>14196</th>\n",
       "      <td>3.2596</td>\n",
       "      <td>33.0</td>\n",
       "      <td>5.017657</td>\n",
       "      <td>1.006421</td>\n",
       "      <td>2300.0</td>\n",
       "      <td>3.691814</td>\n",
       "      <td>32.71</td>\n",
       "      <td>-117.03</td>\n",
       "      <td>1.030</td>\n",
       "      <td>1.805464</td>\n",
       "      <td>6.698276</td>\n",
       "      <td>7.385662</td>\n",
       "      <td>7.372144</td>\n",
       "      <td>0</td>\n",
       "    </tr>\n",
       "    <tr>\n",
       "      <th>8267</th>\n",
       "      <td>3.8125</td>\n",
       "      <td>49.0</td>\n",
       "      <td>4.473545</td>\n",
       "      <td>1.041005</td>\n",
       "      <td>1314.0</td>\n",
       "      <td>1.738095</td>\n",
       "      <td>33.77</td>\n",
       "      <td>-118.16</td>\n",
       "      <td>3.821</td>\n",
       "      <td>0.291204</td>\n",
       "      <td>5.148980</td>\n",
       "      <td>5.836309</td>\n",
       "      <td>5.850214</td>\n",
       "      <td>0</td>\n",
       "    </tr>\n",
       "    <tr>\n",
       "      <th>17445</th>\n",
       "      <td>4.1563</td>\n",
       "      <td>4.0</td>\n",
       "      <td>5.645833</td>\n",
       "      <td>0.985119</td>\n",
       "      <td>915.0</td>\n",
       "      <td>2.723214</td>\n",
       "      <td>34.66</td>\n",
       "      <td>-120.48</td>\n",
       "      <td>1.726</td>\n",
       "      <td>2.321573</td>\n",
       "      <td>3.014780</td>\n",
       "      <td>3.660191</td>\n",
       "      <td>4.048024</td>\n",
       "      <td>0</td>\n",
       "    </tr>\n",
       "    <tr>\n",
       "      <th>14265</th>\n",
       "      <td>1.9425</td>\n",
       "      <td>36.0</td>\n",
       "      <td>4.002817</td>\n",
       "      <td>1.033803</td>\n",
       "      <td>1418.0</td>\n",
       "      <td>3.994366</td>\n",
       "      <td>32.69</td>\n",
       "      <td>-117.11</td>\n",
       "      <td>0.934</td>\n",
       "      <td>1.768191</td>\n",
       "      <td>6.654510</td>\n",
       "      <td>7.341417</td>\n",
       "      <td>7.340061</td>\n",
       "      <td>0</td>\n",
       "    </tr>\n",
       "    <tr>\n",
       "      <th>2271</th>\n",
       "      <td>3.5542</td>\n",
       "      <td>43.0</td>\n",
       "      <td>6.268421</td>\n",
       "      <td>1.134211</td>\n",
       "      <td>874.0</td>\n",
       "      <td>2.300000</td>\n",
       "      <td>36.78</td>\n",
       "      <td>-119.80</td>\n",
       "      <td>0.965</td>\n",
       "      <td>3.144281</td>\n",
       "      <td>2.151488</td>\n",
       "      <td>2.791451</td>\n",
       "      <td>2.469028</td>\n",
       "      <td>1</td>\n",
       "    </tr>\n",
       "    <tr>\n",
       "      <th>...</th>\n",
       "      <td>...</td>\n",
       "      <td>...</td>\n",
       "      <td>...</td>\n",
       "      <td>...</td>\n",
       "      <td>...</td>\n",
       "      <td>...</td>\n",
       "      <td>...</td>\n",
       "      <td>...</td>\n",
       "      <td>...</td>\n",
       "      <td>...</td>\n",
       "      <td>...</td>\n",
       "      <td>...</td>\n",
       "      <td>...</td>\n",
       "      <td>...</td>\n",
       "    </tr>\n",
       "    <tr>\n",
       "      <th>11284</th>\n",
       "      <td>6.3700</td>\n",
       "      <td>35.0</td>\n",
       "      <td>6.129032</td>\n",
       "      <td>0.926267</td>\n",
       "      <td>658.0</td>\n",
       "      <td>3.032258</td>\n",
       "      <td>33.78</td>\n",
       "      <td>-117.96</td>\n",
       "      <td>2.292</td>\n",
       "      <td>0.388973</td>\n",
       "      <td>5.288563</td>\n",
       "      <td>5.976839</td>\n",
       "      <td>5.958263</td>\n",
       "      <td>0</td>\n",
       "    </tr>\n",
       "    <tr>\n",
       "      <th>11964</th>\n",
       "      <td>3.0500</td>\n",
       "      <td>33.0</td>\n",
       "      <td>6.868597</td>\n",
       "      <td>1.269488</td>\n",
       "      <td>1753.0</td>\n",
       "      <td>3.904232</td>\n",
       "      <td>34.02</td>\n",
       "      <td>-117.43</td>\n",
       "      <td>0.978</td>\n",
       "      <td>0.810555</td>\n",
       "      <td>5.546044</td>\n",
       "      <td>6.234012</td>\n",
       "      <td>6.105506</td>\n",
       "      <td>0</td>\n",
       "    </tr>\n",
       "    <tr>\n",
       "      <th>5390</th>\n",
       "      <td>2.9344</td>\n",
       "      <td>36.0</td>\n",
       "      <td>3.986717</td>\n",
       "      <td>1.079696</td>\n",
       "      <td>1756.0</td>\n",
       "      <td>3.332068</td>\n",
       "      <td>34.03</td>\n",
       "      <td>-118.38</td>\n",
       "      <td>2.221</td>\n",
       "      <td>0.141421</td>\n",
       "      <td>4.810405</td>\n",
       "      <td>5.498045</td>\n",
       "      <td>5.511316</td>\n",
       "      <td>0</td>\n",
       "    </tr>\n",
       "    <tr>\n",
       "      <th>860</th>\n",
       "      <td>5.7192</td>\n",
       "      <td>15.0</td>\n",
       "      <td>6.395349</td>\n",
       "      <td>1.067979</td>\n",
       "      <td>1777.0</td>\n",
       "      <td>3.178891</td>\n",
       "      <td>37.58</td>\n",
       "      <td>-121.96</td>\n",
       "      <td>2.835</td>\n",
       "      <td>5.128284</td>\n",
       "      <td>0.262488</td>\n",
       "      <td>0.488467</td>\n",
       "      <td>1.104943</td>\n",
       "      <td>1</td>\n",
       "    </tr>\n",
       "    <tr>\n",
       "      <th>15795</th>\n",
       "      <td>2.5755</td>\n",
       "      <td>52.0</td>\n",
       "      <td>3.402576</td>\n",
       "      <td>1.058776</td>\n",
       "      <td>2619.0</td>\n",
       "      <td>2.108696</td>\n",
       "      <td>37.77</td>\n",
       "      <td>-122.42</td>\n",
       "      <td>3.250</td>\n",
       "      <td>5.595605</td>\n",
       "      <td>0.696563</td>\n",
       "      <td>0.010000</td>\n",
       "      <td>1.233288</td>\n",
       "      <td>2</td>\n",
       "    </tr>\n",
       "  </tbody>\n",
       "</table>\n",
       "<p>16512 rows × 14 columns</p>\n",
       "</div>"
      ],
      "text/plain": [
       "       MedInc  HouseAge  AveRooms  AveBedrms  Population  AveOccup  Latitude  \\\n",
       "14196  3.2596      33.0  5.017657   1.006421      2300.0  3.691814     32.71   \n",
       "8267   3.8125      49.0  4.473545   1.041005      1314.0  1.738095     33.77   \n",
       "17445  4.1563       4.0  5.645833   0.985119       915.0  2.723214     34.66   \n",
       "14265  1.9425      36.0  4.002817   1.033803      1418.0  3.994366     32.69   \n",
       "2271   3.5542      43.0  6.268421   1.134211       874.0  2.300000     36.78   \n",
       "...       ...       ...       ...        ...         ...       ...       ...   \n",
       "11284  6.3700      35.0  6.129032   0.926267       658.0  3.032258     33.78   \n",
       "11964  3.0500      33.0  6.868597   1.269488      1753.0  3.904232     34.02   \n",
       "5390   2.9344      36.0  3.986717   1.079696      1756.0  3.332068     34.03   \n",
       "860    5.7192      15.0  6.395349   1.067979      1777.0  3.178891     37.58   \n",
       "15795  2.5755      52.0  3.402576   1.058776      2619.0  2.108696     37.77   \n",
       "\n",
       "       Longitude  target     To LA     To Sh     To SF      To S  Nearest city  \n",
       "14196    -117.03   1.030  1.805464  6.698276  7.385662  7.372144             0  \n",
       "8267     -118.16   3.821  0.291204  5.148980  5.836309  5.850214             0  \n",
       "17445    -120.48   1.726  2.321573  3.014780  3.660191  4.048024             0  \n",
       "14265    -117.11   0.934  1.768191  6.654510  7.341417  7.340061             0  \n",
       "2271     -119.80   0.965  3.144281  2.151488  2.791451  2.469028             1  \n",
       "...          ...     ...       ...       ...       ...       ...           ...  \n",
       "11284    -117.96   2.292  0.388973  5.288563  5.976839  5.958263             0  \n",
       "11964    -117.43   0.978  0.810555  5.546044  6.234012  6.105506             0  \n",
       "5390     -118.38   2.221  0.141421  4.810405  5.498045  5.511316             0  \n",
       "860      -121.96   2.835  5.128284  0.262488  0.488467  1.104943             1  \n",
       "15795    -122.42   3.250  5.595605  0.696563  0.010000  1.233288             2  \n",
       "\n",
       "[16512 rows x 14 columns]"
      ]
     },
     "execution_count": 256,
     "metadata": {},
     "output_type": "execute_result"
    }
   ],
   "source": [
    "updated_train"
   ]
  },
  {
   "cell_type": "code",
   "execution_count": null,
   "metadata": {},
   "outputs": [],
   "source": [
    "def cluster_number(X):\n",
    "    t = X.copy()\n",
    "    "
   ]
  },
  {
   "cell_type": "code",
   "execution_count": 257,
   "metadata": {
    "scrolled": true
   },
   "outputs": [],
   "source": [
    "kfold = KFold(n_splits=5, shuffle=True, random_state=RANDOM_STATE)\n",
    "#train = updated_train.drop(cities.keys(), axis=1).copy()\n",
    "#train = updated_train.copy()\n",
    "\n",
    "scores_on_folds = []\n",
    "for train_ids, test_ids in kfold.split(updated_train): #kfold будет итеративно генерировать id train и test фолдов\n",
    "    \n",
    "    #разделяем выборку на train и test фолды\n",
    "    train_folds = train.iloc[train_ids] \n",
    "    test_folds = train.iloc[test_ids]\n",
    "\n",
    "    #создаем скейлер, алгоритм кластеризации и модель\n",
    "    scaler = StandardScaler()\n",
    "    kmeans = KMeans(n_clusters=20, random_state=RANDOM_STATE)\n",
    "    model = create_model()\n",
    "    \n",
    "    #your code here\n",
    "    scaled_train = scaler.fit_transform(train_folds)\n",
    "    scaled_test = scaler.transform(test_folds)\n",
    "    \n",
    "    train_clusters = kmeans.fit_predict(np.delete(scaled_train, 8, axis=1))\n",
    "    test_clusters = kmeans.predict(np.delete(scaled_test, 8, axis=1))\n",
    "    \n",
    "    scaled_train = np.append(scaled_train, train_clusters[:, None], axis=1)\n",
    "    #print(scaled_train.shape)\n",
    "    scaled_test = np.append(scaled_test, test_clusters[:, None], axis=1)\n",
    "\n",
    "    model.fit(X=np.delete(scaled_train, 8,axis=1), y=scaled_train[:,8])\n",
    "    predictions = model.predict(np.delete(scaled_test, 8,axis=1))\n",
    "    \n",
    "    score = mean_absolute_error(scaled_test[:,8], predictions)\n",
    "    scores_on_folds.append(score)"
   ]
  },
  {
   "cell_type": "code",
   "execution_count": 260,
   "metadata": {},
   "outputs": [
    {
     "name": "stdout",
     "output_type": "stream",
     "text": [
      "score_by_fold: [0.2935526709049891, 0.2848106047964843, 0.28238837206117473, 0.28159930450905546, 0.28343128858744565]\n",
      "cross-validation score: 0.29\n"
     ]
    }
   ],
   "source": [
    "print('score_by_fold: {}'.format(scores_on_folds))\n",
    "print('cross-validation score: {}'.format(round(np.mean(scores_on_folds), 2)))"
   ]
  },
  {
   "cell_type": "markdown",
   "metadata": {},
   "source": [
    "------------------------"
   ]
  },
  {
   "cell_type": "markdown",
   "metadata": {},
   "source": [
    "####  **Задание 5.** \n",
    "\n",
    "Оценивать качество на тестовой выборке стоит только в самом конце, не важно генерируем мы новые признаки или подбираем гиперпараметры модели. Если часто смотреть на метрики на тестовой выборке и делать по ним выводы, то можно переобучиться под тест. Оценка качества на тесте получится недостоверной, по ней нельзя сделать вывод о работе модели с реальными данными. \n",
    "\n",
    "1. Оцените качество модели на кросс-валидации на train на всех построенных в домашней работе признаках.\n",
    "2. Рассчитайте признаки из домашней работы для train и test выборок.\n",
    "3. Оцените качество на test, обучившись на train.\n",
    "\n",
    "Сравните качество на кросс-валидации и test. В форме укажите разницу между значением метрики на train и cv (train_score - cv_core).\n",
    "\n",
    "Используйте все рассчитанные раннее признаки."
   ]
  },
  {
   "cell_type": "code",
   "execution_count": 261,
   "metadata": {},
   "outputs": [],
   "source": [
    "def append_cluster(X):\n",
    "    t = X.copy()\n",
    "    scaler = StandardScaler()\n",
    "    kmeans = KMeans(n_clusters=20, random_state=RANDOM_STATE)\n",
    "    \n",
    "    scaled_X = scaler.fit_transform(t.drop('target', axis=1))\n",
    "    clusters = kmeans.fit_predict(scaled_X)\n",
    "    t['Cluster'] = clusters\n",
    "    \n",
    "    return t"
   ]
  },
  {
   "cell_type": "code",
   "execution_count": 262,
   "metadata": {},
   "outputs": [],
   "source": [
    "fully_updated_train = append_cluster(nearest_city(distances_to_cities(train)))\n",
    "fully_updated_test = append_cluster(nearest_city(distances_to_cities(test)))"
   ]
  },
  {
   "cell_type": "code",
   "execution_count": 265,
   "metadata": {},
   "outputs": [
    {
     "name": "stdout",
     "output_type": "stream",
     "text": [
      "-0.32\n"
     ]
    }
   ],
   "source": [
    "#your code here\n",
    "model = create_model()\n",
    "\n",
    "kfold = KFold(n_splits=5, shuffle=True, random_state=RANDOM_STATE)\n",
    "\n",
    "predictions = cross_val_score(model, X=fully_updated_train.drop('target', axis=1), y=fully_updated_train['target'], \n",
    "                              cv=kfold, scoring='neg_mean_absolute_error')\n",
    "\n",
    "score = round(np.mean(predictions), 2)\n",
    "\n",
    "print(score)"
   ]
  },
  {
   "cell_type": "code",
   "execution_count": 266,
   "metadata": {},
   "outputs": [
    {
     "name": "stdout",
     "output_type": "stream",
     "text": [
      "0.36\n"
     ]
    }
   ],
   "source": [
    "model = create_model()\n",
    "\n",
    "model.fit(X=fully_updated_train.drop('target', axis=1), y=fully_updated_train['target'])\n",
    "predicted = model.predict(fully_updated_test.drop('target', axis=1))\n",
    "\n",
    "score = mean_absolute_error(fully_updated_test['target'], predicted)\n",
    "print(round(score, 2))"
   ]
  },
  {
   "cell_type": "markdown",
   "metadata": {},
   "source": [
    "------------------------"
   ]
  },
  {
   "cell_type": "markdown",
   "metadata": {},
   "source": [
    "####  **Задание 6.** \n",
    "\n",
    "Придумайте еще минимум 2 признака или преобразования данных, рассчитайте их и оцените качество кросс-валидации. Ответ дайте в формате: описание признака/преобразования, почему он может работать, значение метрики.\n"
   ]
  },
  {
   "cell_type": "markdown",
   "metadata": {},
   "source": [
    "MedInc - медианный доход домохозяйства\n",
    "HouseAge - медианный возраст домов\n",
    "AveRooms - среднее число комнат\n",
    "AveBedrms - среднее число спален\n",
    "Population - число людей, проживающих в районе\n",
    "AveOccup - среднее число людей, проживающих в доме\n",
    "Latitude - широта, геогр. координаты\n",
    "Longitude - долгота, геогр. координаты"
   ]
  },
  {
   "cell_type": "code",
   "execution_count": null,
   "metadata": {},
   "outputs": [],
   "source": [
    "#your code here\n",
    "data.describe()"
   ]
  },
  {
   "cell_type": "code",
   "execution_count": null,
   "metadata": {},
   "outputs": [],
   "source": [
    "def mean_rooms(X):\n",
    "    t = X.copy()\n",
    "    h = []\n",
    "    t_mean = t['AveRooms'].mean()\n",
    "    for room in t['AveRooms']:\n",
    "        h.append((1 if t_mean <= room else 0))      \n",
    "    t['More than everage rooms'] = h\n",
    "    return t"
   ]
  },
  {
   "cell_type": "code",
   "execution_count": null,
   "metadata": {},
   "outputs": [],
   "source": [
    "def mean_bedrooms(X):\n",
    "    t = X.copy()\n",
    "    h = []\n",
    "    t_mean = t['AveBedrms'].mean()\n",
    "    for room in t['AveBedrms']:\n",
    "        h.append((1 if t_mean <= room else 0))\n",
    "    t['More than everage bedrooms'] = h\n",
    "    return t"
   ]
  },
  {
   "cell_type": "code",
   "execution_count": null,
   "metadata": {},
   "outputs": [],
   "source": [
    "def mean_house_age(X):\n",
    "    t = X.copy()\n",
    "    h = []\n",
    "    t_mean = t['HouseAge'].mean()\n",
    "    for age in t['HouseAge']:\n",
    "        h.append((1 if t_mean <= age else 0))\n",
    "    t['More than everage age'] = h\n",
    "    return t"
   ]
  },
  {
   "cell_type": "code",
   "execution_count": null,
   "metadata": {},
   "outputs": [],
   "source": [
    "def mean_occup(X):\n",
    "    t = X.copy()\n",
    "    h = []\n",
    "    t_mean = t['AveOccup'].mean()\n",
    "    for age in t['AveOccup']:\n",
    "        h.append((1 if t_mean <= age else 0))\n",
    "    t['More than everage occup'] = h\n",
    "    return t"
   ]
  },
  {
   "cell_type": "code",
   "execution_count": null,
   "metadata": {},
   "outputs": [],
   "source": [
    "def mean_pop(X):\n",
    "    t = X.copy()\n",
    "    h = []\n",
    "    t_mean = t['Population'].mean()\n",
    "    for pop in t['Population']:\n",
    "        h.append((1 if t_mean <= pop else 0))\n",
    "    t['More than everage pop'] = h\n",
    "    return t"
   ]
  },
  {
   "cell_type": "code",
   "execution_count": null,
   "metadata": {},
   "outputs": [],
   "source": [
    "def mean_med(X):\n",
    "    t = X.copy()\n",
    "    h = []\n",
    "    t_mean = t['MedInc'].mean()\n",
    "    for pop in t['MedInc']:\n",
    "        h.append((1 if t_mean <= pop else 0))\n",
    "    t['More than everage MedInc'] = h\n",
    "    return t"
   ]
  },
  {
   "cell_type": "code",
   "execution_count": null,
   "metadata": {},
   "outputs": [],
   "source": [
    "def max_med(X):\n",
    "    t = X.copy()\n",
    "    h = []\n",
    "    t_mean = t['MedInc'].max()\n",
    "    for pop in t['MedInc']:\n",
    "        h.append((1 if t_mean <= pop else 0))\n",
    "    t['More than everage MedInc'] = h\n",
    "    return t"
   ]
  },
  {
   "cell_type": "code",
   "execution_count": null,
   "metadata": {},
   "outputs": [],
   "source": [
    "from sklearn.cluster import DBSCAN\n",
    "\n",
    "\n",
    "def append_DBSCAN_cluster(X):\n",
    "    t = X.copy()\n",
    "    scaler = StandardScaler()\n",
    "    db = DBSCAN()\n",
    "    \n",
    "    scaled_X = scaler.fit_transform(t.drop('target', axis=1))\n",
    "    clusters = db.fit_predict(scaled_X)\n",
    "    t['DBSCAN cluster'] = clusters\n",
    "    \n",
    "    return t"
   ]
  },
  {
   "cell_type": "code",
   "execution_count": null,
   "metadata": {},
   "outputs": [],
   "source": [
    "def mean_of_all_rooms(X):\n",
    "    t = X.copy()\n",
    "    h = []\n",
    "    t_mean_rooms = t['AveRooms'].mean()\n",
    "    t_mean_bedrooms = t['AveBedrms'].mean()\n",
    "    for i in range(len(t)):\n",
    "        p = data[['AveRooms','AveBedrms']].iloc[i]\n",
    "        room = p[0]\n",
    "        bedroom = p[1]\n",
    "        h.append((1 if (t_mean_rooms <= room and t_mean_bedrooms <= bedroom) else 0))\n",
    "    t['More than everage of all rooms'] = h\n",
    "    return t"
   ]
  },
  {
   "cell_type": "code",
   "execution_count": null,
   "metadata": {},
   "outputs": [],
   "source": [
    "#u = append_DBSCAN_cluster(data)\n",
    "u['DBSCAN cluster'].unique()"
   ]
  },
  {
   "cell_type": "code",
   "execution_count": null,
   "metadata": {},
   "outputs": [],
   "source": [
    "model = create_model()\n",
    "\n",
    "kfold = KFold(n_splits=5, shuffle=True, random_state=RANDOM_STATE)\n",
    "\n",
    "predictions = cross_val_score(model, X=fully_updated_train.drop('target', axis=1), y=fully_updated_train['target'], \n",
    "                              cv=kfold, scoring='neg_mean_absolute_error')\n",
    "\n",
    "score = round(np.mean(predictions), 5)\n",
    "\n",
    "print(score)"
   ]
  },
  {
   "cell_type": "code",
   "execution_count": 273,
   "metadata": {
    "scrolled": true
   },
   "outputs": [
    {
     "name": "stdout",
     "output_type": "stream",
     "text": [
      "-0.32\n"
     ]
    }
   ],
   "source": [
    "model = create_model()\n",
    "\n",
    "kfold = KFold(n_splits=5, shuffle=True, random_state=RANDOM_STATE)\n",
    "\n",
    "rooms_train = mean_rooms(fully_updated_train)\n",
    "#rooms_test = mean_rooms(fully_updated_test)\n",
    "\n",
    "predictions = cross_val_score(model, X=rooms_train.drop('target', axis=1), y=rooms_train['target'], \n",
    "                              cv=kfold, scoring='neg_mean_absolute_error')\n",
    "\n",
    "score = round(np.mean(predictions), 4)\n",
    "\n",
    "print(score)"
   ]
  },
  {
   "cell_type": "code",
   "execution_count": null,
   "metadata": {},
   "outputs": [],
   "source": [
    "model = create_model()\n",
    "\n",
    "kfold = KFold(n_splits=5, shuffle=True, random_state=RANDOM_STATE)\n",
    "\n",
    "bedrooms_train = mean_bedrooms(fully_updated_train)\n",
    "\n",
    "\n",
    "predictions = cross_val_score(model, X=bedrooms_train.drop('target', axis=1), y=bedrooms_train['target'], \n",
    "                              cv=kfold, scoring='neg_mean_absolute_error')\n",
    "\n",
    "score = round(np.mean(predictions), 5)\n",
    "\n",
    "print(score)"
   ]
  },
  {
   "cell_type": "code",
   "execution_count": null,
   "metadata": {},
   "outputs": [],
   "source": [
    "model = create_model()\n",
    "\n",
    "kfold = KFold(n_splits=5, shuffle=True, random_state=RANDOM_STATE)\n",
    "\n",
    "age_train = mean_house_age(fully_updated_train)\n",
    "\n",
    "\n",
    "predictions = cross_val_score(model, X=age_train.drop('target', axis=1), y=age_train['target'], \n",
    "                              cv=kfold, scoring='neg_mean_absolute_error')\n",
    "\n",
    "score = round(np.mean(predictions), 5)\n",
    "\n",
    "print(score)"
   ]
  },
  {
   "cell_type": "code",
   "execution_count": null,
   "metadata": {},
   "outputs": [],
   "source": [
    "model = create_model()\n",
    "\n",
    "kfold = KFold(n_splits=5, shuffle=True, random_state=RANDOM_STATE)\n",
    "\n",
    "occup_train = mean_occup(fully_updated_train)\n",
    "\n",
    "\n",
    "predictions = cross_val_score(model, X=occup_train.drop('target', axis=1), y=occup_train['target'], \n",
    "                              cv=kfold, scoring='neg_mean_absolute_error')\n",
    "\n",
    "score = round(np.mean(predictions), 5)\n",
    "\n",
    "print(score)"
   ]
  },
  {
   "cell_type": "code",
   "execution_count": null,
   "metadata": {},
   "outputs": [],
   "source": [
    "model = create_model()\n",
    "\n",
    "kfold = KFold(n_splits=5, shuffle=True, random_state=RANDOM_STATE)\n",
    "\n",
    "pop_train = mean_pop(fully_updated_train)\n",
    "\n",
    "\n",
    "predictions = cross_val_score(model, X=pop_train.drop('target', axis=1), y=pop_train['target'], \n",
    "                              cv=kfold, scoring='neg_mean_absolute_error')\n",
    "\n",
    "score = round(np.mean(predictions), 5)\n",
    "\n",
    "print(score)"
   ]
  },
  {
   "cell_type": "code",
   "execution_count": null,
   "metadata": {},
   "outputs": [],
   "source": [
    "model = create_model()\n",
    "\n",
    "kfold = KFold(n_splits=5, shuffle=True, random_state=RANDOM_STATE)\n",
    "\n",
    "all_train = mean_of_all_rooms(fully_updated_train)\n",
    "\n",
    "\n",
    "predictions = cross_val_score(model, X=all_train.drop('target', axis=1), y=all_train['target'], \n",
    "                              cv=kfold, scoring='neg_mean_absolute_error')\n",
    "\n",
    "score = round(np.mean(predictions), 5)\n",
    "\n",
    "print(score)"
   ]
  },
  {
   "cell_type": "code",
   "execution_count": 270,
   "metadata": {},
   "outputs": [
    {
     "name": "stdout",
     "output_type": "stream",
     "text": [
      "-0.318\n"
     ]
    }
   ],
   "source": [
    "model = create_model()\n",
    "\n",
    "kfold = KFold(n_splits=5, shuffle=True, random_state=RANDOM_STATE)\n",
    "\n",
    "med_train = mean_med(fully_updated_train)\n",
    "\n",
    "\n",
    "predictions = cross_val_score(model, X=med_train.drop('target', axis=1), y=med_train['target'], \n",
    "                              cv=kfold, scoring='neg_mean_absolute_error')\n",
    "\n",
    "score = round(np.mean(predictions), 3)\n",
    "\n",
    "print(score)"
   ]
  },
  {
   "cell_type": "code",
   "execution_count": null,
   "metadata": {},
   "outputs": [],
   "source": [
    "model = create_model()\n",
    "\n",
    "kfold = KFold(n_splits=5, shuffle=True, random_state=RANDOM_STATE)\n",
    "\n",
    "med_train = max_med(fully_updated_train)\n",
    "\n",
    "\n",
    "predictions = cross_val_score(model, X=med_train.drop('target', axis=1), y=med_train['target'], \n",
    "                              cv=kfold, scoring='neg_mean_absolute_error')\n",
    "\n",
    "score = round(np.mean(predictions), 5)\n",
    "\n",
    "print(score)"
   ]
  },
  {
   "cell_type": "code",
   "execution_count": null,
   "metadata": {},
   "outputs": [],
   "source": [
    "model = create_model()\n",
    "\n",
    "kfold = KFold(n_splits=5, shuffle=True, random_state=RANDOM_STATE)\n",
    "\n",
    "db_train = append_DBSCAN_cluster(fully_updated_train)\n",
    "\n",
    "\n",
    "predictions = cross_val_score(model, X=db_train.drop('target', axis=1), y=db_train['target'], \n",
    "                              cv=kfold, scoring='neg_mean_absolute_error')\n",
    "\n",
    "score = round(np.mean(predictions), 5)\n",
    "\n",
    "print(score)"
   ]
  },
  {
   "cell_type": "code",
   "execution_count": 267,
   "metadata": {},
   "outputs": [
    {
     "data": {
      "text/plain": [
       "array([[<matplotlib.axes._subplots.AxesSubplot object at 0x000001CD9FF78648>,\n",
       "        <matplotlib.axes._subplots.AxesSubplot object at 0x000001CD9FF866C8>,\n",
       "        <matplotlib.axes._subplots.AxesSubplot object at 0x000001CD9FF4B4C8>],\n",
       "       [<matplotlib.axes._subplots.AxesSubplot object at 0x000001CDA05FE5C8>,\n",
       "        <matplotlib.axes._subplots.AxesSubplot object at 0x000001CDA0630948>,\n",
       "        <matplotlib.axes._subplots.AxesSubplot object at 0x000001CDA0660E48>],\n",
       "       [<matplotlib.axes._subplots.AxesSubplot object at 0x000001CDA06996C8>,\n",
       "        <matplotlib.axes._subplots.AxesSubplot object at 0x000001CDA06C8F08>,\n",
       "        <matplotlib.axes._subplots.AxesSubplot object at 0x000001CDA06CECC8>]],\n",
       "      dtype=object)"
      ]
     },
     "execution_count": 267,
     "metadata": {},
     "output_type": "execute_result"
    },
    {
     "data": {
      "image/png": "[encoded data removed]",
      "text/plain": [
       "<Figure size 432x288 with 9 Axes>"
      ]
     },
     "metadata": {
      "needs_background": "light"
     },
     "output_type": "display_data"
    }
   ],
   "source": [
    "data.hist(bins=100)"
   ]
  },
  {
   "cell_type": "code",
   "execution_count": 268,
   "metadata": {},
   "outputs": [
    {
     "data": {
      "text/html": [
       "<div>\n",
       "<style scoped>\n",
       "    .dataframe tbody tr th:only-of-type {\n",
       "        vertical-align: middle;\n",
       "    }\n",
       "\n",
       "    .dataframe tbody tr th {\n",
       "        vertical-align: top;\n",
       "    }\n",
       "\n",
       "    .dataframe thead th {\n",
       "        text-align: right;\n",
       "    }\n",
       "</style>\n",
       "<table border=\"1\" class=\"dataframe\">\n",
       "  <thead>\n",
       "    <tr style=\"text-align: right;\">\n",
       "      <th></th>\n",
       "      <th>MedInc</th>\n",
       "      <th>HouseAge</th>\n",
       "      <th>AveRooms</th>\n",
       "      <th>AveBedrms</th>\n",
       "      <th>Population</th>\n",
       "      <th>AveOccup</th>\n",
       "      <th>Latitude</th>\n",
       "      <th>Longitude</th>\n",
       "      <th>target</th>\n",
       "    </tr>\n",
       "  </thead>\n",
       "  <tbody>\n",
       "    <tr>\n",
       "      <th>MedInc</th>\n",
       "      <td>1.000000</td>\n",
       "      <td>-0.119034</td>\n",
       "      <td>0.326895</td>\n",
       "      <td>-0.062040</td>\n",
       "      <td>0.004834</td>\n",
       "      <td>0.018766</td>\n",
       "      <td>-0.079809</td>\n",
       "      <td>-0.015176</td>\n",
       "      <td>0.688075</td>\n",
       "    </tr>\n",
       "    <tr>\n",
       "      <th>HouseAge</th>\n",
       "      <td>-0.119034</td>\n",
       "      <td>1.000000</td>\n",
       "      <td>-0.153277</td>\n",
       "      <td>-0.077747</td>\n",
       "      <td>-0.296244</td>\n",
       "      <td>0.013191</td>\n",
       "      <td>0.011173</td>\n",
       "      <td>-0.108197</td>\n",
       "      <td>0.105623</td>\n",
       "    </tr>\n",
       "    <tr>\n",
       "      <th>AveRooms</th>\n",
       "      <td>0.326895</td>\n",
       "      <td>-0.153277</td>\n",
       "      <td>1.000000</td>\n",
       "      <td>0.847621</td>\n",
       "      <td>-0.072213</td>\n",
       "      <td>-0.004852</td>\n",
       "      <td>0.106389</td>\n",
       "      <td>-0.027540</td>\n",
       "      <td>0.151948</td>\n",
       "    </tr>\n",
       "    <tr>\n",
       "      <th>AveBedrms</th>\n",
       "      <td>-0.062040</td>\n",
       "      <td>-0.077747</td>\n",
       "      <td>0.847621</td>\n",
       "      <td>1.000000</td>\n",
       "      <td>-0.066197</td>\n",
       "      <td>-0.006181</td>\n",
       "      <td>0.069721</td>\n",
       "      <td>0.013344</td>\n",
       "      <td>-0.046701</td>\n",
       "    </tr>\n",
       "    <tr>\n",
       "      <th>Population</th>\n",
       "      <td>0.004834</td>\n",
       "      <td>-0.296244</td>\n",
       "      <td>-0.072213</td>\n",
       "      <td>-0.066197</td>\n",
       "      <td>1.000000</td>\n",
       "      <td>0.069863</td>\n",
       "      <td>-0.108785</td>\n",
       "      <td>0.099773</td>\n",
       "      <td>-0.024650</td>\n",
       "    </tr>\n",
       "    <tr>\n",
       "      <th>AveOccup</th>\n",
       "      <td>0.018766</td>\n",
       "      <td>0.013191</td>\n",
       "      <td>-0.004852</td>\n",
       "      <td>-0.006181</td>\n",
       "      <td>0.069863</td>\n",
       "      <td>1.000000</td>\n",
       "      <td>0.002366</td>\n",
       "      <td>0.002476</td>\n",
       "      <td>-0.023737</td>\n",
       "    </tr>\n",
       "    <tr>\n",
       "      <th>Latitude</th>\n",
       "      <td>-0.079809</td>\n",
       "      <td>0.011173</td>\n",
       "      <td>0.106389</td>\n",
       "      <td>0.069721</td>\n",
       "      <td>-0.108785</td>\n",
       "      <td>0.002366</td>\n",
       "      <td>1.000000</td>\n",
       "      <td>-0.924664</td>\n",
       "      <td>-0.144160</td>\n",
       "    </tr>\n",
       "    <tr>\n",
       "      <th>Longitude</th>\n",
       "      <td>-0.015176</td>\n",
       "      <td>-0.108197</td>\n",
       "      <td>-0.027540</td>\n",
       "      <td>0.013344</td>\n",
       "      <td>0.099773</td>\n",
       "      <td>0.002476</td>\n",
       "      <td>-0.924664</td>\n",
       "      <td>1.000000</td>\n",
       "      <td>-0.045967</td>\n",
       "    </tr>\n",
       "    <tr>\n",
       "      <th>target</th>\n",
       "      <td>0.688075</td>\n",
       "      <td>0.105623</td>\n",
       "      <td>0.151948</td>\n",
       "      <td>-0.046701</td>\n",
       "      <td>-0.024650</td>\n",
       "      <td>-0.023737</td>\n",
       "      <td>-0.144160</td>\n",
       "      <td>-0.045967</td>\n",
       "      <td>1.000000</td>\n",
       "    </tr>\n",
       "  </tbody>\n",
       "</table>\n",
       "</div>"
      ],
      "text/plain": [
       "              MedInc  HouseAge  AveRooms  AveBedrms  Population  AveOccup  \\\n",
       "MedInc      1.000000 -0.119034  0.326895  -0.062040    0.004834  0.018766   \n",
       "HouseAge   -0.119034  1.000000 -0.153277  -0.077747   -0.296244  0.013191   \n",
       "AveRooms    0.326895 -0.153277  1.000000   0.847621   -0.072213 -0.004852   \n",
       "AveBedrms  -0.062040 -0.077747  0.847621   1.000000   -0.066197 -0.006181   \n",
       "Population  0.004834 -0.296244 -0.072213  -0.066197    1.000000  0.069863   \n",
       "AveOccup    0.018766  0.013191 -0.004852  -0.006181    0.069863  1.000000   \n",
       "Latitude   -0.079809  0.011173  0.106389   0.069721   -0.108785  0.002366   \n",
       "Longitude  -0.015176 -0.108197 -0.027540   0.013344    0.099773  0.002476   \n",
       "target      0.688075  0.105623  0.151948  -0.046701   -0.024650 -0.023737   \n",
       "\n",
       "            Latitude  Longitude    target  \n",
       "MedInc     -0.079809  -0.015176  0.688075  \n",
       "HouseAge    0.011173  -0.108197  0.105623  \n",
       "AveRooms    0.106389  -0.027540  0.151948  \n",
       "AveBedrms   0.069721   0.013344 -0.046701  \n",
       "Population -0.108785   0.099773 -0.024650  \n",
       "AveOccup    0.002366   0.002476 -0.023737  \n",
       "Latitude    1.000000  -0.924664 -0.144160  \n",
       "Longitude  -0.924664   1.000000 -0.045967  \n",
       "target     -0.144160  -0.045967  1.000000  "
      ]
     },
     "execution_count": 268,
     "metadata": {},
     "output_type": "execute_result"
    }
   ],
   "source": [
    "data.corr()"
   ]
  },
  {
   "cell_type": "code",
   "execution_count": null,
   "metadata": {},
   "outputs": [],
   "source": []
  },
  {
   "cell_type": "code",
   "execution_count": null,
   "metadata": {},
   "outputs": [],
   "source": []
  },
  {
   "cell_type": "code",
   "execution_count": null,
   "metadata": {},
   "outputs": [],
   "source": []
  },
  {
   "cell_type": "code",
   "execution_count": null,
   "metadata": {},
   "outputs": [],
   "source": []
  },
  {
   "cell_type": "code",
   "execution_count": null,
   "metadata": {},
   "outputs": [],
   "source": []
  },
  {
   "cell_type": "code",
   "execution_count": null,
   "metadata": {},
   "outputs": [],
   "source": []
  }
 ],
 "metadata": {
  "kernelspec": {
   "display_name": "Python 3",
   "language": "python",
   "name": "python3"
  },
  "language_info": {
   "codemirror_mode": {
    "name": "ipython",
    "version": 3
   },
   "file_extension": ".py",
   "mimetype": "text/x-python",
   "name": "python",
   "nbconvert_exporter": "python",
   "pygments_lexer": "ipython3",
   "version": "3.7.6"
  }
 },
 "nbformat": 4,
 "nbformat_minor": 4
}
