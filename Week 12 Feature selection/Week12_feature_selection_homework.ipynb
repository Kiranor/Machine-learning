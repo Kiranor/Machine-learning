{
 "cells": [
  {
   "cell_type": "markdown",
   "metadata": {},
   "source": [
    "## Неделя 12. Домашнее задание по отбору признаков."
   ]
  },
  {
   "cell_type": "markdown",
   "metadata": {},
   "source": [
    "Гугл форма для ответов: https://forms.gle/NFq4qYr4fKFUdhdz7"
   ]
  },
  {
   "cell_type": "markdown",
   "metadata": {},
   "source": [
    "### Теоретические вопросы:\n",
    "1) Какая группа методов отбора признаков является наиболее вычислительно затратной?\n",
    "    1. Filter methods (методы фильтрации)\n",
    "    2. Embedded methods (встроенные методы)\n",
    "    3. Wrapper methods (методы обёртки)\n",
    "    \n",
    "2) Какая группа методов отбора признаков используется ДО обучения модели?\n",
    "    1. Filter methods (методы фильтрации)\n",
    "    2. Embedded methods (встроенные методы)\n",
    "    3. Wrapper methods (методы обёртки)\n",
    "    \n",
    "3) Какой из нижеперечисленных методов отбора признаков относится к методам фильтрации?\n",
    "    1. Recursive feature elimination\n",
    "    2. LASSO\n",
    "    3. Метод на основе chi-squared\n",
    "    \n",
    "4) Какой из нижеперечисленных методов отбора признаков относится к встроенным методам?\n",
    "    1. Recursive feature elimination\n",
    "    2. LASSO\n",
    "    3. Метод на основе chi-squared\n",
    "    \n",
    "5) Какой из нижеперечисленных методов отбора признаков относится к методам обёртки?\n",
    "    1. Recursive feature elimination\n",
    "    2. LASSO\n",
    "    3. Метод на основе chi-squared"
   ]
  },
  {
   "cell_type": "markdown",
   "metadata": {},
   "source": [
    "### Практическая часть."
   ]
  },
  {
   "cell_type": "code",
   "execution_count": 34,
   "metadata": {},
   "outputs": [],
   "source": [
    "import pandas as pd\n",
    "import numpy as np\n",
    "\n",
    "from sklearn.tree import DecisionTreeClassifier\n",
    "from sklearn.feature_selection import SelectKBest, chi2, RFE\n",
    "\n",
    "import seaborn as sns"
   ]
  },
  {
   "cell_type": "markdown",
   "metadata": {},
   "source": [
    "**Описание контекста задачи**\n",
    "В некоторой компании занимающейся услугами мобильной связи для клиентов доступны дополнительные платные услуги A, B и C,которые взаимоисключают друг друга. Руководство компании хочет построить модель, которая будет для каждого клиента определять наиболее подходящую ему услугу для таргетированной рекламы этих услуг внутри компании.\n",
    "**Описание датасета**\n",
    "Каждая строка в датасете определяет одного клиента компани и дополнительную услугу.\n",
    "В датасете имеются следующие колонки:\n",
    "- age: возраст клиента\n",
    "- No: номер договора\n",
    "- month_from_start: количество месяцев с даты заключения договора\n",
    "- base_cost: стоимость основного тарифа в рублях\n",
    "- block_count: количество блокировок\n",
    "- is_used_app: использует ли мобильное приложение\n",
    "- month_incall_mean: среднее количество входящих звонков в месяц\n",
    "- month_outcall_mean: среднее количество исходящих звонков в месяц\n",
    "- add_service: дополнительная платная услуга"
   ]
  },
  {
   "cell_type": "code",
   "execution_count": 2,
   "metadata": {},
   "outputs": [],
   "source": [
    "df = pd.read_csv('mobile_service.csv')"
   ]
  },
  {
   "cell_type": "code",
   "execution_count": 9,
   "metadata": {},
   "outputs": [
    {
     "data": {
      "text/html": [
       "<div>\n",
       "<style scoped>\n",
       "    .dataframe tbody tr th:only-of-type {\n",
       "        vertical-align: middle;\n",
       "    }\n",
       "\n",
       "    .dataframe tbody tr th {\n",
       "        vertical-align: top;\n",
       "    }\n",
       "\n",
       "    .dataframe thead th {\n",
       "        text-align: right;\n",
       "    }\n",
       "</style>\n",
       "<table border=\"1\" class=\"dataframe\">\n",
       "  <thead>\n",
       "    <tr style=\"text-align: right;\">\n",
       "      <th></th>\n",
       "      <th>age</th>\n",
       "      <th>No</th>\n",
       "      <th>month_from_start</th>\n",
       "      <th>base_cost</th>\n",
       "      <th>block_count</th>\n",
       "      <th>is_used_app</th>\n",
       "      <th>month_incall_mean</th>\n",
       "      <th>month_outcall_mean</th>\n",
       "      <th>add_service</th>\n",
       "    </tr>\n",
       "  </thead>\n",
       "  <tbody>\n",
       "    <tr>\n",
       "      <th>0</th>\n",
       "      <td>35.0</td>\n",
       "      <td>768371537</td>\n",
       "      <td>42</td>\n",
       "      <td>220</td>\n",
       "      <td>1</td>\n",
       "      <td>0</td>\n",
       "      <td>340.235037</td>\n",
       "      <td>67.000000</td>\n",
       "      <td>2</td>\n",
       "    </tr>\n",
       "    <tr>\n",
       "      <th>1</th>\n",
       "      <td>40.0</td>\n",
       "      <td>38583605</td>\n",
       "      <td>17</td>\n",
       "      <td>190</td>\n",
       "      <td>4</td>\n",
       "      <td>0</td>\n",
       "      <td>62.524493</td>\n",
       "      <td>182.524493</td>\n",
       "      <td>3</td>\n",
       "    </tr>\n",
       "    <tr>\n",
       "      <th>2</th>\n",
       "      <td>40.0</td>\n",
       "      <td>769467030</td>\n",
       "      <td>56</td>\n",
       "      <td>350</td>\n",
       "      <td>1</td>\n",
       "      <td>0</td>\n",
       "      <td>354.886642</td>\n",
       "      <td>408.886642</td>\n",
       "      <td>2</td>\n",
       "    </tr>\n",
       "    <tr>\n",
       "      <th>3</th>\n",
       "      <td>41.0</td>\n",
       "      <td>91661755</td>\n",
       "      <td>26</td>\n",
       "      <td>220</td>\n",
       "      <td>4</td>\n",
       "      <td>0</td>\n",
       "      <td>311.985570</td>\n",
       "      <td>326.985570</td>\n",
       "      <td>3</td>\n",
       "    </tr>\n",
       "    <tr>\n",
       "      <th>4</th>\n",
       "      <td>52.0</td>\n",
       "      <td>5615024</td>\n",
       "      <td>14</td>\n",
       "      <td>220</td>\n",
       "      <td>3</td>\n",
       "      <td>0</td>\n",
       "      <td>421.616580</td>\n",
       "      <td>15.000000</td>\n",
       "      <td>2</td>\n",
       "    </tr>\n",
       "    <tr>\n",
       "      <th>...</th>\n",
       "      <td>...</td>\n",
       "      <td>...</td>\n",
       "      <td>...</td>\n",
       "      <td>...</td>\n",
       "      <td>...</td>\n",
       "      <td>...</td>\n",
       "      <td>...</td>\n",
       "      <td>...</td>\n",
       "      <td>...</td>\n",
       "    </tr>\n",
       "    <tr>\n",
       "      <th>1295</th>\n",
       "      <td>42.0</td>\n",
       "      <td>855036168</td>\n",
       "      <td>44</td>\n",
       "      <td>350</td>\n",
       "      <td>3</td>\n",
       "      <td>0</td>\n",
       "      <td>208.059154</td>\n",
       "      <td>528.118308</td>\n",
       "      <td>2</td>\n",
       "    </tr>\n",
       "    <tr>\n",
       "      <th>1296</th>\n",
       "      <td>32.0</td>\n",
       "      <td>28467625</td>\n",
       "      <td>38</td>\n",
       "      <td>350</td>\n",
       "      <td>0</td>\n",
       "      <td>0</td>\n",
       "      <td>87.673514</td>\n",
       "      <td>235.673514</td>\n",
       "      <td>2</td>\n",
       "    </tr>\n",
       "    <tr>\n",
       "      <th>1297</th>\n",
       "      <td>56.0</td>\n",
       "      <td>425421555</td>\n",
       "      <td>59</td>\n",
       "      <td>350</td>\n",
       "      <td>2</td>\n",
       "      <td>0</td>\n",
       "      <td>30.000000</td>\n",
       "      <td>52.000000</td>\n",
       "      <td>3</td>\n",
       "    </tr>\n",
       "    <tr>\n",
       "      <th>1298</th>\n",
       "      <td>34.0</td>\n",
       "      <td>111126473</td>\n",
       "      <td>32</td>\n",
       "      <td>190</td>\n",
       "      <td>0</td>\n",
       "      <td>0</td>\n",
       "      <td>237.146967</td>\n",
       "      <td>241.146967</td>\n",
       "      <td>3</td>\n",
       "    </tr>\n",
       "    <tr>\n",
       "      <th>1299</th>\n",
       "      <td>24.0</td>\n",
       "      <td>183044588</td>\n",
       "      <td>5</td>\n",
       "      <td>350</td>\n",
       "      <td>2</td>\n",
       "      <td>0</td>\n",
       "      <td>20.000000</td>\n",
       "      <td>88.506688</td>\n",
       "      <td>2</td>\n",
       "    </tr>\n",
       "  </tbody>\n",
       "</table>\n",
       "<p>1300 rows × 9 columns</p>\n",
       "</div>"
      ],
      "text/plain": [
       "       age         No  month_from_start  base_cost  block_count  is_used_app  \\\n",
       "0     35.0  768371537                42        220            1            0   \n",
       "1     40.0   38583605                17        190            4            0   \n",
       "2     40.0  769467030                56        350            1            0   \n",
       "3     41.0   91661755                26        220            4            0   \n",
       "4     52.0    5615024                14        220            3            0   \n",
       "...    ...        ...               ...        ...          ...          ...   \n",
       "1295  42.0  855036168                44        350            3            0   \n",
       "1296  32.0   28467625                38        350            0            0   \n",
       "1297  56.0  425421555                59        350            2            0   \n",
       "1298  34.0  111126473                32        190            0            0   \n",
       "1299  24.0  183044588                 5        350            2            0   \n",
       "\n",
       "      month_incall_mean  month_outcall_mean  add_service  \n",
       "0            340.235037           67.000000            2  \n",
       "1             62.524493          182.524493            3  \n",
       "2            354.886642          408.886642            2  \n",
       "3            311.985570          326.985570            3  \n",
       "4            421.616580           15.000000            2  \n",
       "...                 ...                 ...          ...  \n",
       "1295         208.059154          528.118308            2  \n",
       "1296          87.673514          235.673514            2  \n",
       "1297          30.000000           52.000000            3  \n",
       "1298         237.146967          241.146967            3  \n",
       "1299          20.000000           88.506688            2  \n",
       "\n",
       "[1300 rows x 9 columns]"
      ]
     },
     "execution_count": 9,
     "metadata": {},
     "output_type": "execute_result"
    }
   ],
   "source": [
    "df"
   ]
  },
  {
   "cell_type": "code",
   "execution_count": 4,
   "metadata": {},
   "outputs": [],
   "source": [
    "X = df.drop('add_service', axis=1).copy()\n",
    "y = df['add_service'].copy()"
   ]
  },
  {
   "cell_type": "markdown",
   "metadata": {},
   "source": [
    "**Вопрос 6.** Какие два признака будут исключены из датасета если использовать метод отбора признаков, основанный на статистике хи-квадрат c конечным количеством признаков 6 (9 всего - 1 таргет - 2 признака)? В ответе выберите нужные признаки."
   ]
  },
  {
   "cell_type": "code",
   "execution_count": 12,
   "metadata": {},
   "outputs": [
    {
     "data": {
      "text/plain": [
       "SelectKBest(k=6, score_func=<function chi2 at 0x00000179EDFBD3A8>)"
      ]
     },
     "execution_count": 12,
     "metadata": {},
     "output_type": "execute_result"
    }
   ],
   "source": [
    "# код тут\n",
    "sel_k_best = SelectKWo(chi2, k=6)\n",
    "sel_k_best.fit(X, y)"
   ]
  },
  {
   "cell_type": "code",
   "execution_count": 13,
   "metadata": {},
   "outputs": [],
   "source": [
    "X_selected = pd.DataFrame(sel_k_best.transform(X),\n",
    "                    columns=[a for a,b in zip(df.columns,sel_k_best.get_support()) if b])"
   ]
  },
  {
   "cell_type": "code",
   "execution_count": 18,
   "metadata": {},
   "outputs": [
    {
     "data": {
      "text/plain": [
       "{'No',\n",
       " 'age',\n",
       " 'is_used_app',\n",
       " 'month_from_start',\n",
       " 'month_incall_mean',\n",
       " 'month_outcall_mean'}"
      ]
     },
     "execution_count": 18,
     "metadata": {},
     "output_type": "execute_result"
    }
   ],
   "source": [
    "chi2_cols = X_selected.columns\n",
    "set(chi2_cols)"
   ]
  },
  {
   "cell_type": "code",
   "execution_count": 30,
   "metadata": {},
   "outputs": [
    {
     "data": {
      "text/plain": [
       "{'No',\n",
       " 'add_service',\n",
       " 'age',\n",
       " 'base_cost',\n",
       " 'block_count',\n",
       " 'is_used_app',\n",
       " 'month_from_start',\n",
       " 'month_incall_mean',\n",
       " 'month_outcall_mean'}"
      ]
     },
     "execution_count": 30,
     "metadata": {},
     "output_type": "execute_result"
    }
   ],
   "source": [
    "set(df.columns)"
   ]
  },
  {
   "cell_type": "markdown",
   "metadata": {},
   "source": [
    "base_cost, block_count"
   ]
  },
  {
   "cell_type": "markdown",
   "metadata": {},
   "source": [
    "**Вопрос 7.** Какие два признака будут присутствовать в датасете если использовать метод отбора признаков RFE, с параметрами estimator=sklearn.tree.DecisionTreeClassifier и step=1 c конечным количеством признаков 3 с различными random_state? В ответе выберите нужные признаки."
   ]
  },
  {
   "cell_type": "code",
   "execution_count": 46,
   "metadata": {},
   "outputs": [],
   "source": [
    "# код тут\n",
    "random = [1,2,30]\n",
    "d = []\n",
    "for r in random:       \n",
    "    rfe = RFE(DecisionTreeClassifier(random_state=r), step=1, n_features_to_select=2)\n",
    "    rfe.fit(X, y)\n",
    "    X_selected = pd.DataFrame(rfe.transform(X),\n",
    "                    columns=[a for a,b in zip(df.columns,rfe.get_support()) if b])\n",
    "    rfe_w_cols_lreg = X_selected.columns\n",
    "    d.append(rfe_w_cols_lreg)"
   ]
  },
  {
   "cell_type": "code",
   "execution_count": 47,
   "metadata": {},
   "outputs": [
    {
     "data": {
      "text/plain": [
       "[Index(['age', 'month_outcall_mean'], dtype='object'),\n",
       " Index(['age', 'month_outcall_mean'], dtype='object'),\n",
       " Index(['age', 'month_outcall_mean'], dtype='object')]"
      ]
     },
     "execution_count": 47,
     "metadata": {},
     "output_type": "execute_result"
    }
   ],
   "source": [
    "d"
   ]
  },
  {
   "cell_type": "markdown",
   "metadata": {},
   "source": [
    "**Вопрос 8.** Какие два признака в датасете имеют коэффициент корреляции > 0.5 (между собой, не с таргетом)? В ответе выберите нужные признаки."
   ]
  },
  {
   "cell_type": "code",
   "execution_count": 48,
   "metadata": {
    "scrolled": true
   },
   "outputs": [
    {
     "data": {
      "text/html": [
       "<div>\n",
       "<style scoped>\n",
       "    .dataframe tbody tr th:only-of-type {\n",
       "        vertical-align: middle;\n",
       "    }\n",
       "\n",
       "    .dataframe tbody tr th {\n",
       "        vertical-align: top;\n",
       "    }\n",
       "\n",
       "    .dataframe thead th {\n",
       "        text-align: right;\n",
       "    }\n",
       "</style>\n",
       "<table border=\"1\" class=\"dataframe\">\n",
       "  <thead>\n",
       "    <tr style=\"text-align: right;\">\n",
       "      <th></th>\n",
       "      <th>age</th>\n",
       "      <th>No</th>\n",
       "      <th>month_from_start</th>\n",
       "      <th>base_cost</th>\n",
       "      <th>block_count</th>\n",
       "      <th>is_used_app</th>\n",
       "      <th>month_incall_mean</th>\n",
       "      <th>month_outcall_mean</th>\n",
       "      <th>add_service</th>\n",
       "    </tr>\n",
       "  </thead>\n",
       "  <tbody>\n",
       "    <tr>\n",
       "      <th>age</th>\n",
       "      <td>1.000000</td>\n",
       "      <td>0.020843</td>\n",
       "      <td>0.016129</td>\n",
       "      <td>-0.005241</td>\n",
       "      <td>0.011103</td>\n",
       "      <td>0.046018</td>\n",
       "      <td>-0.044111</td>\n",
       "      <td>-0.053912</td>\n",
       "      <td>0.521775</td>\n",
       "    </tr>\n",
       "    <tr>\n",
       "      <th>No</th>\n",
       "      <td>0.020843</td>\n",
       "      <td>1.000000</td>\n",
       "      <td>-0.075299</td>\n",
       "      <td>0.040723</td>\n",
       "      <td>-0.026112</td>\n",
       "      <td>-0.022328</td>\n",
       "      <td>0.007470</td>\n",
       "      <td>0.005794</td>\n",
       "      <td>-0.000647</td>\n",
       "    </tr>\n",
       "    <tr>\n",
       "      <th>month_from_start</th>\n",
       "      <td>0.016129</td>\n",
       "      <td>-0.075299</td>\n",
       "      <td>1.000000</td>\n",
       "      <td>0.007472</td>\n",
       "      <td>0.001757</td>\n",
       "      <td>-0.013250</td>\n",
       "      <td>0.031683</td>\n",
       "      <td>-0.029484</td>\n",
       "      <td>-0.095904</td>\n",
       "    </tr>\n",
       "    <tr>\n",
       "      <th>base_cost</th>\n",
       "      <td>-0.005241</td>\n",
       "      <td>0.040723</td>\n",
       "      <td>0.007472</td>\n",
       "      <td>1.000000</td>\n",
       "      <td>0.012973</td>\n",
       "      <td>0.007132</td>\n",
       "      <td>0.028577</td>\n",
       "      <td>0.034327</td>\n",
       "      <td>-0.015458</td>\n",
       "    </tr>\n",
       "    <tr>\n",
       "      <th>block_count</th>\n",
       "      <td>0.011103</td>\n",
       "      <td>-0.026112</td>\n",
       "      <td>0.001757</td>\n",
       "      <td>0.012973</td>\n",
       "      <td>1.000000</td>\n",
       "      <td>0.012788</td>\n",
       "      <td>0.030286</td>\n",
       "      <td>0.012282</td>\n",
       "      <td>-0.006744</td>\n",
       "    </tr>\n",
       "    <tr>\n",
       "      <th>is_used_app</th>\n",
       "      <td>0.046018</td>\n",
       "      <td>-0.022328</td>\n",
       "      <td>-0.013250</td>\n",
       "      <td>0.007132</td>\n",
       "      <td>0.012788</td>\n",
       "      <td>1.000000</td>\n",
       "      <td>-0.017679</td>\n",
       "      <td>0.010767</td>\n",
       "      <td>-0.083752</td>\n",
       "    </tr>\n",
       "    <tr>\n",
       "      <th>month_incall_mean</th>\n",
       "      <td>-0.044111</td>\n",
       "      <td>0.007470</td>\n",
       "      <td>0.031683</td>\n",
       "      <td>0.028577</td>\n",
       "      <td>0.030286</td>\n",
       "      <td>-0.017679</td>\n",
       "      <td>1.000000</td>\n",
       "      <td>0.567645</td>\n",
       "      <td>-0.043212</td>\n",
       "    </tr>\n",
       "    <tr>\n",
       "      <th>month_outcall_mean</th>\n",
       "      <td>-0.053912</td>\n",
       "      <td>0.005794</td>\n",
       "      <td>-0.029484</td>\n",
       "      <td>0.034327</td>\n",
       "      <td>0.012282</td>\n",
       "      <td>0.010767</td>\n",
       "      <td>0.567645</td>\n",
       "      <td>1.000000</td>\n",
       "      <td>-0.099839</td>\n",
       "    </tr>\n",
       "    <tr>\n",
       "      <th>add_service</th>\n",
       "      <td>0.521775</td>\n",
       "      <td>-0.000647</td>\n",
       "      <td>-0.095904</td>\n",
       "      <td>-0.015458</td>\n",
       "      <td>-0.006744</td>\n",
       "      <td>-0.083752</td>\n",
       "      <td>-0.043212</td>\n",
       "      <td>-0.099839</td>\n",
       "      <td>1.000000</td>\n",
       "    </tr>\n",
       "  </tbody>\n",
       "</table>\n",
       "</div>"
      ],
      "text/plain": [
       "                         age        No  month_from_start  base_cost  \\\n",
       "age                 1.000000  0.020843          0.016129  -0.005241   \n",
       "No                  0.020843  1.000000         -0.075299   0.040723   \n",
       "month_from_start    0.016129 -0.075299          1.000000   0.007472   \n",
       "base_cost          -0.005241  0.040723          0.007472   1.000000   \n",
       "block_count         0.011103 -0.026112          0.001757   0.012973   \n",
       "is_used_app         0.046018 -0.022328         -0.013250   0.007132   \n",
       "month_incall_mean  -0.044111  0.007470          0.031683   0.028577   \n",
       "month_outcall_mean -0.053912  0.005794         -0.029484   0.034327   \n",
       "add_service         0.521775 -0.000647         -0.095904  -0.015458   \n",
       "\n",
       "                    block_count  is_used_app  month_incall_mean  \\\n",
       "age                    0.011103     0.046018          -0.044111   \n",
       "No                    -0.026112    -0.022328           0.007470   \n",
       "month_from_start       0.001757    -0.013250           0.031683   \n",
       "base_cost              0.012973     0.007132           0.028577   \n",
       "block_count            1.000000     0.012788           0.030286   \n",
       "is_used_app            0.012788     1.000000          -0.017679   \n",
       "month_incall_mean      0.030286    -0.017679           1.000000   \n",
       "month_outcall_mean     0.012282     0.010767           0.567645   \n",
       "add_service           -0.006744    -0.083752          -0.043212   \n",
       "\n",
       "                    month_outcall_mean  add_service  \n",
       "age                          -0.053912     0.521775  \n",
       "No                            0.005794    -0.000647  \n",
       "month_from_start             -0.029484    -0.095904  \n",
       "base_cost                     0.034327    -0.015458  \n",
       "block_count                   0.012282    -0.006744  \n",
       "is_used_app                   0.010767    -0.083752  \n",
       "month_incall_mean             0.567645    -0.043212  \n",
       "month_outcall_mean            1.000000    -0.099839  \n",
       "add_service                  -0.099839     1.000000  "
      ]
     },
     "execution_count": 48,
     "metadata": {},
     "output_type": "execute_result"
    }
   ],
   "source": [
    "# код тут\n",
    "df.corr()"
   ]
  },
  {
   "cell_type": "markdown",
   "metadata": {},
   "source": [
    "month_outcall_mean, month_incall_mean"
   ]
  },
  {
   "cell_type": "code",
   "execution_count": 52,
   "metadata": {},
   "outputs": [
    {
     "name": "stdout",
     "output_type": "stream",
     "text": [
      "0.7076923076923077\n"
     ]
    }
   ],
   "source": [
    "from sklearn.model_selection import train_test_split\n",
    "from sklearn.metrics import accuracy_score\n",
    "\n",
    "\n",
    "X_train, X_test, y_train, y_test = train_test_split(X, y, test_size=0.2)\n",
    "\n",
    "model = DecisionTreeClassifier()\n",
    "model.fit(X_train, y_train)\n",
    "predicted = model.predict(X_test)\n",
    "score = accuracy_score(y_test, predicted)\n",
    "print(score)\n"
   ]
  },
  {
   "cell_type": "code",
   "execution_count": null,
   "metadata": {},
   "outputs": [],
   "source": []
  }
 ],
 "metadata": {
  "kernelspec": {
   "display_name": "Python 3",
   "language": "python",
   "name": "python3"
  },
  "language_info": {
   "codemirror_mode": {
    "name": "ipython",
    "version": 3
   },
   "file_extension": ".py",
   "mimetype": "text/x-python",
   "name": "python",
   "nbconvert_exporter": "python",
   "pygments_lexer": "ipython3",
   "version": "3.7.6"
  }
 },
 "nbformat": 4,
 "nbformat_minor": 4
}
