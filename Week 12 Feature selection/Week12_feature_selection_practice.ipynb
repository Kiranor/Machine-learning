{
 "cells": [
  {
   "cell_type": "markdown",
   "metadata": {},
   "source": [
    "## Неделя 12. Практическое занятие по отбору признаков."
   ]
  },
  {
   "cell_type": "markdown",
   "metadata": {},
   "source": [
    "**Feature Selection (отбор признаков)** - процесс отбора подмножества признаков, наиболее релевантных к решению задачи.\n",
    "\n",
    "Методы отбора признаков делятся на три группы:\n",
    "- Filter methods (методы фильтрации)\n",
    "- Embedded methods (встроенные методы)\n",
    "- Wrapper methods (методы обёртки)"
   ]
  },
  {
   "cell_type": "code",
   "execution_count": 11,
   "metadata": {},
   "outputs": [],
   "source": [
    "# импортируем все нужные библиотеки\n",
    "import pandas as pd\n",
    "import numpy as np\n",
    "\n",
    "from sklearn.model_selection import train_test_split\n",
    "from sklearn.feature_selection import SelectKBest, chi2, RFE\n",
    "from sklearn.linear_model import Lasso, LinearRegression\n",
    "from sklearn.ensemble import RandomForestClassifier, RandomForestRegressor\n",
    "from sklearn.metrics import r2_score\n",
    "\n",
    "import seaborn as sns"
   ]
  },
  {
   "cell_type": "code",
   "execution_count": 12,
   "metadata": {},
   "outputs": [],
   "source": [
    "GLOB_RAND_STATE = 0\n",
    "np.random.seed(GLOB_RAND_STATE)\n",
    "rng = np.random.RandomState(GLOB_RAND_STATE)"
   ]
  },
  {
   "cell_type": "markdown",
   "metadata": {},
   "source": [
    "### Методы фильтрации.\n",
    "**Filter methods (методы фильтрации)** для отбора используют свойства признаков, а не метрики моделей. Их плюс в лёгкости вычисления, но они часто проигрывают методам обёртки в конечном качестве моделей."
   ]
  },
  {
   "cell_type": "markdown",
   "metadata": {},
   "source": [
    "**Хи-квадрат** определяет значимую разницу между наблюдаемой и ожидаемой частотами двух категориальных переменных"
   ]
  },
  {
   "cell_type": "code",
   "execution_count": 13,
   "metadata": {},
   "outputs": [],
   "source": [
    "# ссылка для скачивания датасета\n",
    "# https://www.kaggle.com/uciml/red-wine-quality-cortez-et-al-2009"
   ]
  },
  {
   "cell_type": "code",
   "execution_count": 14,
   "metadata": {},
   "outputs": [],
   "source": [
    "wine_data = pd.read_csv('winequality-red.csv')"
   ]
  },
  {
   "cell_type": "code",
   "execution_count": 15,
   "metadata": {},
   "outputs": [
    {
     "data": {
      "text/plain": [
       "Index(['fixed acidity', 'volatile acidity', 'citric acid', 'residual sugar',\n",
       "       'chlorides', 'free sulfur dioxide', 'total sulfur dioxide', 'density',\n",
       "       'pH', 'sulphates', 'alcohol', 'quality'],\n",
       "      dtype='object')"
      ]
     },
     "execution_count": 15,
     "metadata": {},
     "output_type": "execute_result"
    }
   ],
   "source": [
    "wine_data.columns"
   ]
  },
  {
   "cell_type": "code",
   "execution_count": 16,
   "metadata": {},
   "outputs": [],
   "source": [
    "X_train_w, X_test_w, y_train_w, y_test_w = train_test_split(wine_data.drop('quality',axis=1),\n",
    "                                                            wine_data['quality'],\n",
    "                                                            test_size=0.2,\n",
    "                                                            random_state=GLOB_RAND_STATE)"
   ]
  },
  {
   "cell_type": "code",
   "execution_count": 17,
   "metadata": {},
   "outputs": [
    {
     "data": {
      "text/plain": [
       "SelectKBest(k=5, score_func=<function chi2 at 0x00000134B9A27828>)"
      ]
     },
     "execution_count": 17,
     "metadata": {},
     "output_type": "execute_result"
    }
   ],
   "source": [
    "sel_k_best = SelectKBest(chi2, k=5)\n",
    "sel_k_best.fit(X_train_w, y_train_w)"
   ]
  },
  {
   "cell_type": "code",
   "execution_count": 18,
   "metadata": {},
   "outputs": [],
   "source": [
    "X_train_w_selected = pd.DataFrame(sel_k_best.transform(X_train_w),\n",
    "                    columns=[a for a,b in zip(wine_data.columns,sel_k_best.get_support()) if b])"
   ]
  },
  {
   "cell_type": "code",
   "execution_count": 19,
   "metadata": {},
   "outputs": [],
   "source": [
    "chi2_cols = X_train_w_selected.columns"
   ]
  },
  {
   "cell_type": "code",
   "execution_count": 20,
   "metadata": {},
   "outputs": [
    {
     "data": {
      "text/plain": [
       "Index(['volatile acidity', 'citric acid', 'free sulfur dioxide',\n",
       "       'total sulfur dioxide', 'alcohol'],\n",
       "      dtype='object')"
      ]
     },
     "execution_count": 20,
     "metadata": {},
     "output_type": "execute_result"
    }
   ],
   "source": [
    "chi2_cols"
   ]
  },
  {
   "cell_type": "markdown",
   "metadata": {},
   "source": [
    "### Встроенные методы\n",
    "**LASSO (L1 регуляризация)** позволяет в процессе обучения полностью занулить коэффициенты всех не влияющих на целевую переменную признаков посредством ввода штрафа на абсолютное значение коэффициента."
   ]
  },
  {
   "cell_type": "code",
   "execution_count": 21,
   "metadata": {},
   "outputs": [],
   "source": [
    "# для демонстрации работы встроенных методов сгенерируем игрушечный датасет\n",
    "# с обычной линейной зависимостью y = 38*x1 + 12.5*x2 -0.7*x3 - 120*x4 + 9.05*x5 + 1.2\n",
    "data = pd.DataFrame({'x1':rng.randint(0,10,1000),\n",
    "                     'x2':rng.randint(0,30,1000),\n",
    "                     'x3':rng.randint(0,50,1000),\n",
    "                     'x4':rng.uniform(0,1,1000),\n",
    "                     'x5':rng.uniform(0,1,1000)})\n",
    "data['y'] = data.apply(lambda x: 38*x['x1'] + 12.5*x['x2'] - 0.7*x['x3'] - 120*x['x4'] + 9.05*x['x5'] + 1.2, axis=1)"
   ]
  },
  {
   "cell_type": "code",
   "execution_count": 22,
   "metadata": {},
   "outputs": [],
   "source": [
    "# теперь зашумим второй и четвёртый признаки\n",
    "data['x2'] = data['x2'].apply(lambda x: x + rng.randint(0,15,1)[0])\n",
    "data['x4'] = data['x4'].apply(lambda x: x + rng.uniform(0,30,1)[0])\n",
    "# добавим один мусорный признак\n",
    "data['x6'] = rng.randint(0,70,1000)\n",
    "# и добавим один признак, сильно коррелирующий с другим\n",
    "data['x7'] = data['x1'].copy()"
   ]
  },
  {
   "cell_type": "code",
   "execution_count": 23,
   "metadata": {},
   "outputs": [],
   "source": [
    "data = data[['x1','x2','x3','x4','x5','x6','x7','y']]"
   ]
  },
  {
   "cell_type": "code",
   "execution_count": 24,
   "metadata": {},
   "outputs": [
    {
     "data": {
      "text/plain": [
       "<matplotlib.axes._subplots.AxesSubplot at 0x134ba438648>"
      ]
     },
     "execution_count": 24,
     "metadata": {},
     "output_type": "execute_result"
    },
    {
     "data": {
      "image/png": "[encoded data removed]",
      "text/plain": [
       "<Figure size 432x288 with 1 Axes>"
      ]
     },
     "metadata": {
      "needs_background": "light"
     },
     "output_type": "display_data"
    }
   ],
   "source": [
    "# посмотрим на распределение таргета\n",
    "sns.distplot(data['y'])"
   ]
  },
  {
   "cell_type": "code",
   "execution_count": 25,
   "metadata": {},
   "outputs": [],
   "source": [
    "# теперь поделим на трейн и тест в соотношении 80/20\n",
    "# так как определять, какие признаки нужно убрать мы будем только на трейн части\n",
    "X_train, X_test, y_train, y_test = train_test_split(data.drop('y',axis=1),\n",
    "                                                    data['y'],\n",
    "                                                    test_size=0.2,\n",
    "                                                    random_state=GLOB_RAND_STATE)"
   ]
  },
  {
   "cell_type": "code",
   "execution_count": 26,
   "metadata": {},
   "outputs": [
    {
     "name": "stdout",
     "output_type": "stream",
     "text": [
      "\n",
      " Alpha = 1\n",
      "{'x1': 35.560041267419315, 'x2': 9.91151985881373, 'x3': -0.31088586042351657, 'x4': 0.2649742076710004, 'x5': -0.0, 'x6': 0.036469771704283546, 'x7': 1.9984309657915593}\n",
      "\n",
      " Alpha = 6\n",
      "{'x1': 34.92997663066339, 'x2': 9.845158077723761, 'x3': -0.27916441514329854, 'x4': 0.19748928513042435, 'x5': -0.0, 'x6': 0.02569092453009743, 'x7': 1.973664291586401}\n",
      "\n",
      " Alpha = 11\n",
      "{'x1': 34.29991199390747, 'x2': 9.778796296633795, 'x3': -0.24744296986308076, 'x4': 0.13000436258984793, 'x5': -0.0, 'x6': 0.014912077355911362, 'x7': 1.948897617381235}\n",
      "\n",
      " Alpha = 16\n",
      "{'x1': 33.66984735715154, 'x2': 9.712434515543826, 'x3': -0.21572152458286292, 'x4': 0.06251944004927171, 'x5': -0.0, 'x6': 0.0041332301817252224, 'x7': 1.9241309431760838}\n",
      "\n",
      " Alpha = 21\n",
      "{'x1': 33.039782720395614, 'x2': 9.64613961832307, 'x3': -0.18409858316466837, 'x4': 0.0, 'x5': -0.0, 'x6': 0.0, 'x7': 1.898770896150747}\n",
      "\n",
      " Alpha = 26\n",
      "{'x1': 32.4097180836397, 'x2': 9.57879831854136, 'x3': -0.15176210789160616, 'x4': 0.0, 'x5': -0.0, 'x6': 0.0, 'x7': 1.8779324829378867}\n",
      "\n",
      " Alpha = 31\n",
      "{'x1': 31.779653446883778, 'x2': 9.511457018759643, 'x3': -0.11942563261854358, 'x4': 0.0, 'x5': -0.0, 'x6': 0.0, 'x7': 1.8570940697250364}\n",
      "\n",
      " Alpha = 36\n",
      "{'x1': 31.149588810127838, 'x2': 9.444115718977931, 'x3': -0.08708915734548127, 'x4': 0.0, 'x5': -0.0, 'x6': 0.0, 'x7': 1.8362556565122001}\n",
      "\n",
      " Alpha = 41\n",
      "{'x1': 30.51952417337193, 'x2': 9.376774419196215, 'x3': -0.054752682072418825, 'x4': 0.0, 'x5': -0.0, 'x6': 0.0, 'x7': 1.815417243299336}\n",
      "\n",
      " Alpha = 46\n",
      "{'x1': 29.88945953661601, 'x2': 9.309433119414503, 'x3': -0.022416206799356474, 'x4': 0.0, 'x5': -0.0, 'x6': 0.0, 'x7': 1.7945788300864813}\n"
     ]
    }
   ],
   "source": [
    "# пеосмотрим, какие из признаков зануляются, в зависимости от кэффициентов alpha\n",
    "for alpha in np.arange(1,50,5):\n",
    "    print('\\n Alpha = {}'.format(alpha))\n",
    "    lasso = Lasso(alpha=alpha, random_state=GLOB_RAND_STATE)\n",
    "    lasso.fit(X_train, y_train)\n",
    "    print({a:b for a,b in zip(X_train.columns, lasso.coef_)})"
   ]
  },
  {
   "cell_type": "code",
   "execution_count": 27,
   "metadata": {},
   "outputs": [
    {
     "name": "stdout",
     "output_type": "stream",
     "text": [
      "R2 = 0.86\n"
     ]
    }
   ],
   "source": [
    "# попробуем теперь обучить модель с произвольным параметром alpha и посмотреть ошибку на тесте\n",
    "lasso = Lasso(alpha=1, random_state=GLOB_RAND_STATE)\n",
    "lasso.fit(X_train, y_train)\n",
    "print('R2 = {:.2f}'.format(r2_score(y_test.values, lasso.predict(X_test))))"
   ]
  },
  {
   "cell_type": "code",
   "execution_count": 28,
   "metadata": {},
   "outputs": [
    {
     "name": "stdout",
     "output_type": "stream",
     "text": [
      "R2 all features = 0.86\n",
      "R2 non-zero = 0.86\n"
     ]
    }
   ],
   "source": [
    "# а теперь обучим две линейные регрессии: на всех признаках, и на тех, коэффициенты у которых при самом большом alpha\n",
    "lreg = LinearRegression()\n",
    "lreg.fit(X_train, y_train)\n",
    "print('R2 all features = {:.2f}'.format(r2_score(y_test.values, lreg.predict(X_test))))\n",
    "\n",
    "zero_coef = ['x4','x5','x6','x7']\n",
    "lreg = LinearRegression()\n",
    "lreg.fit(X_train.drop(zero_coef, axis=1), y_train)\n",
    "print('R2 non-zero = {:.2f}'.format(r2_score(y_test.values, lreg.predict(X_test.drop(zero_coef, axis=1)))))"
   ]
  },
  {
   "cell_type": "code",
   "execution_count": 29,
   "metadata": {},
   "outputs": [
    {
     "data": {
      "text/html": [
       "<div>\n",
       "<style scoped>\n",
       "    .dataframe tbody tr th:only-of-type {\n",
       "        vertical-align: middle;\n",
       "    }\n",
       "\n",
       "    .dataframe tbody tr th {\n",
       "        vertical-align: top;\n",
       "    }\n",
       "\n",
       "    .dataframe thead th {\n",
       "        text-align: right;\n",
       "    }\n",
       "</style>\n",
       "<table border=\"1\" class=\"dataframe\">\n",
       "  <thead>\n",
       "    <tr style=\"text-align: right;\">\n",
       "      <th></th>\n",
       "      <th>x1</th>\n",
       "      <th>x2</th>\n",
       "      <th>x3</th>\n",
       "      <th>x4</th>\n",
       "      <th>x5</th>\n",
       "      <th>x6</th>\n",
       "      <th>x7</th>\n",
       "      <th>y</th>\n",
       "    </tr>\n",
       "  </thead>\n",
       "  <tbody>\n",
       "    <tr>\n",
       "      <th>x1</th>\n",
       "      <td>1.000000</td>\n",
       "      <td>-0.054291</td>\n",
       "      <td>0.056686</td>\n",
       "      <td>-0.026301</td>\n",
       "      <td>0.032415</td>\n",
       "      <td>0.032219</td>\n",
       "      <td>1.000000</td>\n",
       "      <td>0.680340</td>\n",
       "    </tr>\n",
       "    <tr>\n",
       "      <th>x2</th>\n",
       "      <td>-0.054291</td>\n",
       "      <td>1.000000</td>\n",
       "      <td>0.014474</td>\n",
       "      <td>0.002228</td>\n",
       "      <td>0.039777</td>\n",
       "      <td>-0.046708</td>\n",
       "      <td>-0.054291</td>\n",
       "      <td>0.581724</td>\n",
       "    </tr>\n",
       "    <tr>\n",
       "      <th>x3</th>\n",
       "      <td>0.056686</td>\n",
       "      <td>0.014474</td>\n",
       "      <td>1.000000</td>\n",
       "      <td>-0.039155</td>\n",
       "      <td>0.034876</td>\n",
       "      <td>0.006335</td>\n",
       "      <td>0.056686</td>\n",
       "      <td>0.021299</td>\n",
       "    </tr>\n",
       "    <tr>\n",
       "      <th>x4</th>\n",
       "      <td>-0.026301</td>\n",
       "      <td>0.002228</td>\n",
       "      <td>-0.039155</td>\n",
       "      <td>1.000000</td>\n",
       "      <td>0.003984</td>\n",
       "      <td>0.026349</td>\n",
       "      <td>-0.026301</td>\n",
       "      <td>0.000581</td>\n",
       "    </tr>\n",
       "    <tr>\n",
       "      <th>x5</th>\n",
       "      <td>0.032415</td>\n",
       "      <td>0.039777</td>\n",
       "      <td>0.034876</td>\n",
       "      <td>0.003984</td>\n",
       "      <td>1.000000</td>\n",
       "      <td>0.024842</td>\n",
       "      <td>0.032415</td>\n",
       "      <td>0.041266</td>\n",
       "    </tr>\n",
       "    <tr>\n",
       "      <th>x6</th>\n",
       "      <td>0.032219</td>\n",
       "      <td>-0.046708</td>\n",
       "      <td>0.006335</td>\n",
       "      <td>0.026349</td>\n",
       "      <td>0.024842</td>\n",
       "      <td>1.000000</td>\n",
       "      <td>0.032219</td>\n",
       "      <td>-0.001569</td>\n",
       "    </tr>\n",
       "    <tr>\n",
       "      <th>x7</th>\n",
       "      <td>1.000000</td>\n",
       "      <td>-0.054291</td>\n",
       "      <td>0.056686</td>\n",
       "      <td>-0.026301</td>\n",
       "      <td>0.032415</td>\n",
       "      <td>0.032219</td>\n",
       "      <td>1.000000</td>\n",
       "      <td>0.680340</td>\n",
       "    </tr>\n",
       "    <tr>\n",
       "      <th>y</th>\n",
       "      <td>0.680340</td>\n",
       "      <td>0.581724</td>\n",
       "      <td>0.021299</td>\n",
       "      <td>0.000581</td>\n",
       "      <td>0.041266</td>\n",
       "      <td>-0.001569</td>\n",
       "      <td>0.680340</td>\n",
       "      <td>1.000000</td>\n",
       "    </tr>\n",
       "  </tbody>\n",
       "</table>\n",
       "</div>"
      ],
      "text/plain": [
       "          x1        x2        x3        x4        x5        x6        x7  \\\n",
       "x1  1.000000 -0.054291  0.056686 -0.026301  0.032415  0.032219  1.000000   \n",
       "x2 -0.054291  1.000000  0.014474  0.002228  0.039777 -0.046708 -0.054291   \n",
       "x3  0.056686  0.014474  1.000000 -0.039155  0.034876  0.006335  0.056686   \n",
       "x4 -0.026301  0.002228 -0.039155  1.000000  0.003984  0.026349 -0.026301   \n",
       "x5  0.032415  0.039777  0.034876  0.003984  1.000000  0.024842  0.032415   \n",
       "x6  0.032219 -0.046708  0.006335  0.026349  0.024842  1.000000  0.032219   \n",
       "x7  1.000000 -0.054291  0.056686 -0.026301  0.032415  0.032219  1.000000   \n",
       "y   0.680340  0.581724  0.021299  0.000581  0.041266 -0.001569  0.680340   \n",
       "\n",
       "           y  \n",
       "x1  0.680340  \n",
       "x2  0.581724  \n",
       "x3  0.021299  \n",
       "x4  0.000581  \n",
       "x5  0.041266  \n",
       "x6 -0.001569  \n",
       "x7  0.680340  \n",
       "y   1.000000  "
      ]
     },
     "execution_count": 29,
     "metadata": {},
     "output_type": "execute_result"
    }
   ],
   "source": [
    "# посмотрим здесь же, помогло бы нам выделение коррелирующих признаков?\n",
    "data.corr()"
   ]
  },
  {
   "cell_type": "markdown",
   "metadata": {},
   "source": [
    "### Методы обёртки."
   ]
  },
  {
   "cell_type": "markdown",
   "metadata": {},
   "source": [
    "**Методы обёртки (wrapper methods)** используют обученную модель для оценки выбранного подмножества признаков. Они наиболее вычислительно сложны. "
   ]
  },
  {
   "cell_type": "code",
   "execution_count": 30,
   "metadata": {},
   "outputs": [],
   "source": [
    "# В sklearn есть реализация RFE (Recursive feature elimination) - воспользуемся ей на двух предыдущих примерах\n",
    "# попробуем сначала линейную регрессию\n",
    "lreg = LinearRegression()\n",
    "rfe = RFE(lreg, n_features_to_select=5, step=1)"
   ]
  },
  {
   "cell_type": "code",
   "execution_count": 31,
   "metadata": {},
   "outputs": [],
   "source": [
    "rfe.fit(X_train_w, y_train_w)\n",
    "X_train_w_selected = pd.DataFrame(rfe.transform(X_train_w),\n",
    "                    columns=[a for a,b in zip(wine_data.columns,rfe.get_support()) if b])"
   ]
  },
  {
   "cell_type": "code",
   "execution_count": 32,
   "metadata": {},
   "outputs": [],
   "source": [
    "rfe_w_cols_lreg = X_train_w_selected.columns"
   ]
  },
  {
   "cell_type": "code",
   "execution_count": 33,
   "metadata": {},
   "outputs": [
    {
     "data": {
      "text/plain": [
       "Index(['volatile acidity', 'chlorides', 'density', 'pH', 'sulphates'], dtype='object')"
      ]
     },
     "execution_count": 33,
     "metadata": {},
     "output_type": "execute_result"
    }
   ],
   "source": [
    "rfe_w_cols_lreg"
   ]
  },
  {
   "cell_type": "code",
   "execution_count": 34,
   "metadata": {},
   "outputs": [],
   "source": [
    "# теперь для данных с линейной функцией\n",
    "lreg = LinearRegression()\n",
    "rfe = RFE(lreg, n_features_to_select=5, step=1)"
   ]
  },
  {
   "cell_type": "code",
   "execution_count": 35,
   "metadata": {},
   "outputs": [],
   "source": [
    "rfe.fit(X_train, y_train)\n",
    "X_train_selected = pd.DataFrame(rfe.transform(X_train),\n",
    "                    columns=[a for a,b in zip(data.columns,rfe.get_support()) if b])"
   ]
  },
  {
   "cell_type": "code",
   "execution_count": 36,
   "metadata": {},
   "outputs": [
    {
     "data": {
      "text/html": [
       "<div>\n",
       "<style scoped>\n",
       "    .dataframe tbody tr th:only-of-type {\n",
       "        vertical-align: middle;\n",
       "    }\n",
       "\n",
       "    .dataframe tbody tr th {\n",
       "        vertical-align: top;\n",
       "    }\n",
       "\n",
       "    .dataframe thead th {\n",
       "        text-align: right;\n",
       "    }\n",
       "</style>\n",
       "<table border=\"1\" class=\"dataframe\">\n",
       "  <thead>\n",
       "    <tr style=\"text-align: right;\">\n",
       "      <th></th>\n",
       "      <th>x1</th>\n",
       "      <th>x2</th>\n",
       "      <th>x3</th>\n",
       "      <th>x5</th>\n",
       "      <th>x7</th>\n",
       "    </tr>\n",
       "  </thead>\n",
       "  <tbody>\n",
       "    <tr>\n",
       "      <th>0</th>\n",
       "      <td>6.0</td>\n",
       "      <td>22.0</td>\n",
       "      <td>46.0</td>\n",
       "      <td>0.449234</td>\n",
       "      <td>6.0</td>\n",
       "    </tr>\n",
       "    <tr>\n",
       "      <th>1</th>\n",
       "      <td>9.0</td>\n",
       "      <td>32.0</td>\n",
       "      <td>48.0</td>\n",
       "      <td>0.002771</td>\n",
       "      <td>9.0</td>\n",
       "    </tr>\n",
       "    <tr>\n",
       "      <th>2</th>\n",
       "      <td>0.0</td>\n",
       "      <td>8.0</td>\n",
       "      <td>5.0</td>\n",
       "      <td>0.099908</td>\n",
       "      <td>0.0</td>\n",
       "    </tr>\n",
       "    <tr>\n",
       "      <th>3</th>\n",
       "      <td>0.0</td>\n",
       "      <td>16.0</td>\n",
       "      <td>16.0</td>\n",
       "      <td>0.114763</td>\n",
       "      <td>0.0</td>\n",
       "    </tr>\n",
       "    <tr>\n",
       "      <th>4</th>\n",
       "      <td>8.0</td>\n",
       "      <td>12.0</td>\n",
       "      <td>40.0</td>\n",
       "      <td>0.573674</td>\n",
       "      <td>8.0</td>\n",
       "    </tr>\n",
       "    <tr>\n",
       "      <th>...</th>\n",
       "      <td>...</td>\n",
       "      <td>...</td>\n",
       "      <td>...</td>\n",
       "      <td>...</td>\n",
       "      <td>...</td>\n",
       "    </tr>\n",
       "    <tr>\n",
       "      <th>795</th>\n",
       "      <td>4.0</td>\n",
       "      <td>12.0</td>\n",
       "      <td>34.0</td>\n",
       "      <td>0.630017</td>\n",
       "      <td>4.0</td>\n",
       "    </tr>\n",
       "    <tr>\n",
       "      <th>796</th>\n",
       "      <td>0.0</td>\n",
       "      <td>7.0</td>\n",
       "      <td>17.0</td>\n",
       "      <td>0.799730</td>\n",
       "      <td>0.0</td>\n",
       "    </tr>\n",
       "    <tr>\n",
       "      <th>797</th>\n",
       "      <td>2.0</td>\n",
       "      <td>15.0</td>\n",
       "      <td>41.0</td>\n",
       "      <td>0.142173</td>\n",
       "      <td>2.0</td>\n",
       "    </tr>\n",
       "    <tr>\n",
       "      <th>798</th>\n",
       "      <td>5.0</td>\n",
       "      <td>16.0</td>\n",
       "      <td>20.0</td>\n",
       "      <td>0.762233</td>\n",
       "      <td>5.0</td>\n",
       "    </tr>\n",
       "    <tr>\n",
       "      <th>799</th>\n",
       "      <td>6.0</td>\n",
       "      <td>17.0</td>\n",
       "      <td>30.0</td>\n",
       "      <td>0.152141</td>\n",
       "      <td>6.0</td>\n",
       "    </tr>\n",
       "  </tbody>\n",
       "</table>\n",
       "<p>800 rows × 5 columns</p>\n",
       "</div>"
      ],
      "text/plain": [
       "      x1    x2    x3        x5   x7\n",
       "0    6.0  22.0  46.0  0.449234  6.0\n",
       "1    9.0  32.0  48.0  0.002771  9.0\n",
       "2    0.0   8.0   5.0  0.099908  0.0\n",
       "3    0.0  16.0  16.0  0.114763  0.0\n",
       "4    8.0  12.0  40.0  0.573674  8.0\n",
       "..   ...   ...   ...       ...  ...\n",
       "795  4.0  12.0  34.0  0.630017  4.0\n",
       "796  0.0   7.0  17.0  0.799730  0.0\n",
       "797  2.0  15.0  41.0  0.142173  2.0\n",
       "798  5.0  16.0  20.0  0.762233  5.0\n",
       "799  6.0  17.0  30.0  0.152141  6.0\n",
       "\n",
       "[800 rows x 5 columns]"
      ]
     },
     "execution_count": 36,
     "metadata": {},
     "output_type": "execute_result"
    }
   ],
   "source": [
    "X_train_selected"
   ]
  },
  {
   "cell_type": "code",
   "execution_count": 37,
   "metadata": {},
   "outputs": [
    {
     "name": "stderr",
     "output_type": "stream",
     "text": [
      "Q:\\Programs\\Anaconda\\lib\\site-packages\\sklearn\\ensemble\\forest.py:245: FutureWarning: The default value of n_estimators will change from 10 in version 0.20 to 100 in 0.22.\n",
      "  \"10 in version 0.20 to 100 in 0.22.\", FutureWarning)\n",
      "Q:\\Programs\\Anaconda\\lib\\site-packages\\sklearn\\ensemble\\forest.py:245: FutureWarning: The default value of n_estimators will change from 10 in version 0.20 to 100 in 0.22.\n",
      "  \"10 in version 0.20 to 100 in 0.22.\", FutureWarning)\n",
      "Q:\\Programs\\Anaconda\\lib\\site-packages\\sklearn\\ensemble\\forest.py:245: FutureWarning: The default value of n_estimators will change from 10 in version 0.20 to 100 in 0.22.\n",
      "  \"10 in version 0.20 to 100 in 0.22.\", FutureWarning)\n",
      "Q:\\Programs\\Anaconda\\lib\\site-packages\\sklearn\\ensemble\\forest.py:245: FutureWarning: The default value of n_estimators will change from 10 in version 0.20 to 100 in 0.22.\n",
      "  \"10 in version 0.20 to 100 in 0.22.\", FutureWarning)\n",
      "Q:\\Programs\\Anaconda\\lib\\site-packages\\sklearn\\ensemble\\forest.py:245: FutureWarning: The default value of n_estimators will change from 10 in version 0.20 to 100 in 0.22.\n",
      "  \"10 in version 0.20 to 100 in 0.22.\", FutureWarning)\n",
      "Q:\\Programs\\Anaconda\\lib\\site-packages\\sklearn\\ensemble\\forest.py:245: FutureWarning: The default value of n_estimators will change from 10 in version 0.20 to 100 in 0.22.\n",
      "  \"10 in version 0.20 to 100 in 0.22.\", FutureWarning)\n",
      "Q:\\Programs\\Anaconda\\lib\\site-packages\\sklearn\\ensemble\\forest.py:245: FutureWarning: The default value of n_estimators will change from 10 in version 0.20 to 100 in 0.22.\n",
      "  \"10 in version 0.20 to 100 in 0.22.\", FutureWarning)\n"
     ]
    }
   ],
   "source": [
    "# попробуем случайный лес в качестве модели\n",
    "rf_clf = RandomForestClassifier()\n",
    "rfe = RFE(rf_clf, n_features_to_select=5, step=1)\n",
    "rfe.fit(X_train_w, y_train_w)\n",
    "X_train_w_selected = pd.DataFrame(rfe.transform(X_train_w),\n",
    "                    columns=[a for a,b in zip(wine_data.columns,rfe.get_support()) if b])"
   ]
  },
  {
   "cell_type": "code",
   "execution_count": 38,
   "metadata": {},
   "outputs": [],
   "source": [
    "rfe_w_cols_rf = X_train_w_selected.columns"
   ]
  },
  {
   "cell_type": "code",
   "execution_count": 39,
   "metadata": {},
   "outputs": [
    {
     "data": {
      "text/plain": [
       "Index(['volatile acidity', 'total sulfur dioxide', 'density', 'sulphates',\n",
       "       'alcohol'],\n",
       "      dtype='object')"
      ]
     },
     "execution_count": 39,
     "metadata": {},
     "output_type": "execute_result"
    }
   ],
   "source": [
    "rfe_w_cols_rf"
   ]
  },
  {
   "cell_type": "code",
   "execution_count": 40,
   "metadata": {},
   "outputs": [
    {
     "name": "stderr",
     "output_type": "stream",
     "text": [
      "Q:\\Programs\\Anaconda\\lib\\site-packages\\sklearn\\ensemble\\forest.py:245: FutureWarning: The default value of n_estimators will change from 10 in version 0.20 to 100 in 0.22.\n",
      "  \"10 in version 0.20 to 100 in 0.22.\", FutureWarning)\n",
      "Q:\\Programs\\Anaconda\\lib\\site-packages\\sklearn\\ensemble\\forest.py:245: FutureWarning: The default value of n_estimators will change from 10 in version 0.20 to 100 in 0.22.\n",
      "  \"10 in version 0.20 to 100 in 0.22.\", FutureWarning)\n",
      "Q:\\Programs\\Anaconda\\lib\\site-packages\\sklearn\\ensemble\\forest.py:245: FutureWarning: The default value of n_estimators will change from 10 in version 0.20 to 100 in 0.22.\n",
      "  \"10 in version 0.20 to 100 in 0.22.\", FutureWarning)\n"
     ]
    }
   ],
   "source": [
    "# теперь для данных с линейной функцией\n",
    "rf_reg = RandomForestRegressor()\n",
    "rfe = RFE(rf_reg, n_features_to_select=5, step=1)\n",
    "rfe.fit(X_train, y_train)\n",
    "X_train_selected = pd.DataFrame(rfe.transform(X_train),\n",
    "                    columns=[a for a,b in zip(data.columns,rfe.get_support()) if b])"
   ]
  },
  {
   "cell_type": "code",
   "execution_count": 41,
   "metadata": {},
   "outputs": [
    {
     "data": {
      "text/html": [
       "<div>\n",
       "<style scoped>\n",
       "    .dataframe tbody tr th:only-of-type {\n",
       "        vertical-align: middle;\n",
       "    }\n",
       "\n",
       "    .dataframe tbody tr th {\n",
       "        vertical-align: top;\n",
       "    }\n",
       "\n",
       "    .dataframe thead th {\n",
       "        text-align: right;\n",
       "    }\n",
       "</style>\n",
       "<table border=\"1\" class=\"dataframe\">\n",
       "  <thead>\n",
       "    <tr style=\"text-align: right;\">\n",
       "      <th></th>\n",
       "      <th>x1</th>\n",
       "      <th>x2</th>\n",
       "      <th>x4</th>\n",
       "      <th>x6</th>\n",
       "      <th>x7</th>\n",
       "    </tr>\n",
       "  </thead>\n",
       "  <tbody>\n",
       "    <tr>\n",
       "      <th>0</th>\n",
       "      <td>6.0</td>\n",
       "      <td>22.0</td>\n",
       "      <td>2.547094</td>\n",
       "      <td>58.0</td>\n",
       "      <td>6.0</td>\n",
       "    </tr>\n",
       "    <tr>\n",
       "      <th>1</th>\n",
       "      <td>9.0</td>\n",
       "      <td>32.0</td>\n",
       "      <td>13.653516</td>\n",
       "      <td>12.0</td>\n",
       "      <td>9.0</td>\n",
       "    </tr>\n",
       "    <tr>\n",
       "      <th>2</th>\n",
       "      <td>0.0</td>\n",
       "      <td>8.0</td>\n",
       "      <td>7.701481</td>\n",
       "      <td>5.0</td>\n",
       "      <td>0.0</td>\n",
       "    </tr>\n",
       "    <tr>\n",
       "      <th>3</th>\n",
       "      <td>0.0</td>\n",
       "      <td>16.0</td>\n",
       "      <td>29.768094</td>\n",
       "      <td>0.0</td>\n",
       "      <td>0.0</td>\n",
       "    </tr>\n",
       "    <tr>\n",
       "      <th>4</th>\n",
       "      <td>8.0</td>\n",
       "      <td>12.0</td>\n",
       "      <td>15.126199</td>\n",
       "      <td>66.0</td>\n",
       "      <td>8.0</td>\n",
       "    </tr>\n",
       "    <tr>\n",
       "      <th>...</th>\n",
       "      <td>...</td>\n",
       "      <td>...</td>\n",
       "      <td>...</td>\n",
       "      <td>...</td>\n",
       "      <td>...</td>\n",
       "    </tr>\n",
       "    <tr>\n",
       "      <th>795</th>\n",
       "      <td>4.0</td>\n",
       "      <td>12.0</td>\n",
       "      <td>5.929999</td>\n",
       "      <td>57.0</td>\n",
       "      <td>4.0</td>\n",
       "    </tr>\n",
       "    <tr>\n",
       "      <th>796</th>\n",
       "      <td>0.0</td>\n",
       "      <td>7.0</td>\n",
       "      <td>23.353043</td>\n",
       "      <td>66.0</td>\n",
       "      <td>0.0</td>\n",
       "    </tr>\n",
       "    <tr>\n",
       "      <th>797</th>\n",
       "      <td>2.0</td>\n",
       "      <td>15.0</td>\n",
       "      <td>12.160262</td>\n",
       "      <td>12.0</td>\n",
       "      <td>2.0</td>\n",
       "    </tr>\n",
       "    <tr>\n",
       "      <th>798</th>\n",
       "      <td>5.0</td>\n",
       "      <td>16.0</td>\n",
       "      <td>9.050827</td>\n",
       "      <td>3.0</td>\n",
       "      <td>5.0</td>\n",
       "    </tr>\n",
       "    <tr>\n",
       "      <th>799</th>\n",
       "      <td>6.0</td>\n",
       "      <td>17.0</td>\n",
       "      <td>7.315794</td>\n",
       "      <td>9.0</td>\n",
       "      <td>6.0</td>\n",
       "    </tr>\n",
       "  </tbody>\n",
       "</table>\n",
       "<p>800 rows × 5 columns</p>\n",
       "</div>"
      ],
      "text/plain": [
       "      x1    x2         x4    x6   x7\n",
       "0    6.0  22.0   2.547094  58.0  6.0\n",
       "1    9.0  32.0  13.653516  12.0  9.0\n",
       "2    0.0   8.0   7.701481   5.0  0.0\n",
       "3    0.0  16.0  29.768094   0.0  0.0\n",
       "4    8.0  12.0  15.126199  66.0  8.0\n",
       "..   ...   ...        ...   ...  ...\n",
       "795  4.0  12.0   5.929999  57.0  4.0\n",
       "796  0.0   7.0  23.353043  66.0  0.0\n",
       "797  2.0  15.0  12.160262  12.0  2.0\n",
       "798  5.0  16.0   9.050827   3.0  5.0\n",
       "799  6.0  17.0   7.315794   9.0  6.0\n",
       "\n",
       "[800 rows x 5 columns]"
      ]
     },
     "execution_count": 41,
     "metadata": {},
     "output_type": "execute_result"
    }
   ],
   "source": [
    "X_train_selected"
   ]
  },
  {
   "cell_type": "code",
   "execution_count": 42,
   "metadata": {},
   "outputs": [],
   "source": [
    "# посмотрим на различия в выбранных признаках для датасета wine\n",
    "s1 = set(chi2_cols)\n",
    "s2 = set(rfe_w_cols_lreg)\n",
    "s3 = set(rfe_w_cols_rf)"
   ]
  },
  {
   "cell_type": "code",
   "execution_count": 43,
   "metadata": {},
   "outputs": [
    {
     "data": {
      "text/plain": [
       "({'volatile acidity'},\n",
       " {'alcohol', 'total sulfur dioxide', 'volatile acidity'},\n",
       " {'density', 'sulphates', 'volatile acidity'})"
      ]
     },
     "execution_count": 43,
     "metadata": {},
     "output_type": "execute_result"
    }
   ],
   "source": [
    "s1.intersection(s2), s1.intersection(s3), s2.intersection(s3)"
   ]
  }
 ],
 "metadata": {
  "kernelspec": {
   "display_name": "Python 3",
   "language": "python",
   "name": "python3"
  },
  "language_info": {
   "codemirror_mode": {
    "name": "ipython",
    "version": 3
   },
   "file_extension": ".py",
   "mimetype": "text/x-python",
   "name": "python",
   "nbconvert_exporter": "python",
   "pygments_lexer": "ipython3",
   "version": "3.7.6"
  }
 },
 "nbformat": 4,
 "nbformat_minor": 4
}
